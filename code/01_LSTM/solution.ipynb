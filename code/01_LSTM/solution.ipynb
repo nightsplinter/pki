{
 "cells": [
  {
   "cell_type": "markdown",
   "metadata": {},
   "source": [
    "# LSTM"
   ]
  },
  {
   "cell_type": "markdown",
   "metadata": {},
   "source": [
    "# 1. Schritt: Audio-Dateien laden und in MFCCs umwandeln"
   ]
  },
  {
   "cell_type": "code",
   "execution_count": 1,
   "metadata": {},
   "outputs": [
    {
     "name": "stderr",
     "output_type": "stream",
     "text": [
      "2025-03-05 22:44:01.722409: I tensorflow/core/platform/cpu_feature_guard.cc:193] This TensorFlow binary is optimized with oneAPI Deep Neural Network Library (oneDNN) to use the following CPU instructions in performance-critical operations:  SSE4.1 SSE4.2\n",
      "To enable them in other operations, rebuild TensorFlow with the appropriate compiler flags.\n",
      "/Users/paula/opt/anaconda3/lib/python3.9/site-packages/librosa/core/spectrum.py:266: UserWarning: n_fft=2048 is too large for input signal of length=0\n",
      "  warnings.warn(\n",
      "/Users/paula/opt/anaconda3/lib/python3.9/site-packages/librosa/feature/spectral.py:2143: UserWarning: Empty filters detected in mel frequency basis. Some channels will produce empty responses. Try increasing your sampling rate (and fmax) or reducing n_mels.\n",
      "  mel_basis = filters.mel(sr=sr, n_fft=n_fft, **kwargs)\n"
     ]
    },
    {
     "name": "stdout",
     "output_type": "stream",
     "text": [
      "Positive Coswara samples:  1356\n",
      "Negative Coswara samples:  3098\n",
      "Positive Virufy samples:  7\n",
      "Negative Virufy samples:  9\n",
      "Positive Coughvid samples:  9983\n",
      "Negative Coughvid samples:  924\n",
      "15377 15377\n"
     ]
    }
   ],
   "source": [
    "import sys\n",
    "\n",
    "import numpy as np\n",
    "import os\n",
    "sys.path.append(os.path.abspath(\"..\"))\n",
    "\n",
    "from feature_extraction import get_mfccs_from_coswara_audio_files\n",
    "from feature_extraction import get_mfccs_from_virufy_audio_files\n",
    "from feature_extraction import get_mfccs_from_coughvid_audio_files\n",
    "from feature_extraction import get_valid_coswara_folder_names\n",
    "\n",
    "labels_dict = {0: \"neg\", 1: \"pos\"}\n",
    "\n",
    "labels, mfccs = [], []\n",
    "\n",
    "p_folder_names, n_folder_names = get_valid_coswara_folder_names()\n",
    "\n",
    "# Umwandlung der Coswara-Audio-Dateien in MFCCss\n",
    "p_coswara_mfccs, p_coswara_labels = get_mfccs_from_coswara_audio_files(\n",
    "    p_folder_names, is_positive=True\n",
    ")\n",
    "\n",
    "n_coswara_mfccs, n_coswara_labels = get_mfccs_from_coswara_audio_files(\n",
    "    n_folder_names, is_positive=False\n",
    ")\n",
    "\n",
    "print(\"Positive Coswara samples: \", len(p_coswara_mfccs))\n",
    "print(\"Negative Coswara samples: \", len(n_coswara_mfccs))\n",
    "\n",
    "# Umwandlung der Virufy-Audio-Dateien in MFCCs\n",
    "p_virufy_mfccs, p_virufy_labels = get_mfccs_from_virufy_audio_files(\n",
    "    is_positive=True\n",
    ")\n",
    "n_virufy_mfccs, n_virufy_labels = get_mfccs_from_virufy_audio_files(\n",
    "    is_positive=False\n",
    ")\n",
    "\n",
    "print(\"Positive Virufy samples: \", len(p_virufy_mfccs))\n",
    "print(\"Negative Virufy samples: \", len(n_virufy_mfccs))\n",
    "\n",
    "n_coughvid_folder_names = \"neg\"\n",
    "p_coughvid_folder_names = \"pos\"\n",
    "\n",
    "# Umwandlung der Coughvid-Audio-Dateien in MFCCs\n",
    "p_coughvid_mfccs, p_coughvid_labels = get_mfccs_from_coughvid_audio_files(\n",
    "    n_coughvid_folder_names,\n",
    "    is_positive=True\n",
    ")\n",
    "n_coughvid_mfccs, n_coughvid_labels = get_mfccs_from_coughvid_audio_files(\n",
    "    p_coughvid_folder_names,\n",
    "    is_positive=False\n",
    ")\n",
    "\n",
    "print(\"Positive Coughvid samples: \", len(p_coughvid_mfccs))\n",
    "print(\"Negative Coughvid samples: \", len(n_coughvid_mfccs))\n",
    "\n",
    "mfcc = np.concatenate(\n",
    "    (p_coswara_mfccs, n_coswara_mfccs, p_virufy_mfccs, n_virufy_mfccs,\n",
    "     p_coughvid_mfccs, n_coughvid_mfccs)\n",
    ")\n",
    "\n",
    "labels = np.concatenate(\n",
    "    (p_coswara_labels, n_coswara_labels, p_virufy_labels, n_virufy_labels,\n",
    "     p_coughvid_labels, n_coughvid_labels)\n",
    ")\n",
    "\n",
    "mfcc = np.array(mfcc, dtype=np.float32)\n",
    "\n",
    "labels = np.array(labels, dtype=np.int32)\n",
    "\n",
    "print(len(mfcc), len(labels))\n"
   ]
  },
  {
   "cell_type": "markdown",
   "metadata": {},
   "source": [
    "# 2. Schritt: Aufteilen der Daten in Trainings- und Testdaten"
   ]
  },
  {
   "cell_type": "code",
   "execution_count": 2,
   "metadata": {},
   "outputs": [
    {
     "name": "stdout",
     "output_type": "stream",
     "text": [
      "mfcc_train.shape: (10763, 128, 1),\n",
      "    labels_train.shape: (10763, 2)\n",
      "mfcc_test.shape: (2307, 128, 1),\n",
      "    labels_test.shape: (2307, 2)\n"
     ]
    }
   ],
   "source": [
    "from sklearn.model_selection import train_test_split\n",
    "from tensorflow.keras.utils import to_categorical\n",
    "\n",
    "\n",
    "# Labels in One-Hot-Encoding umwandeln\n",
    "labels = to_categorical(labels, num_classes=2)\n",
    "\n",
    "# Train-Test-Split durchführen\n",
    "# Daten in 70% Training und 30% für die Validierung und Test aufteilen\n",
    "mfcc_train, mfcc_temp, labels_train, labels_temp = train_test_split(\n",
    "    mfcc, labels, test_size=0.3, random_state=42\n",
    ")\n",
    "\n",
    "# 30% werden nochmal in 15% für die Validierung und 15% für den Test aufgeteilt\n",
    "mfcc_val, mfcc_test, labels_val, labels_test = train_test_split(\n",
    "    mfcc_temp, labels_temp, test_size=0.5, random_state=42\n",
    ")\n",
    "\n",
    "print(\n",
    "    f\"\"\"mfcc_train.shape: {mfcc_train.shape},\n",
    "    labels_train.shape: {labels_train.shape}\"\"\"\n",
    ")\n",
    "print(\n",
    "    f\"\"\"mfcc_test.shape: {mfcc_test.shape},\n",
    "    labels_test.shape: {labels_test.shape}\"\"\"\n",
    ")\n"
   ]
  },
  {
   "cell_type": "markdown",
   "metadata": {},
   "source": [
    "# 3. Schritt: Erstellen des LSTM-Modells"
   ]
  },
  {
   "cell_type": "code",
   "execution_count": 3,
   "metadata": {},
   "outputs": [],
   "source": [
    "# Konfiguration des Trainingsprozesses\n",
    "BATCH_SIZE = 64\n",
    "EPOCHS = 30\n",
    "ACTIVATION_1 = \"relu\"\n",
    "ACTIVATION_2 = \"softmax\"\n",
    "METRIC = \"accuracy\"\n",
    "LOSS = \"binary_crossentropy\"\n",
    "OPTIMIZER = \"adam\"\n"
   ]
  },
  {
   "cell_type": "code",
   "execution_count": 4,
   "metadata": {},
   "outputs": [],
   "source": [
    "import tensorflow as tf\n",
    "from tensorflow.keras.models import Sequential\n",
    "from tensorflow.keras.layers import LSTM, Dense, Bidirectional, BatchNormalization\n",
    "from tensorflow.keras.models import Sequential\n",
    "from tensorflow.keras.layers import Input\n",
    "from tensorflow.keras.layers import Dropout\n",
    "\n",
    "def build_lstm(*, isBidirectional: bool) -> Sequential:\n",
    "    input_shape = mfcc[0].shape\n",
    "\n",
    "    # model = Sequential([\n",
    "    #     Input(shape=input_shape),\n",
    "    #     # Adding more LSTM layers with dropout\n",
    "    #     Bidirectional(LSTM(128, return_sequences=True, recurrent_dropout=0.2)),\n",
    "    #         Dropout(0.3),\n",
    "    #         Bidirectional(LSTM(64)) if isBidirectional else LSTM(64),\n",
    "    #         Dropout(0.3),\n",
    "    #         BatchNormalization(),\n",
    "    #         Dense(64, activation=ACTIVATION_1,\n",
    "    #                 kernel_regularizer=tf.keras.regularizers.l2(0.001)),\n",
    "    #         Dropout(0.2),\n",
    "    #         Dense(len(labels_dict), activation=ACTIVATION_2)\n",
    "    #     ])\n",
    "\n",
    "    # Alternative Modelle:\n",
    "    if isBidirectional:\n",
    "        model = Sequential([\n",
    "            Input(shape=input_shape),\n",
    "            Bidirectional(LSTM(128)),\n",
    "            Dense(len(labels_dict), activation=ACTIVATION_2),\n",
    "        ])\n",
    "    else:\n",
    "        model = Sequential([\n",
    "            Input(shape=input_shape),\n",
    "            LSTM(128),\n",
    "            Dense(len(labels_dict), activation=ACTIVATION_2),\n",
    "        ])\n",
    "\n",
    "    model.summary()\n",
    "    return model\n"
   ]
  },
  {
   "cell_type": "markdown",
   "metadata": {},
   "source": [
    "## 3.1. Modell erstellen"
   ]
  },
  {
   "cell_type": "code",
   "execution_count": 5,
   "metadata": {},
   "outputs": [
    {
     "name": "stdout",
     "output_type": "stream",
     "text": [
      "Model: \"sequential\"\n",
      "_________________________________________________________________\n",
      " Layer (type)                Output Shape              Param #   \n",
      "=================================================================\n",
      " bidirectional (Bidirectiona  (None, 256)              133120    \n",
      " l)                                                              \n",
      "                                                                 \n",
      " dense (Dense)               (None, 2)                 514       \n",
      "                                                                 \n",
      "=================================================================\n",
      "Total params: 133,634\n",
      "Trainable params: 133,634\n",
      "Non-trainable params: 0\n",
      "_________________________________________________________________\n"
     ]
    }
   ],
   "source": [
    "bidirectional_model = build_lstm(isBidirectional=True)\n",
    "bidirectional_model.compile(optimizer=OPTIMIZER, loss=LOSS, metrics=[METRIC])\n"
   ]
  },
  {
   "cell_type": "code",
   "execution_count": 6,
   "metadata": {},
   "outputs": [
    {
     "name": "stdout",
     "output_type": "stream",
     "text": [
      "Model: \"sequential_1\"\n",
      "_________________________________________________________________\n",
      " Layer (type)                Output Shape              Param #   \n",
      "=================================================================\n",
      " lstm_1 (LSTM)               (None, 128)               66560     \n",
      "                                                                 \n",
      " dense_1 (Dense)             (None, 2)                 258       \n",
      "                                                                 \n",
      "=================================================================\n",
      "Total params: 66,818\n",
      "Trainable params: 66,818\n",
      "Non-trainable params: 0\n",
      "_________________________________________________________________\n"
     ]
    }
   ],
   "source": [
    "model = build_lstm(isBidirectional=False)\n",
    "model.compile(optimizer=OPTIMIZER, loss=LOSS, metrics=[METRIC])\n"
   ]
  },
  {
   "cell_type": "code",
   "execution_count": 7,
   "metadata": {},
   "outputs": [],
   "source": [
    "def train_and_wandbLog(\n",
    "    model, mfcc_train, labels_train, mfcc_test, labels_test, *, with_future: bool\n",
    "):\n",
    "    \"\"\"Trainiert das Modell und loggt die Metriken in Weights & Biases.\n",
    "\n",
    "    :param model: Modell, das trainiert werden soll\n",
    "    :param mfcc_train: Trainingsdaten (MFCCs)\n",
    "    :param labels_train: Trainingsdaten (Labels)\n",
    "    :param mfcc_test: Testdaten (MFCCs)\n",
    "    :param labels_test: Testdaten (Labels)\n",
    "    :param with_future: Boolean, ob die Zukunft berücksichtigt werden soll\n",
    "    :return: History-Objekt des Trainingsprozesses\n",
    "    \"\"\"\n",
    "    # Auskommentieren um Weights & Biases zu verwenden\n",
    "    # import wandb\n",
    "\n",
    "    # wandb.init(\n",
    "    #     project=\"cnn_covid_audio_classification\",\n",
    "    #     config={\n",
    "    #         \"batch_size\": BATCH_SIZE,\n",
    "    #         \"epochs\": EPOCHS,\n",
    "    #         \"architecture\": \"CNN\",\n",
    "    #         \"dataset\": \"coswara + virufy + coughvid\",\n",
    "    #         \"activation_1\": ACTIVATION_1,\n",
    "    #         \"activation_2\": ACTIVATION_2,\n",
    "    #         \"metric\": METRIC,\n",
    "    #         \"loss\": LOSS,\n",
    "    #         \"optimizer\": OPTIMIZER,\n",
    "    #     },\n",
    "    # )\n",
    "\n",
    "    # WandB Run Name setzen\n",
    "    FUTURE = \"FUTURE\" if with_future else \"NO_FUTURE\"\n",
    "    # wandb.run.name = f\"{FUTURE}_batch_size_{BATCH_SIZE}_epochs_{EPOCHS}_activation_1_{ACTIVATION_1}_activation_2_{ACTIVATION_2}_metric_{METRIC}_loss_{LOSS}_optimizer_{OPTIMIZER}\"\n",
    "\n",
    "    # history = model.fit(\n",
    "    #     mfcc_train,\n",
    "    #     labels_train,\n",
    "    #     epochs=EPOCHS,\n",
    "    #     batch_size=BATCH_SIZE,\n",
    "    #     validation_data=(mfcc_test, labels_test),\n",
    "    #     # callbacks=[\n",
    "    #     #     wandb.keras.WandbMetricsLogger(log_freq=5),\n",
    "    #     #     wandb.keras.WandbModelCheckpoint(\"models\"),\n",
    "    #     # ],\n",
    "    # )\n",
    "\n",
    "    history = model.fit(\n",
    "        mfcc_train,\n",
    "        labels_train,\n",
    "        epochs=EPOCHS,\n",
    "        batch_size=BATCH_SIZE,\n",
    "        validation_data=(mfcc_test, labels_test),\n",
    "    )\n",
    "\n",
    "    # wandb.finish()\n",
    "    return history\n"
   ]
  },
  {
   "cell_type": "code",
   "execution_count": 8,
   "metadata": {},
   "outputs": [
    {
     "name": "stdout",
     "output_type": "stream",
     "text": [
      "Epoch 1/30\n",
      "169/169 [==============================] - 15s 79ms/step - loss: 0.5704 - accuracy: 0.7399 - val_loss: 0.5828 - val_accuracy: 0.7213\n",
      "Epoch 2/30\n",
      "169/169 [==============================] - 13s 76ms/step - loss: 0.5555 - accuracy: 0.7412 - val_loss: 0.5659 - val_accuracy: 0.7208\n",
      "Epoch 3/30\n",
      "169/169 [==============================] - 13s 75ms/step - loss: 0.5503 - accuracy: 0.7416 - val_loss: 0.5660 - val_accuracy: 0.7230\n",
      "Epoch 4/30\n",
      "169/169 [==============================] - 13s 77ms/step - loss: 0.5418 - accuracy: 0.7421 - val_loss: 0.5610 - val_accuracy: 0.7256\n",
      "Epoch 5/30\n",
      "169/169 [==============================] - 13s 77ms/step - loss: 0.5357 - accuracy: 0.7433 - val_loss: 0.5402 - val_accuracy: 0.7326\n",
      "Epoch 6/30\n",
      "169/169 [==============================] - 13s 76ms/step - loss: 0.5315 - accuracy: 0.7494 - val_loss: 0.5487 - val_accuracy: 0.7243\n",
      "Epoch 7/30\n",
      "169/169 [==============================] - 13s 76ms/step - loss: 0.5260 - accuracy: 0.7496 - val_loss: 0.5385 - val_accuracy: 0.7343\n",
      "Epoch 8/30\n",
      "169/169 [==============================] - 13s 76ms/step - loss: 0.5212 - accuracy: 0.7481 - val_loss: 0.5363 - val_accuracy: 0.7365\n",
      "Epoch 9/30\n",
      "169/169 [==============================] - 13s 76ms/step - loss: 0.5188 - accuracy: 0.7537 - val_loss: 0.5283 - val_accuracy: 0.7460\n",
      "Epoch 10/30\n",
      "169/169 [==============================] - 13s 80ms/step - loss: 0.5118 - accuracy: 0.7569 - val_loss: 0.5255 - val_accuracy: 0.7434\n",
      "Epoch 11/30\n",
      "169/169 [==============================] - 13s 76ms/step - loss: 0.5076 - accuracy: 0.7586 - val_loss: 0.5202 - val_accuracy: 0.7490\n",
      "Epoch 12/30\n",
      "169/169 [==============================] - 13s 76ms/step - loss: 0.5033 - accuracy: 0.7610 - val_loss: 0.5231 - val_accuracy: 0.7421\n",
      "Epoch 13/30\n",
      "169/169 [==============================] - 13s 76ms/step - loss: 0.4994 - accuracy: 0.7626 - val_loss: 0.5279 - val_accuracy: 0.7473\n",
      "Epoch 14/30\n",
      "169/169 [==============================] - 13s 75ms/step - loss: 0.4936 - accuracy: 0.7690 - val_loss: 0.5199 - val_accuracy: 0.7525\n",
      "Epoch 15/30\n",
      "169/169 [==============================] - 13s 75ms/step - loss: 0.4895 - accuracy: 0.7717 - val_loss: 0.5128 - val_accuracy: 0.7573\n",
      "Epoch 16/30\n",
      "169/169 [==============================] - 13s 75ms/step - loss: 0.4867 - accuracy: 0.7736 - val_loss: 0.5119 - val_accuracy: 0.7573\n",
      "Epoch 17/30\n",
      "169/169 [==============================] - 13s 74ms/step - loss: 0.4814 - accuracy: 0.7792 - val_loss: 0.5261 - val_accuracy: 0.7473\n",
      "Epoch 18/30\n",
      "169/169 [==============================] - 13s 79ms/step - loss: 0.4794 - accuracy: 0.7801 - val_loss: 0.5050 - val_accuracy: 0.7720\n",
      "Epoch 19/30\n",
      "169/169 [==============================] - 13s 75ms/step - loss: 0.4740 - accuracy: 0.7843 - val_loss: 0.5356 - val_accuracy: 0.7469\n",
      "Epoch 20/30\n",
      "169/169 [==============================] - 13s 75ms/step - loss: 0.4720 - accuracy: 0.7872 - val_loss: 0.5100 - val_accuracy: 0.7603\n",
      "Epoch 21/30\n",
      "169/169 [==============================] - 12s 74ms/step - loss: 0.4688 - accuracy: 0.7867 - val_loss: 0.5034 - val_accuracy: 0.7685\n",
      "Epoch 22/30\n",
      "169/169 [==============================] - 13s 74ms/step - loss: 0.4656 - accuracy: 0.7885 - val_loss: 0.5123 - val_accuracy: 0.7573\n",
      "Epoch 23/30\n",
      "169/169 [==============================] - 13s 74ms/step - loss: 0.4639 - accuracy: 0.7922 - val_loss: 0.5077 - val_accuracy: 0.7651\n",
      "Epoch 24/30\n",
      "169/169 [==============================] - 12s 73ms/step - loss: 0.4590 - accuracy: 0.7971 - val_loss: 0.5066 - val_accuracy: 0.7681\n",
      "Epoch 25/30\n",
      "169/169 [==============================] - 13s 75ms/step - loss: 0.4566 - accuracy: 0.7987 - val_loss: 0.5138 - val_accuracy: 0.7568\n",
      "Epoch 26/30\n",
      "169/169 [==============================] - 13s 75ms/step - loss: 0.4592 - accuracy: 0.7972 - val_loss: 0.5053 - val_accuracy: 0.7577\n",
      "Epoch 27/30\n",
      "169/169 [==============================] - 13s 76ms/step - loss: 0.4493 - accuracy: 0.7997 - val_loss: 0.5049 - val_accuracy: 0.7594\n",
      "Epoch 28/30\n",
      "169/169 [==============================] - 13s 75ms/step - loss: 0.4438 - accuracy: 0.8054 - val_loss: 0.5042 - val_accuracy: 0.7677\n",
      "Epoch 29/30\n",
      "169/169 [==============================] - 13s 74ms/step - loss: 0.4459 - accuracy: 0.8079 - val_loss: 0.4985 - val_accuracy: 0.7733\n",
      "Epoch 30/30\n",
      "169/169 [==============================] - 13s 75ms/step - loss: 0.4375 - accuracy: 0.8101 - val_loss: 0.5088 - val_accuracy: 0.7646\n",
      "73/73 - 2s - loss: 0.5088 - accuracy: 0.7646 - 2s/epoch - 21ms/step\n",
      "\n",
      "Test accuracy: 0.7646293640136719\n",
      "73/73 - 2s - loss: 0.5088 - accuracy: 0.7646 - 2s/epoch - 21ms/step\n"
     ]
    }
   ],
   "source": [
    "# Training des Modells\n",
    "history = train_and_wandbLog(\n",
    "    model, mfcc_train, labels_train, mfcc_test, labels_test, with_future=True\n",
    ")\n",
    "test_loss, test_acc = model.evaluate(mfcc_test, labels_test, verbose=2)\n",
    "\n",
    "print(\"\\nTest accuracy:\", test_acc)\n",
    "test_loss, test_acc = model.evaluate(mfcc_test, labels_test, verbose=2)\n"
   ]
  },
  {
   "cell_type": "code",
   "execution_count": 9,
   "metadata": {},
   "outputs": [
    {
     "name": "stdout",
     "output_type": "stream",
     "text": [
      "Epoch 1/30\n",
      "169/169 [==============================] - 17s 89ms/step - loss: 0.5760 - accuracy: 0.7370 - val_loss: 0.5870 - val_accuracy: 0.7213\n",
      "Epoch 2/30\n",
      "169/169 [==============================] - 15s 86ms/step - loss: 0.5606 - accuracy: 0.7400 - val_loss: 0.5737 - val_accuracy: 0.7213\n",
      "Epoch 3/30\n",
      "169/169 [==============================] - 15s 86ms/step - loss: 0.5532 - accuracy: 0.7389 - val_loss: 0.5593 - val_accuracy: 0.7213\n",
      "Epoch 4/30\n",
      "169/169 [==============================] - 15s 86ms/step - loss: 0.5414 - accuracy: 0.7425 - val_loss: 0.5521 - val_accuracy: 0.7256\n",
      "Epoch 5/30\n",
      "169/169 [==============================] - 15s 86ms/step - loss: 0.5311 - accuracy: 0.7478 - val_loss: 0.5474 - val_accuracy: 0.7248\n",
      "Epoch 6/30\n",
      "169/169 [==============================] - 15s 87ms/step - loss: 0.5279 - accuracy: 0.7505 - val_loss: 0.5773 - val_accuracy: 0.7000\n",
      "Epoch 7/30\n",
      "169/169 [==============================] - 15s 87ms/step - loss: 0.5251 - accuracy: 0.7477 - val_loss: 0.5533 - val_accuracy: 0.7239\n",
      "Epoch 8/30\n",
      "169/169 [==============================] - 15s 87ms/step - loss: 0.5108 - accuracy: 0.7563 - val_loss: 0.5438 - val_accuracy: 0.7365\n",
      "Epoch 9/30\n",
      "169/169 [==============================] - 15s 87ms/step - loss: 0.5094 - accuracy: 0.7582 - val_loss: 0.5408 - val_accuracy: 0.7369\n",
      "Epoch 10/30\n",
      "169/169 [==============================] - 15s 87ms/step - loss: 0.5029 - accuracy: 0.7661 - val_loss: 0.5298 - val_accuracy: 0.7456\n",
      "Epoch 11/30\n",
      "169/169 [==============================] - 15s 87ms/step - loss: 0.4966 - accuracy: 0.7705 - val_loss: 0.5203 - val_accuracy: 0.7477\n",
      "Epoch 12/30\n",
      "169/169 [==============================] - 15s 87ms/step - loss: 0.4908 - accuracy: 0.7693 - val_loss: 0.5131 - val_accuracy: 0.7560\n",
      "Epoch 13/30\n",
      "169/169 [==============================] - 15s 87ms/step - loss: 0.4901 - accuracy: 0.7730 - val_loss: 0.5159 - val_accuracy: 0.7495\n",
      "Epoch 14/30\n",
      "169/169 [==============================] - 15s 87ms/step - loss: 0.4843 - accuracy: 0.7739 - val_loss: 0.5192 - val_accuracy: 0.7568\n",
      "Epoch 15/30\n",
      "169/169 [==============================] - 15s 87ms/step - loss: 0.4848 - accuracy: 0.7759 - val_loss: 0.5198 - val_accuracy: 0.7577\n",
      "Epoch 16/30\n",
      "169/169 [==============================] - 15s 87ms/step - loss: 0.4782 - accuracy: 0.7765 - val_loss: 0.5153 - val_accuracy: 0.7599\n",
      "Epoch 17/30\n",
      "169/169 [==============================] - 15s 87ms/step - loss: 0.4733 - accuracy: 0.7823 - val_loss: 0.5275 - val_accuracy: 0.7642\n",
      "Epoch 18/30\n",
      "169/169 [==============================] - 15s 88ms/step - loss: 0.4716 - accuracy: 0.7825 - val_loss: 0.5136 - val_accuracy: 0.7698\n",
      "Epoch 19/30\n",
      "169/169 [==============================] - 15s 87ms/step - loss: 0.4670 - accuracy: 0.7859 - val_loss: 0.5123 - val_accuracy: 0.7633\n",
      "Epoch 20/30\n",
      "169/169 [==============================] - 15s 87ms/step - loss: 0.4634 - accuracy: 0.7895 - val_loss: 0.5120 - val_accuracy: 0.7703\n",
      "Epoch 21/30\n",
      "169/169 [==============================] - 15s 87ms/step - loss: 0.4632 - accuracy: 0.7900 - val_loss: 0.5055 - val_accuracy: 0.7664\n",
      "Epoch 22/30\n",
      "169/169 [==============================] - 15s 87ms/step - loss: 0.4551 - accuracy: 0.7982 - val_loss: 0.5194 - val_accuracy: 0.7607\n",
      "Epoch 23/30\n",
      "169/169 [==============================] - 15s 88ms/step - loss: 0.4590 - accuracy: 0.7921 - val_loss: 0.5105 - val_accuracy: 0.7607\n",
      "Epoch 24/30\n",
      "169/169 [==============================] - 15s 88ms/step - loss: 0.4539 - accuracy: 0.7965 - val_loss: 0.5095 - val_accuracy: 0.7707\n",
      "Epoch 25/30\n",
      "169/169 [==============================] - 15s 87ms/step - loss: 0.4502 - accuracy: 0.7949 - val_loss: 0.5031 - val_accuracy: 0.7750\n",
      "Epoch 26/30\n",
      "169/169 [==============================] - 15s 87ms/step - loss: 0.4472 - accuracy: 0.8020 - val_loss: 0.5022 - val_accuracy: 0.7729\n",
      "Epoch 27/30\n",
      "169/169 [==============================] - 15s 88ms/step - loss: 0.4457 - accuracy: 0.8008 - val_loss: 0.5132 - val_accuracy: 0.7620\n",
      "Epoch 28/30\n",
      "169/169 [==============================] - 15s 87ms/step - loss: 0.4399 - accuracy: 0.8058 - val_loss: 0.5085 - val_accuracy: 0.7698\n",
      "Epoch 29/30\n",
      "169/169 [==============================] - 15s 87ms/step - loss: 0.4361 - accuracy: 0.8062 - val_loss: 0.5248 - val_accuracy: 0.7612\n",
      "Epoch 30/30\n",
      "169/169 [==============================] - 15s 87ms/step - loss: 0.4381 - accuracy: 0.8056 - val_loss: 0.5090 - val_accuracy: 0.7655\n",
      "73/73 - 2s - loss: 0.5090 - accuracy: 0.7655 - 2s/epoch - 22ms/step\n",
      "\n",
      "Test accuracy: 0.7654963135719299\n"
     ]
    }
   ],
   "source": [
    "bidirectional_history = train_and_wandbLog(\n",
    "    bidirectional_model,\n",
    "    mfcc_train,\n",
    "    labels_train,\n",
    "    mfcc_test,\n",
    "    labels_test,\n",
    "    with_future=False,\n",
    ")\n",
    "\n",
    "test_loss, test_acc = bidirectional_model.evaluate(mfcc_test, labels_test, verbose=2)\n",
    "\n",
    "print(\"\\nTest accuracy:\", test_acc)\n"
   ]
  },
  {
   "cell_type": "code",
   "execution_count": 10,
   "metadata": {},
   "outputs": [
    {
     "data": {
      "image/png": "[encoded data removed]",
      "text/plain": [
       "<Figure size 432x288 with 1 Axes>"
      ]
     },
     "metadata": {
      "needs_background": "light"
     },
     "output_type": "display_data"
    },
    {
     "name": "stdout",
     "output_type": "stream",
     "text": [
      "73/73 - 2s - loss: 0.5088 - accuracy: 0.7646 - 2s/epoch - 21ms/step\n",
      "Main Model Test Accuracy: 0.7646\n",
      "Main Model Test Loss: 0.5088\n"
     ]
    },
    {
     "data": {
      "image/png": "[encoded data removed]",
      "text/plain": [
       "<Figure size 432x288 with 1 Axes>"
      ]
     },
     "metadata": {
      "needs_background": "light"
     },
     "output_type": "display_data"
    },
    {
     "name": "stdout",
     "output_type": "stream",
     "text": [
      "73/73 - 2s - loss: 0.5090 - accuracy: 0.7655 - 2s/epoch - 22ms/step\n",
      "Causal Model Test Accuracy: 0.7655\n",
      "Causal Model Test Loss: 0.5090\n"
     ]
    }
   ],
   "source": [
    "import matplotlib.pyplot as plt\n",
    "\n",
    "\n",
    "def plot_accuracy_and_evaluate(\n",
    "    model: Sequential,\n",
    "    history: Sequential,\n",
    "    mfcc_test: dict,\n",
    "    labels_test: dict,\n",
    "    model_name: str = \"Model\",\n",
    ") -> None:\n",
    "    \"\"\"Plottet die Trainings- und Validierungsgenauigkeit.\n",
    "\n",
    "    :param model: Modell, das evaluiert werden soll\n",
    "    :param history: Trainingshistorie des Modells\n",
    "    :param mfcc_test: Testdaten (MFCC)\n",
    "    :param labels_test: Testlabels\n",
    "    :param model_name: Name des Modells\n",
    "    \"\"\"\n",
    "    plt.plot(history.history[\"accuracy\"], label=\"Train Accuracy\")\n",
    "    plt.plot(history.history[\"val_accuracy\"], label=\"Validation Accuracy\")\n",
    "    plt.xlabel(\"Epoch\")\n",
    "    plt.ylabel(\"Accuracy\")\n",
    "    plt.ylim([0.5, 1])\n",
    "    plt.title(f\"{model_name} Accuracy over Epochs\")\n",
    "    plt.legend(loc=\"lower right\")\n",
    "    plt.show()\n",
    "\n",
    "    test_loss, test_acc = model.evaluate(mfcc_test, labels_test, verbose=2)\n",
    "    print(f\"{model_name} Test Accuracy: {test_acc:.4f}\")\n",
    "    print(f\"{model_name} Test Loss: {test_loss:.4f}\")\n",
    "\n",
    "\n",
    "# Beispielaufruf für das Standardmodell (Mit Zukunftsinformation)\n",
    "plot_accuracy_and_evaluate(\n",
    "    model, history, mfcc_test, labels_test, model_name=\"Main Model\"\n",
    ")\n",
    "\n",
    "# Beispielaufruf für das Causal Modell (Ohne Zukunftsinformation)\n",
    "plot_accuracy_and_evaluate(\n",
    "    bidirectional_model,\n",
    "   bidirectional_history,\n",
    "    mfcc_test,\n",
    "    labels_test,\n",
    "    model_name=\"Causal Model\",\n",
    ")\n"
   ]
  }
 ],
 "metadata": {
  "kernelspec": {
   "display_name": "Python 3",
   "language": "python",
   "name": "python3"
  },
  "language_info": {
   "codemirror_mode": {
    "name": "ipython",
    "version": 3
   },
   "file_extension": ".py",
   "mimetype": "text/x-python",
   "name": "python",
   "nbconvert_exporter": "python",
   "pygments_lexer": "ipython3",
   "version": "3.9.12"
  }
 },
 "nbformat": 4,
 "nbformat_minor": 2
}
