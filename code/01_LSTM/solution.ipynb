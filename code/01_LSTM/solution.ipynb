{
 "cells": [
  {
   "cell_type": "markdown",
   "metadata": {},
   "source": [
    "# LSTM"
   ]
  },
  {
   "cell_type": "markdown",
   "metadata": {},
   "source": [
    "# 1. Schritt: Audio-Dateien laden und in MFCCs umwandeln"
   ]
  },
  {
   "cell_type": "code",
   "execution_count": 1,
   "metadata": {},
   "outputs": [
    {
     "name": "stderr",
     "output_type": "stream",
     "text": [
      "2025-03-06 07:19:07.427922: I tensorflow/core/platform/cpu_feature_guard.cc:193] This TensorFlow binary is optimized with oneAPI Deep Neural Network Library (oneDNN) to use the following CPU instructions in performance-critical operations:  SSE4.1 SSE4.2\n",
      "To enable them in other operations, rebuild TensorFlow with the appropriate compiler flags.\n",
      "/Users/paula/opt/anaconda3/lib/python3.9/site-packages/librosa/core/spectrum.py:266: UserWarning: n_fft=2048 is too large for input signal of length=0\n",
      "  warnings.warn(\n",
      "/Users/paula/opt/anaconda3/lib/python3.9/site-packages/librosa/feature/spectral.py:2143: UserWarning: Empty filters detected in mel frequency basis. Some channels will produce empty responses. Try increasing your sampling rate (and fmax) or reducing n_mels.\n",
      "  mel_basis = filters.mel(sr=sr, n_fft=n_fft, **kwargs)\n"
     ]
    },
    {
     "name": "stdout",
     "output_type": "stream",
     "text": [
      "Positive Coswara samples:  1356\n",
      "Negative Coswara samples:  3098\n",
      "Positive Virufy samples:  7\n",
      "Negative Virufy samples:  9\n",
      "Positive Coughvid samples:  9983\n",
      "Negative Coughvid samples:  924\n",
      "15377 15377\n"
     ]
    }
   ],
   "source": [
    "import sys\n",
    "\n",
    "import numpy as np\n",
    "import os\n",
    "sys.path.append(os.path.abspath(\"..\"))\n",
    "\n",
    "from feature_extraction import get_mfccs_from_coswara_audio_files\n",
    "from feature_extraction import get_mfccs_from_virufy_audio_files\n",
    "from feature_extraction import get_mfccs_from_coughvid_audio_files\n",
    "from feature_extraction import get_valid_coswara_folder_names\n",
    "\n",
    "labels_dict = {0: \"neg\", 1: \"pos\"}\n",
    "\n",
    "labels, mfccs = [], []\n",
    "\n",
    "p_folder_names, n_folder_names = get_valid_coswara_folder_names()\n",
    "\n",
    "# Umwandlung der Coswara-Audio-Dateien in MFCCss\n",
    "p_coswara_mfccs, p_coswara_labels = get_mfccs_from_coswara_audio_files(\n",
    "    p_folder_names, is_positive=True\n",
    ")\n",
    "\n",
    "n_coswara_mfccs, n_coswara_labels = get_mfccs_from_coswara_audio_files(\n",
    "    n_folder_names, is_positive=False\n",
    ")\n",
    "\n",
    "print(\"Positive Coswara samples: \", len(p_coswara_mfccs))\n",
    "print(\"Negative Coswara samples: \", len(n_coswara_mfccs))\n",
    "\n",
    "# Umwandlung der Virufy-Audio-Dateien in MFCCs\n",
    "p_virufy_mfccs, p_virufy_labels = get_mfccs_from_virufy_audio_files(\n",
    "    is_positive=True\n",
    ")\n",
    "n_virufy_mfccs, n_virufy_labels = get_mfccs_from_virufy_audio_files(\n",
    "    is_positive=False\n",
    ")\n",
    "\n",
    "print(\"Positive Virufy samples: \", len(p_virufy_mfccs))\n",
    "print(\"Negative Virufy samples: \", len(n_virufy_mfccs))\n",
    "\n",
    "n_coughvid_folder_names = \"neg\"\n",
    "p_coughvid_folder_names = \"pos\"\n",
    "\n",
    "# Umwandlung der Coughvid-Audio-Dateien in MFCCs\n",
    "p_coughvid_mfccs, p_coughvid_labels = get_mfccs_from_coughvid_audio_files(\n",
    "    n_coughvid_folder_names,\n",
    "    is_positive=True\n",
    ")\n",
    "n_coughvid_mfccs, n_coughvid_labels = get_mfccs_from_coughvid_audio_files(\n",
    "    p_coughvid_folder_names,\n",
    "    is_positive=False\n",
    ")\n",
    "\n",
    "print(\"Positive Coughvid samples: \", len(p_coughvid_mfccs))\n",
    "print(\"Negative Coughvid samples: \", len(n_coughvid_mfccs))\n",
    "\n",
    "mfcc = np.concatenate(\n",
    "    (p_coswara_mfccs, n_coswara_mfccs, p_virufy_mfccs, n_virufy_mfccs,\n",
    "     p_coughvid_mfccs, n_coughvid_mfccs)\n",
    ")\n",
    "\n",
    "labels = np.concatenate(\n",
    "    (p_coswara_labels, n_coswara_labels, p_virufy_labels, n_virufy_labels,\n",
    "     p_coughvid_labels, n_coughvid_labels)\n",
    ")\n",
    "\n",
    "mfcc = np.array(mfcc, dtype=np.float32)\n",
    "\n",
    "labels = np.array(labels, dtype=np.int32)\n",
    "\n",
    "print(len(mfcc), len(labels))\n"
   ]
  },
  {
   "cell_type": "markdown",
   "metadata": {},
   "source": [
    "# 2. Schritt: Aufteilen der Daten in Trainings- und Testdaten"
   ]
  },
  {
   "cell_type": "code",
   "execution_count": 2,
   "metadata": {},
   "outputs": [
    {
     "name": "stdout",
     "output_type": "stream",
     "text": [
      "mfcc_train.shape: (12301, 128, 1),\n",
      "    labels_train.shape: (12301, 2)\n",
      "mfcc_test.shape: (3076, 128, 1),\n",
      "    labels_test.shape: (3076, 2)\n"
     ]
    }
   ],
   "source": [
    "from sklearn.model_selection import train_test_split\n",
    "from tensorflow.keras.utils import to_categorical\n",
    "\n",
    "\n",
    "# Labels in One-Hot-Encoding umwandeln\n",
    "labels = to_categorical(labels, num_classes=2)\n",
    "\n",
    "# Train-Test-Split durchführen\n",
    "# 80% Training, 20% Test\n",
    "mfcc_train, mfcc_test, labels_train, labels_test = train_test_split(\n",
    "    mfcc, labels, test_size=0.2, random_state=42\n",
    ")\n",
    "\n",
    "print(\n",
    "    f\"\"\"mfcc_train.shape: {mfcc_train.shape},\n",
    "    labels_train.shape: {labels_train.shape}\"\"\"\n",
    ")\n",
    "print(\n",
    "    f\"\"\"mfcc_test.shape: {mfcc_test.shape},\n",
    "    labels_test.shape: {labels_test.shape}\"\"\"\n",
    ")\n"
   ]
  },
  {
   "cell_type": "markdown",
   "metadata": {},
   "source": [
    "# 3. Schritt: Erstellen des LSTM-Modells"
   ]
  },
  {
   "cell_type": "code",
   "execution_count": 3,
   "metadata": {},
   "outputs": [],
   "source": [
    "# Konfiguration des Trainingsprozesses\n",
    "BATCH_SIZE = 64\n",
    "EPOCHS = 20\n",
    "ACTIVATION_1 = \"relu\"\n",
    "ACTIVATION_2 = \"softmax\"\n",
    "METRIC = \"accuracy\"\n",
    "LOSS = \"binary_crossentropy\"\n",
    "OPTIMIZER = \"adam\"\n"
   ]
  },
  {
   "cell_type": "code",
   "execution_count": 4,
   "metadata": {},
   "outputs": [],
   "source": [
    "import tensorflow as tf\n",
    "from tensorflow.keras.models import Sequential\n",
    "from tensorflow.keras.layers import LSTM, Dense, Bidirectional, BatchNormalization\n",
    "from tensorflow.keras.models import Sequential\n",
    "from tensorflow.keras.layers import Input\n",
    "from tensorflow.keras.layers import Dropout\n",
    "\n",
    "def build_lstm(*, isBidirectional: bool) -> Sequential:\n",
    "    input_shape = mfcc[0].shape\n",
    "\n",
    "    # model = Sequential([\n",
    "    #     Input(shape=input_shape),\n",
    "    #     # Adding more LSTM layers with dropout\n",
    "    #     Bidirectional(LSTM(128, return_sequences=True, recurrent_dropout=0.2)),\n",
    "    #         Dropout(0.3),\n",
    "    #         Bidirectional(LSTM(64)) if isBidirectional else LSTM(64),\n",
    "    #         Dropout(0.3),\n",
    "    #         BatchNormalization(),\n",
    "    #         Dense(64, activation=ACTIVATION_1,\n",
    "    #                 kernel_regularizer=tf.keras.regularizers.l2(0.001)),\n",
    "    #         Dropout(0.2),\n",
    "    #         Dense(len(labels_dict), activation=ACTIVATION_2)\n",
    "    #     ])\n",
    "\n",
    "    # Alternative Modelle:\n",
    "    if isBidirectional:\n",
    "        model = Sequential([\n",
    "            Input(shape=input_shape),\n",
    "            Bidirectional(LSTM(128)),\n",
    "            Dense(len(labels_dict), activation=ACTIVATION_2),\n",
    "        ])\n",
    "    else:\n",
    "        model = Sequential([\n",
    "            Input(shape=input_shape),\n",
    "            LSTM(128),\n",
    "            Dense(len(labels_dict), activation=ACTIVATION_2),\n",
    "        ])\n",
    "\n",
    "    model.summary()\n",
    "    return model\n"
   ]
  },
  {
   "cell_type": "markdown",
   "metadata": {},
   "source": [
    "## 3.1. Modell erstellen"
   ]
  },
  {
   "cell_type": "code",
   "execution_count": 5,
   "metadata": {},
   "outputs": [
    {
     "name": "stdout",
     "output_type": "stream",
     "text": [
      "Model: \"sequential\"\n",
      "_________________________________________________________________\n",
      " Layer (type)                Output Shape              Param #   \n",
      "=================================================================\n",
      " bidirectional (Bidirectiona  (None, 256)              133120    \n",
      " l)                                                              \n",
      "                                                                 \n",
      " dense (Dense)               (None, 2)                 514       \n",
      "                                                                 \n",
      "=================================================================\n",
      "Total params: 133,634\n",
      "Trainable params: 133,634\n",
      "Non-trainable params: 0\n",
      "_________________________________________________________________\n"
     ]
    }
   ],
   "source": [
    "bidirectional_model = build_lstm(isBidirectional=True)\n",
    "bidirectional_model.compile(optimizer=OPTIMIZER, loss=LOSS, metrics=[METRIC])\n"
   ]
  },
  {
   "cell_type": "code",
   "execution_count": 6,
   "metadata": {},
   "outputs": [
    {
     "name": "stdout",
     "output_type": "stream",
     "text": [
      "Model: \"sequential_1\"\n",
      "_________________________________________________________________\n",
      " Layer (type)                Output Shape              Param #   \n",
      "=================================================================\n",
      " lstm_1 (LSTM)               (None, 128)               66560     \n",
      "                                                                 \n",
      " dense_1 (Dense)             (None, 2)                 258       \n",
      "                                                                 \n",
      "=================================================================\n",
      "Total params: 66,818\n",
      "Trainable params: 66,818\n",
      "Non-trainable params: 0\n",
      "_________________________________________________________________\n"
     ]
    }
   ],
   "source": [
    "model = build_lstm(isBidirectional=False)\n",
    "model.compile(optimizer=OPTIMIZER, loss=LOSS, metrics=[METRIC])\n"
   ]
  },
  {
   "cell_type": "code",
   "execution_count": 7,
   "metadata": {},
   "outputs": [],
   "source": [
    "def train_and_wandbLog(\n",
    "    model, mfcc_train, labels_train, mfcc_test, labels_test, *, with_future: bool\n",
    "):\n",
    "    \"\"\"Trainiert das Modell und loggt die Metriken in Weights & Biases.\n",
    "\n",
    "    :param model: Modell, das trainiert werden soll\n",
    "    :param mfcc_train: Trainingsdaten (MFCCs)\n",
    "    :param labels_train: Trainingsdaten (Labels)\n",
    "    :param mfcc_test: Testdaten (MFCCs)\n",
    "    :param labels_test: Testdaten (Labels)\n",
    "    :param with_future: Boolean, ob die Zukunft berücksichtigt werden soll\n",
    "    :return: History-Objekt des Trainingsprozesses\n",
    "    \"\"\"\n",
    "    # Auskommentieren um Weights & Biases zu verwenden\n",
    "    # import wandb\n",
    "\n",
    "    # wandb.init(\n",
    "    #     project=\"cnn_covid_audio_classification\",\n",
    "    #     config={\n",
    "    #         \"batch_size\": BATCH_SIZE,\n",
    "    #         \"epochs\": EPOCHS,\n",
    "    #         \"architecture\": \"CNN\",\n",
    "    #         \"dataset\": \"coswara + virufy + coughvid\",\n",
    "    #         \"activation_1\": ACTIVATION_1,\n",
    "    #         \"activation_2\": ACTIVATION_2,\n",
    "    #         \"metric\": METRIC,\n",
    "    #         \"loss\": LOSS,\n",
    "    #         \"optimizer\": OPTIMIZER,\n",
    "    #     },\n",
    "    # )\n",
    "\n",
    "    # WandB Run Name setzen\n",
    "    FUTURE = \"FUTURE\" if with_future else \"NO_FUTURE\"\n",
    "    # wandb.run.name = f\"{FUTURE}_batch_size_{BATCH_SIZE}_epochs_{EPOCHS}_activation_1_{ACTIVATION_1}_activation_2_{ACTIVATION_2}_metric_{METRIC}_loss_{LOSS}_optimizer_{OPTIMIZER}\"\n",
    "\n",
    "    # history = model.fit(\n",
    "    #     mfcc_train,\n",
    "    #     labels_train,\n",
    "    #     epochs=EPOCHS,\n",
    "    #     batch_size=BATCH_SIZE,\n",
    "    #     validation_data=(mfcc_test, labels_test),\n",
    "    #     # callbacks=[\n",
    "    #     #     wandb.keras.WandbMetricsLogger(log_freq=5),\n",
    "    #     #     wandb.keras.WandbModelCheckpoint(\"models\"),\n",
    "    #     # ],\n",
    "    # )\n",
    "\n",
    "    history = model.fit(\n",
    "        mfcc_train,\n",
    "        labels_train,\n",
    "        epochs=EPOCHS,\n",
    "        batch_size=BATCH_SIZE,\n",
    "        validation_data=(mfcc_test, labels_test),\n",
    "    )\n",
    "\n",
    "    # wandb.finish()\n",
    "    return history\n"
   ]
  },
  {
   "cell_type": "code",
   "execution_count": 8,
   "metadata": {},
   "outputs": [
    {
     "name": "stdout",
     "output_type": "stream",
     "text": [
      "Epoch 1/20\n",
      "193/193 [==============================] - 16s 78ms/step - loss: 0.5739 - accuracy: 0.7364 - val_loss: 0.5791 - val_accuracy: 0.7328\n",
      "Epoch 2/20\n",
      "193/193 [==============================] - 15s 76ms/step - loss: 0.5617 - accuracy: 0.7392 - val_loss: 0.5669 - val_accuracy: 0.7324\n",
      "Epoch 3/20\n",
      "193/193 [==============================] - 15s 78ms/step - loss: 0.5504 - accuracy: 0.7389 - val_loss: 0.5511 - val_accuracy: 0.7380\n",
      "Epoch 4/20\n",
      "193/193 [==============================] - 15s 75ms/step - loss: 0.5387 - accuracy: 0.7406 - val_loss: 0.5389 - val_accuracy: 0.7321\n",
      "Epoch 5/20\n",
      "193/193 [==============================] - 15s 76ms/step - loss: 0.5362 - accuracy: 0.7406 - val_loss: 0.5391 - val_accuracy: 0.7350\n",
      "Epoch 6/20\n",
      "193/193 [==============================] - 16s 81ms/step - loss: 0.5299 - accuracy: 0.7481 - val_loss: 0.5220 - val_accuracy: 0.7454\n",
      "Epoch 7/20\n",
      "193/193 [==============================] - 15s 78ms/step - loss: 0.5226 - accuracy: 0.7503 - val_loss: 0.5152 - val_accuracy: 0.7555\n",
      "Epoch 8/20\n",
      "193/193 [==============================] - 15s 80ms/step - loss: 0.5135 - accuracy: 0.7568 - val_loss: 0.5153 - val_accuracy: 0.7497\n",
      "Epoch 9/20\n",
      "193/193 [==============================] - 16s 83ms/step - loss: 0.5128 - accuracy: 0.7537 - val_loss: 0.5095 - val_accuracy: 0.7594\n",
      "Epoch 10/20\n",
      "193/193 [==============================] - 16s 82ms/step - loss: 0.5045 - accuracy: 0.7590 - val_loss: 0.5082 - val_accuracy: 0.7620\n",
      "Epoch 11/20\n",
      "193/193 [==============================] - 16s 85ms/step - loss: 0.4985 - accuracy: 0.7667 - val_loss: 0.5041 - val_accuracy: 0.7685\n",
      "Epoch 12/20\n",
      "193/193 [==============================] - 17s 87ms/step - loss: 0.4950 - accuracy: 0.7732 - val_loss: 0.4985 - val_accuracy: 0.7731\n",
      "Epoch 13/20\n",
      "193/193 [==============================] - 17s 90ms/step - loss: 0.4901 - accuracy: 0.7751 - val_loss: 0.4935 - val_accuracy: 0.7718\n",
      "Epoch 14/20\n",
      "193/193 [==============================] - 17s 90ms/step - loss: 0.4906 - accuracy: 0.7680 - val_loss: 0.5041 - val_accuracy: 0.7689\n",
      "Epoch 15/20\n",
      "193/193 [==============================] - 18s 92ms/step - loss: 0.4866 - accuracy: 0.7743 - val_loss: 0.5008 - val_accuracy: 0.7601\n",
      "Epoch 16/20\n",
      "193/193 [==============================] - 17s 87ms/step - loss: 0.4823 - accuracy: 0.7795 - val_loss: 0.5028 - val_accuracy: 0.7685\n",
      "Epoch 17/20\n",
      "193/193 [==============================] - 17s 86ms/step - loss: 0.4785 - accuracy: 0.7800 - val_loss: 0.5002 - val_accuracy: 0.7721\n",
      "Epoch 18/20\n",
      "193/193 [==============================] - 17s 86ms/step - loss: 0.4795 - accuracy: 0.7773 - val_loss: 0.4900 - val_accuracy: 0.7708\n",
      "Epoch 19/20\n",
      "193/193 [==============================] - 16s 82ms/step - loss: 0.4706 - accuracy: 0.7863 - val_loss: 0.4900 - val_accuracy: 0.7783\n",
      "Epoch 20/20\n",
      "193/193 [==============================] - 16s 81ms/step - loss: 0.4709 - accuracy: 0.7870 - val_loss: 0.4879 - val_accuracy: 0.7783\n",
      "97/97 - 2s - loss: 0.4879 - accuracy: 0.7783 - 2s/epoch - 20ms/step\n",
      "\n",
      "Test accuracy: 0.7782834768295288\n",
      "97/97 - 2s - loss: 0.4879 - accuracy: 0.7783 - 2s/epoch - 20ms/step\n"
     ]
    }
   ],
   "source": [
    "# Training des Modells\n",
    "history = train_and_wandbLog(\n",
    "    model, mfcc_train, labels_train, mfcc_test, labels_test, with_future=True\n",
    ")\n",
    "test_loss, test_acc = model.evaluate(mfcc_test, labels_test, verbose=2)\n",
    "\n",
    "print(\"\\nTest accuracy:\", test_acc)\n",
    "test_loss, test_acc = model.evaluate(mfcc_test, labels_test, verbose=2)\n"
   ]
  },
  {
   "cell_type": "code",
   "execution_count": 9,
   "metadata": {},
   "outputs": [
    {
     "name": "stdout",
     "output_type": "stream",
     "text": [
      "Epoch 1/20\n",
      "193/193 [==============================] - 23s 108ms/step - loss: 0.5745 - accuracy: 0.7372 - val_loss: 0.5699 - val_accuracy: 0.7328\n",
      "Epoch 2/20\n",
      "193/193 [==============================] - 22s 114ms/step - loss: 0.5550 - accuracy: 0.7400 - val_loss: 0.5441 - val_accuracy: 0.7331\n",
      "Epoch 3/20\n",
      "193/193 [==============================] - 20s 104ms/step - loss: 0.5388 - accuracy: 0.7410 - val_loss: 0.5394 - val_accuracy: 0.7354\n",
      "Epoch 4/20\n",
      "193/193 [==============================] - 20s 106ms/step - loss: 0.5337 - accuracy: 0.7452 - val_loss: 0.5246 - val_accuracy: 0.7572\n",
      "Epoch 5/20\n",
      "193/193 [==============================] - 20s 105ms/step - loss: 0.5188 - accuracy: 0.7542 - val_loss: 0.5184 - val_accuracy: 0.7565\n",
      "Epoch 6/20\n",
      "193/193 [==============================] - 20s 102ms/step - loss: 0.5138 - accuracy: 0.7548 - val_loss: 0.5230 - val_accuracy: 0.7575\n",
      "Epoch 7/20\n",
      "193/193 [==============================] - 20s 102ms/step - loss: 0.5050 - accuracy: 0.7608 - val_loss: 0.5071 - val_accuracy: 0.7559\n",
      "Epoch 8/20\n",
      "193/193 [==============================] - 20s 101ms/step - loss: 0.4988 - accuracy: 0.7677 - val_loss: 0.5030 - val_accuracy: 0.7669\n",
      "Epoch 9/20\n",
      "193/193 [==============================] - 20s 103ms/step - loss: 0.4969 - accuracy: 0.7692 - val_loss: 0.4984 - val_accuracy: 0.7695\n",
      "Epoch 10/20\n",
      "193/193 [==============================] - 19s 101ms/step - loss: 0.4906 - accuracy: 0.7723 - val_loss: 0.4993 - val_accuracy: 0.7601\n",
      "Epoch 11/20\n",
      "193/193 [==============================] - 19s 100ms/step - loss: 0.4870 - accuracy: 0.7757 - val_loss: 0.4900 - val_accuracy: 0.7802\n",
      "Epoch 12/20\n",
      "193/193 [==============================] - 19s 101ms/step - loss: 0.4806 - accuracy: 0.7819 - val_loss: 0.4973 - val_accuracy: 0.7663\n",
      "Epoch 13/20\n",
      "193/193 [==============================] - 19s 101ms/step - loss: 0.4784 - accuracy: 0.7803 - val_loss: 0.4926 - val_accuracy: 0.7721\n",
      "Epoch 14/20\n",
      "193/193 [==============================] - 19s 101ms/step - loss: 0.4780 - accuracy: 0.7799 - val_loss: 0.5003 - val_accuracy: 0.7620\n",
      "Epoch 15/20\n",
      "193/193 [==============================] - 20s 102ms/step - loss: 0.4757 - accuracy: 0.7813 - val_loss: 0.4883 - val_accuracy: 0.7689\n",
      "Epoch 16/20\n",
      "193/193 [==============================] - 19s 101ms/step - loss: 0.4703 - accuracy: 0.7890 - val_loss: 0.4921 - val_accuracy: 0.7724\n",
      "Epoch 17/20\n",
      "193/193 [==============================] - 19s 101ms/step - loss: 0.4708 - accuracy: 0.7857 - val_loss: 0.4815 - val_accuracy: 0.7851\n",
      "Epoch 18/20\n",
      "193/193 [==============================] - 20s 101ms/step - loss: 0.4653 - accuracy: 0.7940 - val_loss: 0.4819 - val_accuracy: 0.7796\n",
      "Epoch 19/20\n",
      "193/193 [==============================] - 20s 101ms/step - loss: 0.4634 - accuracy: 0.7915 - val_loss: 0.4886 - val_accuracy: 0.7789\n",
      "Epoch 20/20\n",
      "193/193 [==============================] - 20s 102ms/step - loss: 0.4575 - accuracy: 0.7968 - val_loss: 0.4807 - val_accuracy: 0.7796\n",
      "97/97 - 2s - loss: 0.4807 - accuracy: 0.7796 - 2s/epoch - 24ms/step\n",
      "\n",
      "Test accuracy: 0.7795838713645935\n"
     ]
    }
   ],
   "source": [
    "bidirectional_history = train_and_wandbLog(\n",
    "    bidirectional_model,\n",
    "    mfcc_train,\n",
    "    labels_train,\n",
    "    mfcc_test,\n",
    "    labels_test,\n",
    "    with_future=False,\n",
    ")\n",
    "\n",
    "test_loss, test_acc = bidirectional_model.evaluate(mfcc_test, labels_test, verbose=2)\n",
    "\n",
    "print(\"\\nTest accuracy:\", test_acc)\n"
   ]
  },
  {
   "cell_type": "code",
   "execution_count": 11,
   "metadata": {},
   "outputs": [
    {
     "data": {
      "image/png": "[encoded data removed]",
      "text/plain": [
       "<Figure size 432x288 with 1 Axes>"
      ]
     },
     "metadata": {
      "needs_background": "light"
     },
     "output_type": "display_data"
    },
    {
     "name": "stdout",
     "output_type": "stream",
     "text": [
      "97/97 - 2s - loss: 0.4879 - accuracy: 0.7783 - 2s/epoch - 22ms/step\n",
      "Causal Model Test Accuracy: 0.7783\n",
      "Causal Model Test Loss: 0.4879\n"
     ]
    },
    {
     "data": {
      "image/png": "[encoded data removed]",
      "text/plain": [
       "<Figure size 432x288 with 1 Axes>"
      ]
     },
     "metadata": {
      "needs_background": "light"
     },
     "output_type": "display_data"
    },
    {
     "name": "stdout",
     "output_type": "stream",
     "text": [
      "97/97 - 2s - loss: 0.4807 - accuracy: 0.7796 - 2s/epoch - 22ms/step\n",
      "Non-Causal Model Test Accuracy: 0.7796\n",
      "Non-Causal Model Test Loss: 0.4807\n"
     ]
    }
   ],
   "source": [
    "import matplotlib.pyplot as plt\n",
    "\n",
    "\n",
    "def plot_accuracy_and_evaluate(\n",
    "    model: Sequential,\n",
    "    history: Sequential,\n",
    "    mfcc_test: dict,\n",
    "    labels_test: dict,\n",
    "    model_name: str = \"Model\",\n",
    ") -> None:\n",
    "    \"\"\"Plottet die Trainings- und Validierungsgenauigkeit.\n",
    "\n",
    "    :param model: Modell, das evaluiert werden soll\n",
    "    :param history: Trainingshistorie des Modells\n",
    "    :param mfcc_test: Testdaten (MFCC)\n",
    "    :param labels_test: Testlabels\n",
    "    :param model_name: Name des Modells\n",
    "    \"\"\"\n",
    "    plt.plot(history.history[\"accuracy\"], label=\"Train Accuracy\")\n",
    "    plt.plot(history.history[\"val_accuracy\"], label=\"Validation Accuracy\")\n",
    "    plt.xlabel(\"Epoch\")\n",
    "    plt.ylabel(\"Accuracy\")\n",
    "    plt.ylim([0.5, 1])\n",
    "    plt.title(f\"{model_name} Accuracy over Epochs\")\n",
    "    plt.legend(loc=\"lower right\")\n",
    "    plt.show()\n",
    "\n",
    "    test_loss, test_acc = model.evaluate(mfcc_test, labels_test, verbose=2)\n",
    "    print(f\"{model_name} Test Accuracy: {test_acc:.4f}\")\n",
    "    print(f\"{model_name} Test Loss: {test_loss:.4f}\")\n",
    "\n",
    "\n",
    "# Beispielaufruf für das Standardmodell (Mit Zukunftsinformation)\n",
    "plot_accuracy_and_evaluate(\n",
    "    model, history, mfcc_test, labels_test, model_name=\"Causal Model\"\n",
    ")\n",
    "\n",
    "# Beispielaufruf für das Causal Modell (Ohne Zukunftsinformation)\n",
    "plot_accuracy_and_evaluate(\n",
    "    bidirectional_model,\n",
    "   bidirectional_history,\n",
    "    mfcc_test,\n",
    "    labels_test,\n",
    "    model_name=\"Non-Causal Model\",\n",
    ")\n"
   ]
  }
 ],
 "metadata": {
  "kernelspec": {
   "display_name": "Python 3",
   "language": "python",
   "name": "python3"
  },
  "language_info": {
   "codemirror_mode": {
    "name": "ipython",
    "version": 3
   },
   "file_extension": ".py",
   "mimetype": "text/x-python",
   "name": "python",
   "nbconvert_exporter": "python",
   "pygments_lexer": "ipython3",
   "version": "3.9.12"
  }
 },
 "nbformat": 4,
 "nbformat_minor": 2
}
