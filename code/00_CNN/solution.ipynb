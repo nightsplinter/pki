{
 "cells": [
  {
   "cell_type": "markdown",
   "metadata": {},
   "source": [
    "# Convolutional Neural Network (CNN)\n",
    "- Zwei verschiedene Arten von Convolutional Neural Networks (CNNs) werden in diesem Notebook implementiert.\n",
    "    - CNN mit kausaler Faltung, d.h. die Ausgabe/Vorhersage hängt nur von der Vergangenheit ab.\n",
    "    - CNN mit normaler Faltung, d.h. die Ausgabe/Vorhersage hängt von der Zukunft und der Vergangenheit ab.\n",
    "\n",
    "- Es besteht die Möglichkeit, die Audio-Daten in Mel-Spektrogramme oder in MFCCs umzuwandeln.\n",
    "\n",
    "Bei der Erstellung des Codes wurde sich an den folgenden Quellen orientiert:\n",
    "- https://medium.com/@oluyaled/audio-classification-using-deep-learning-and-tensorflow-a-step-by-step-guide-5327467ee9ab\n",
    "- https://www.tensorflow.org/tutorials/images/cnn\n",
    "- https://wandb.ai/mostafaibrahim17/ml-articles/reports/An-Introduction-to-Audio-Classification-with-Keras--Vmlldzo0MDQzNDUy"
   ]
  },
  {
   "cell_type": "markdown",
   "metadata": {},
   "source": [
    "# 1. Schritt: Audio-Dateien laden und in Spektrogramme umwandeln"
   ]
  },
  {
   "cell_type": "code",
   "execution_count": 1,
   "metadata": {},
   "outputs": [
    {
     "name": "stderr",
     "output_type": "stream",
     "text": [
      "/Users/paula/opt/anaconda3/lib/python3.9/site-packages/librosa/feature/spectral.py:2143: UserWarning: Empty filters detected in mel frequency basis. Some channels will produce empty responses. Try increasing your sampling rate (and fmax) or reducing n_mels.\n",
      "  mel_basis = filters.mel(sr=sr, n_fft=n_fft, **kwargs)\n",
      "2025-01-21 20:08:54.311868: I tensorflow/core/platform/cpu_feature_guard.cc:193] This TensorFlow binary is optimized with oneAPI Deep Neural Network Library (oneDNN) to use the following CPU instructions in performance-critical operations:  SSE4.1 SSE4.2\n",
      "To enable them in other operations, rebuild TensorFlow with the appropriate compiler flags.\n"
     ]
    },
    {
     "name": "stdout",
     "output_type": "stream",
     "text": [
      "4470 4470\n"
     ]
    }
   ],
   "source": [
    "import sys\n",
    "\n",
    "import numpy as np\n",
    "import os\n",
    "sys.path.append(os.path.abspath(\"..\"))\n",
    "\n",
    "from feature_extraction import get_mfccs_from_coswara_audio_files\n",
    "from feature_extraction import get_mfccs_from_virufy_audio_files\n",
    "from feature_extraction import get_valid_coswara_folder_names\n",
    "\n",
    "labels_dict = {0: \"neg\", 1: \"pos\"}\n",
    "\n",
    "labels, mfccs = [], []\n",
    "\n",
    "p_folder_names, n_folder_names = get_valid_coswara_folder_names()\n",
    "\n",
    "# Umwandlung der Coswara-Audio-Dateien in MFCCss\n",
    "p_coswara_mfccs, p_coswara_labels = get_mfccs_from_coswara_audio_files(\n",
    "    p_folder_names, is_positive=True\n",
    ")\n",
    "\n",
    "n_coswara_mfccs, n_coswara_labels = get_mfccs_from_coswara_audio_files(\n",
    "    n_folder_names, is_positive=False\n",
    ")\n",
    "\n",
    "# Umwandlung der Virufy-Audio-Dateien in MFCCs\n",
    "p_virufy_mfccs, p_virufy_labels = get_mfccs_from_virufy_audio_files(\n",
    "    is_positive=True\n",
    ")\n",
    "n_virufy_mfccs, n_virufy_labels = get_mfccs_from_virufy_audio_files(\n",
    "    is_positive=False\n",
    ")\n",
    "\n",
    "mfcc = np.concatenate(\n",
    "    (p_coswara_mfccs, n_coswara_mfccs, p_virufy_mfccs, n_virufy_mfccs)\n",
    ")\n",
    "\n",
    "labels = np.concatenate(\n",
    "    (p_coswara_labels, n_coswara_labels, p_virufy_labels, n_virufy_labels)\n",
    ")\n",
    "\n",
    "mels = np.array(mfcc, dtype=np.float32)\n",
    "\n",
    "labels = np.array(labels, dtype=np.int32)\n",
    "\n",
    "print(len(mfcc), len(labels))\n"
   ]
  },
  {
   "cell_type": "markdown",
   "metadata": {},
   "source": [
    "# 2. Schritt: Aufteilen der Daten in Trainings- und Testdaten"
   ]
  },
  {
   "cell_type": "code",
   "execution_count": 2,
   "metadata": {},
   "outputs": [],
   "source": [
    "from sklearn.model_selection import train_test_split\n",
    "from tensorflow.keras.utils import to_categorical\n",
    "\n",
    "# Labels in One-Hot-Encoding umwandeln\n",
    "labels = to_categorical(labels, num_classes=len(labels_dict))\n",
    "\n",
    "# Train-Test-Split durchführen\n",
    "mel_train, mel_test, labels_train, labels_test = train_test_split(\n",
    "    mels, labels, test_size=0.2, random_state=42\n",
    ")\n",
    "mel_train = mels\n",
    "labels_train = labels\n",
    "\n",
    "# print(\n",
    "#     f\"\"\"mel_train.shape: {mel_train.shape},\n",
    "#     labels_train.shape: {labels_train.shape}\"\"\"\n",
    "# )\n",
    "# print(\n",
    "#     f\"\"\"mel_test.shape: {mel_test.shape},\n",
    "#     labels_test.shape: {labels_test.shape}\"\"\"\n",
    "# )\n"
   ]
  },
  {
   "cell_type": "markdown",
   "metadata": {},
   "source": [
    "# 3. Schritt: CNN-Modelle erstellen"
   ]
  },
  {
   "cell_type": "code",
   "execution_count": 3,
   "metadata": {},
   "outputs": [],
   "source": [
    "# Konfiguration des Trainingsprozesses\n",
    "BATCH_SIZE = 64\n",
    "EPOCHS = 20\n",
    "ACTIVATION_1 = \"relu\"\n",
    "ACTIVATION_2 = \"softmax\"\n",
    "METRIC = \"accuracy\"\n",
    "LOSS = \"categorical_crossentropy\"\n",
    "OPTIMIZER = \"adam\"\n"
   ]
  },
  {
   "cell_type": "code",
   "execution_count": 4,
   "metadata": {},
   "outputs": [],
   "source": [
    "from tensorflow.keras.layers import Conv1D\n",
    "from tensorflow.keras.layers import Dense\n",
    "from tensorflow.keras.layers import Flatten\n",
    "from tensorflow.keras.layers import MaxPooling1D\n",
    "from tensorflow.keras.models import Sequential\n",
    "\n",
    "\n",
    "def build_cnn(*, include_future: bool) -> Sequential:\n",
    "    \"\"\"Erstellt ein CNN-Modell, das auf den Mel-Spektrogrammen trainiert wird.\n",
    "\n",
    "    :param include_future: Boolean, ob die Zukunft berücksichtigt werden soll\n",
    "    :return: CNN-Modell (TensorFlow Sequential Model)\n",
    "    \"\"\"\n",
    "    # CNN-Modell wird definiert\n",
    "    model = Sequential()\n",
    "\n",
    "    # Eingabeform: (128, 128, 1)\n",
    "    input_shape = mel_train[0].shape\n",
    "\n",
    "    padding_value = \"valid\"\n",
    "    if not include_future:\n",
    "        padding_value = \"causal\"\n",
    "\n",
    "    # Convolutional-Schicht\n",
    "    # 32 Filter (Merkmale), Kernelgröße 3, Aktivierungsfunktion ReLU\n",
    "    model.add(\n",
    "        Conv1D(\n",
    "            32,\n",
    "            kernel_size=3,\n",
    "            activation=ACTIVATION_1,\n",
    "            input_shape=(input_shape),\n",
    "            padding=padding_value,\n",
    "        )\n",
    "    )\n",
    "\n",
    "    # MaxPooling-Schicht\n",
    "    # Reduziert die Größe der Ausgabe, indem es die höchsten Werte\n",
    "    # aus 2 Blöcken auswählt\n",
    "    model.add(MaxPooling1D(pool_size=2))\n",
    "\n",
    "    # Convolutional-Schicht\n",
    "    # 64 Filter (Merkmale), Kernelgröße 3, Aktivierungsfunktion ReLU\n",
    "    model.add(\n",
    "        Conv1D(\n",
    "            64, kernel_size=3, activation=ACTIVATION_1, padding=padding_value\n",
    "        )\n",
    "    )\n",
    "\n",
    "    # Wandelt die mehrdimensionale Ausgabe in einen Vektor um\n",
    "    model.add(Flatten())\n",
    "\n",
    "    # Dense-Schicht\n",
    "    # 64 Neuronen, Aktivierungsfunktion ReLU (Führt Klassifizierungslogik durch)\n",
    "    model.add(Dense(64, activation=ACTIVATION_1))\n",
    "\n",
    "    # Dropout-Schicht\n",
    "    # Ausgabeschicht mit einer Neuronanzahl, die der\n",
    "    # Anzahl der Klassen (2 für positiv/negativ) entspricht.\n",
    "    model.add(Dense(len(labels_dict), activation=ACTIVATION_2))\n",
    "    # model.summary()\n",
    "    return model\n"
   ]
  },
  {
   "cell_type": "markdown",
   "metadata": {},
   "source": [
    "# 3.1. Schritt: CNN mit kausaler Faltung"
   ]
  },
  {
   "cell_type": "code",
   "execution_count": 5,
   "metadata": {},
   "outputs": [],
   "source": [
    "causal_model = build_cnn(include_future=False)\n"
   ]
  },
  {
   "cell_type": "markdown",
   "metadata": {},
   "source": [
    "# 3.2. Schritt: CNN mit normaler Faltung"
   ]
  },
  {
   "cell_type": "code",
   "execution_count": 6,
   "metadata": {},
   "outputs": [],
   "source": [
    "model = build_cnn(include_future=True)\n"
   ]
  },
  {
   "cell_type": "markdown",
   "metadata": {},
   "source": [
    "# 4. Modell kompilieren"
   ]
  },
  {
   "cell_type": "code",
   "execution_count": 7,
   "metadata": {},
   "outputs": [],
   "source": [
    "# Modelle werden für das Training vorbereitet\n",
    "# Optimierungsalgorithmus: Adam (Optimierungsalgorithmus) (Wie werden die\n",
    "# Gewichte angepasst)\n",
    "# Verlustfunktion: Categorical Crossentropy (Wie werden die Fehler berechnet)\n",
    "# Metrik: Genauigkeit (Welche Metrik wird zur Bewertung des Modells verwendet)\n",
    "causal_model.compile(optimizer=OPTIMIZER, loss=LOSS, metrics=[METRIC])\n",
    "model.compile(optimizer=OPTIMIZER, loss=LOSS, metrics=[METRIC])\n"
   ]
  },
  {
   "cell_type": "markdown",
   "metadata": {},
   "source": [
    "#  5 Schritt: W&B Project initialisieren und Modell trainieren"
   ]
  },
  {
   "cell_type": "code",
   "execution_count": 8,
   "metadata": {},
   "outputs": [],
   "source": [
    "def train_and_wandbLog(\n",
    "    model, mel_train, labels_train, mel_test, labels_test, *, with_future: bool\n",
    "):\n",
    "    \"\"\"Trainiert das Modell und loggt die Metriken in Weights & Biases.\n",
    "\n",
    "    :param model: Modell, das trainiert werden soll\n",
    "    :param mel_train: Trainingsdaten (Mel-Spektrogramme oder MFCCs)\n",
    "    :param labels_train: Trainingsdaten (Labels)\n",
    "    :param mel_test: Testdaten (Mel-Spektrogramme oder MFCCs)\n",
    "    :param labels_test: Testdaten (Labels)\n",
    "    :param with_future: Boolean, ob die Zukunft berücksichtigt werden soll\n",
    "    :return: History-Objekt des Trainingsprozesses\n",
    "    \"\"\"\n",
    "    import wandb\n",
    "\n",
    "    wandb.init(\n",
    "        project=\"cnn_covid_audio_classification\",\n",
    "        config={\n",
    "            \"batch_size\": BATCH_SIZE,\n",
    "            \"epochs\": EPOCHS,\n",
    "            \"architecture\": \"CNN\",\n",
    "            \"dataset\": \"coswara + virufy\",\n",
    "            \"activation_1\": ACTIVATION_1,\n",
    "            \"activation_2\": ACTIVATION_2,\n",
    "            \"metric\": METRIC,\n",
    "            \"loss\": LOSS,\n",
    "            \"optimizer\": OPTIMIZER,\n",
    "        },\n",
    "    )\n",
    "\n",
    "    # WandB Run Name setzen\n",
    "    FUTURE = \"FUTURE\" if with_future else \"NO_FUTURE\"\n",
    "    wandb.run.name = f\"{FUTURE}_batch_size_{BATCH_SIZE}_epochs_{EPOCHS}_activation_1_{ACTIVATION_1}_activation_2_{ACTIVATION_2}_metric_{METRIC}_loss_{LOSS}_optimizer_{OPTIMIZER}\"\n",
    "\n",
    "    history = model.fit(\n",
    "        mel_train,\n",
    "        labels_train,\n",
    "        epochs=EPOCHS,\n",
    "        batch_size=BATCH_SIZE,\n",
    "        validation_data=(mel_test, labels_test),\n",
    "        callbacks=[\n",
    "            wandb.keras.WandbMetricsLogger(log_freq=5),\n",
    "            wandb.keras.WandbModelCheckpoint(\"models\"),\n",
    "        ],\n",
    "    )\n",
    "\n",
    "    wandb.finish()\n",
    "    return history\n"
   ]
  },
  {
   "cell_type": "code",
   "execution_count": 9,
   "metadata": {},
   "outputs": [
    {
     "name": "stderr",
     "output_type": "stream",
     "text": [
      "\u001b[34m\u001b[1mwandb\u001b[0m: Using wandb-core as the SDK backend.  Please refer to https://wandb.me/wandb-core for more information.\n",
      "\u001b[34m\u001b[1mwandb\u001b[0m: Currently logged in as: \u001b[33mpaula-schwalm\u001b[0m (\u001b[33mpaula-schwalm-technische-hochschule-mittelhessen-thm\u001b[0m). Use \u001b[1m`wandb login --relogin`\u001b[0m to force relogin\n"
     ]
    },
    {
     "data": {
      "text/html": [
       "Tracking run with wandb version 0.19.1"
      ],
      "text/plain": [
       "<IPython.core.display.HTML object>"
      ]
     },
     "metadata": {},
     "output_type": "display_data"
    },
    {
     "data": {
      "text/html": [
       "Run data is saved locally in <code>/Users/paula/Documents/thm/pki/code/00_CNN/wandb/run-20250121_201558-v0p73btf</code>"
      ],
      "text/plain": [
       "<IPython.core.display.HTML object>"
      ]
     },
     "metadata": {},
     "output_type": "display_data"
    },
    {
     "data": {
      "text/html": [
       "Syncing run <strong><a href='https://wandb.ai/paula-schwalm-technische-hochschule-mittelhessen-thm/cnn_covid_audio_classification/runs/v0p73btf' target=\"_blank\">fragrant-wind-10</a></strong> to <a href='https://wandb.ai/paula-schwalm-technische-hochschule-mittelhessen-thm/cnn_covid_audio_classification' target=\"_blank\">Weights & Biases</a> (<a href='https://wandb.me/developer-guide' target=\"_blank\">docs</a>)<br>"
      ],
      "text/plain": [
       "<IPython.core.display.HTML object>"
      ]
     },
     "metadata": {},
     "output_type": "display_data"
    },
    {
     "data": {
      "text/html": [
       " View project at <a href='https://wandb.ai/paula-schwalm-technische-hochschule-mittelhessen-thm/cnn_covid_audio_classification' target=\"_blank\">https://wandb.ai/paula-schwalm-technische-hochschule-mittelhessen-thm/cnn_covid_audio_classification</a>"
      ],
      "text/plain": [
       "<IPython.core.display.HTML object>"
      ]
     },
     "metadata": {},
     "output_type": "display_data"
    },
    {
     "data": {
      "text/html": [
       " View run at <a href='https://wandb.ai/paula-schwalm-technische-hochschule-mittelhessen-thm/cnn_covid_audio_classification/runs/v0p73btf' target=\"_blank\">https://wandb.ai/paula-schwalm-technische-hochschule-mittelhessen-thm/cnn_covid_audio_classification/runs/v0p73btf</a>"
      ],
      "text/plain": [
       "<IPython.core.display.HTML object>"
      ]
     },
     "metadata": {},
     "output_type": "display_data"
    },
    {
     "name": "stdout",
     "output_type": "stream",
     "text": [
      "Epoch 1/20\n",
      "70/70 [==============================] - ETA: 0s - loss: 1.6810 - accuracy: 0.6376"
     ]
    },
    {
     "name": "stderr",
     "output_type": "stream",
     "text": [
      "WARNING:absl:Found untraced functions such as _jit_compiled_convolution_op, _jit_compiled_convolution_op while saving (showing 2 of 2). These functions will not be directly callable after loading.\n"
     ]
    },
    {
     "name": "stdout",
     "output_type": "stream",
     "text": [
      "INFO:tensorflow:Assets written to: models/assets\n"
     ]
    },
    {
     "name": "stderr",
     "output_type": "stream",
     "text": [
      "INFO:tensorflow:Assets written to: models/assets\n",
      "\u001b[34m\u001b[1mwandb\u001b[0m: Adding directory to artifact (./models)... Done. 0.1s\n"
     ]
    },
    {
     "name": "stdout",
     "output_type": "stream",
     "text": [
      "70/70 [==============================] - 2s 21ms/step - loss: 1.6810 - accuracy: 0.6376 - val_loss: 0.6294 - val_accuracy: 0.6779\n",
      "Epoch 2/20\n",
      "62/70 [=========================>....] - ETA: 0s - loss: 0.6184 - accuracy: 0.6923"
     ]
    },
    {
     "name": "stderr",
     "output_type": "stream",
     "text": [
      "WARNING:absl:Found untraced functions such as _jit_compiled_convolution_op, _jit_compiled_convolution_op while saving (showing 2 of 2). These functions will not be directly callable after loading.\n"
     ]
    },
    {
     "name": "stdout",
     "output_type": "stream",
     "text": [
      "INFO:tensorflow:Assets written to: models/assets\n"
     ]
    },
    {
     "name": "stderr",
     "output_type": "stream",
     "text": [
      "INFO:tensorflow:Assets written to: models/assets\n",
      "\u001b[34m\u001b[1mwandb\u001b[0m: Adding directory to artifact (./models)... Done. 0.0s\n"
     ]
    },
    {
     "name": "stdout",
     "output_type": "stream",
     "text": [
      "70/70 [==============================] - 1s 16ms/step - loss: 0.6162 - accuracy: 0.6951 - val_loss: 0.6357 - val_accuracy: 0.6779\n",
      "Epoch 3/20\n",
      "68/70 [============================>.] - ETA: 0s - loss: 0.6202 - accuracy: 0.6921"
     ]
    },
    {
     "name": "stderr",
     "output_type": "stream",
     "text": [
      "WARNING:absl:Found untraced functions such as _jit_compiled_convolution_op, _jit_compiled_convolution_op while saving (showing 2 of 2). These functions will not be directly callable after loading.\n"
     ]
    },
    {
     "name": "stdout",
     "output_type": "stream",
     "text": [
      "INFO:tensorflow:Assets written to: models/assets\n"
     ]
    },
    {
     "name": "stderr",
     "output_type": "stream",
     "text": [
      "INFO:tensorflow:Assets written to: models/assets\n",
      "\u001b[34m\u001b[1mwandb\u001b[0m: Adding directory to artifact (./models)... Done. 0.0s\n"
     ]
    },
    {
     "name": "stdout",
     "output_type": "stream",
     "text": [
      "70/70 [==============================] - 1s 14ms/step - loss: 0.6178 - accuracy: 0.6951 - val_loss: 0.6281 - val_accuracy: 0.6779\n",
      "Epoch 4/20\n",
      "68/70 [============================>.] - ETA: 0s - loss: 0.6177 - accuracy: 0.6946"
     ]
    },
    {
     "name": "stderr",
     "output_type": "stream",
     "text": [
      "WARNING:absl:Found untraced functions such as _jit_compiled_convolution_op, _jit_compiled_convolution_op while saving (showing 2 of 2). These functions will not be directly callable after loading.\n"
     ]
    },
    {
     "name": "stdout",
     "output_type": "stream",
     "text": [
      "INFO:tensorflow:Assets written to: models/assets\n"
     ]
    },
    {
     "name": "stderr",
     "output_type": "stream",
     "text": [
      "INFO:tensorflow:Assets written to: models/assets\n",
      "\u001b[34m\u001b[1mwandb\u001b[0m: Adding directory to artifact (./models)... Done. 0.0s\n"
     ]
    },
    {
     "name": "stdout",
     "output_type": "stream",
     "text": [
      "70/70 [==============================] - 1s 14ms/step - loss: 0.6172 - accuracy: 0.6951 - val_loss: 0.6303 - val_accuracy: 0.6779\n",
      "Epoch 5/20\n",
      "64/70 [==========================>...] - ETA: 0s - loss: 0.6193 - accuracy: 0.6912"
     ]
    },
    {
     "name": "stderr",
     "output_type": "stream",
     "text": [
      "WARNING:absl:Found untraced functions such as _jit_compiled_convolution_op, _jit_compiled_convolution_op while saving (showing 2 of 2). These functions will not be directly callable after loading.\n"
     ]
    },
    {
     "name": "stdout",
     "output_type": "stream",
     "text": [
      "INFO:tensorflow:Assets written to: models/assets\n"
     ]
    },
    {
     "name": "stderr",
     "output_type": "stream",
     "text": [
      "INFO:tensorflow:Assets written to: models/assets\n",
      "\u001b[34m\u001b[1mwandb\u001b[0m: Adding directory to artifact (./models)... Done. 0.0s\n"
     ]
    },
    {
     "name": "stdout",
     "output_type": "stream",
     "text": [
      "70/70 [==============================] - 1s 17ms/step - loss: 0.6166 - accuracy: 0.6951 - val_loss: 0.6279 - val_accuracy: 0.6779\n",
      "Epoch 6/20\n",
      "69/70 [============================>.] - ETA: 0s - loss: 0.6175 - accuracy: 0.6959"
     ]
    },
    {
     "name": "stderr",
     "output_type": "stream",
     "text": [
      "WARNING:absl:Found untraced functions such as _jit_compiled_convolution_op, _jit_compiled_convolution_op while saving (showing 2 of 2). These functions will not be directly callable after loading.\n"
     ]
    },
    {
     "name": "stdout",
     "output_type": "stream",
     "text": [
      "INFO:tensorflow:Assets written to: models/assets\n"
     ]
    },
    {
     "name": "stderr",
     "output_type": "stream",
     "text": [
      "INFO:tensorflow:Assets written to: models/assets\n",
      "\u001b[34m\u001b[1mwandb\u001b[0m: Adding directory to artifact (./models)... Done. 0.0s\n"
     ]
    },
    {
     "name": "stdout",
     "output_type": "stream",
     "text": [
      "70/70 [==============================] - 1s 14ms/step - loss: 0.6180 - accuracy: 0.6951 - val_loss: 0.6274 - val_accuracy: 0.6779\n",
      "Epoch 7/20\n",
      "66/70 [===========================>..] - ETA: 0s - loss: 0.6153 - accuracy: 0.6953"
     ]
    },
    {
     "name": "stderr",
     "output_type": "stream",
     "text": [
      "WARNING:absl:Found untraced functions such as _jit_compiled_convolution_op, _jit_compiled_convolution_op while saving (showing 2 of 2). These functions will not be directly callable after loading.\n"
     ]
    },
    {
     "name": "stdout",
     "output_type": "stream",
     "text": [
      "INFO:tensorflow:Assets written to: models/assets\n"
     ]
    },
    {
     "name": "stderr",
     "output_type": "stream",
     "text": [
      "INFO:tensorflow:Assets written to: models/assets\n",
      "\u001b[34m\u001b[1mwandb\u001b[0m: Adding directory to artifact (./models)... Done. 0.0s\n"
     ]
    },
    {
     "name": "stdout",
     "output_type": "stream",
     "text": [
      "70/70 [==============================] - 1s 14ms/step - loss: 0.6155 - accuracy: 0.6951 - val_loss: 0.6277 - val_accuracy: 0.6779\n",
      "Epoch 8/20\n",
      "67/70 [===========================>..] - ETA: 0s - loss: 0.6149 - accuracy: 0.6957"
     ]
    },
    {
     "name": "stderr",
     "output_type": "stream",
     "text": [
      "WARNING:absl:Found untraced functions such as _jit_compiled_convolution_op, _jit_compiled_convolution_op while saving (showing 2 of 2). These functions will not be directly callable after loading.\n"
     ]
    },
    {
     "name": "stdout",
     "output_type": "stream",
     "text": [
      "INFO:tensorflow:Assets written to: models/assets\n"
     ]
    },
    {
     "name": "stderr",
     "output_type": "stream",
     "text": [
      "INFO:tensorflow:Assets written to: models/assets\n",
      "\u001b[34m\u001b[1mwandb\u001b[0m: Adding directory to artifact (./models)... Done. 0.0s\n"
     ]
    },
    {
     "name": "stdout",
     "output_type": "stream",
     "text": [
      "70/70 [==============================] - 1s 14ms/step - loss: 0.6153 - accuracy: 0.6951 - val_loss: 0.6273 - val_accuracy: 0.6779\n",
      "Epoch 9/20\n",
      "64/70 [==========================>...] - ETA: 0s - loss: 0.6191 - accuracy: 0.6943"
     ]
    },
    {
     "name": "stderr",
     "output_type": "stream",
     "text": [
      "WARNING:absl:Found untraced functions such as _jit_compiled_convolution_op, _jit_compiled_convolution_op while saving (showing 2 of 2). These functions will not be directly callable after loading.\n"
     ]
    },
    {
     "name": "stdout",
     "output_type": "stream",
     "text": [
      "INFO:tensorflow:Assets written to: models/assets\n"
     ]
    },
    {
     "name": "stderr",
     "output_type": "stream",
     "text": [
      "INFO:tensorflow:Assets written to: models/assets\n",
      "\u001b[34m\u001b[1mwandb\u001b[0m: Adding directory to artifact (./models)... Done. 0.0s\n"
     ]
    },
    {
     "name": "stdout",
     "output_type": "stream",
     "text": [
      "70/70 [==============================] - 1s 15ms/step - loss: 0.6184 - accuracy: 0.6951 - val_loss: 0.6280 - val_accuracy: 0.6779\n",
      "Epoch 10/20\n",
      "65/70 [==========================>...] - ETA: 0s - loss: 0.6158 - accuracy: 0.6959"
     ]
    },
    {
     "name": "stderr",
     "output_type": "stream",
     "text": [
      "WARNING:absl:Found untraced functions such as _jit_compiled_convolution_op, _jit_compiled_convolution_op while saving (showing 2 of 2). These functions will not be directly callable after loading.\n"
     ]
    },
    {
     "name": "stdout",
     "output_type": "stream",
     "text": [
      "INFO:tensorflow:Assets written to: models/assets\n"
     ]
    },
    {
     "name": "stderr",
     "output_type": "stream",
     "text": [
      "INFO:tensorflow:Assets written to: models/assets\n",
      "\u001b[34m\u001b[1mwandb\u001b[0m: Adding directory to artifact (./models)... Done. 0.0s\n"
     ]
    },
    {
     "name": "stdout",
     "output_type": "stream",
     "text": [
      "70/70 [==============================] - 1s 14ms/step - loss: 0.6163 - accuracy: 0.6951 - val_loss: 0.6275 - val_accuracy: 0.6779\n",
      "Epoch 11/20\n",
      "69/70 [============================>.] - ETA: 0s - loss: 0.6161 - accuracy: 0.6961"
     ]
    },
    {
     "name": "stderr",
     "output_type": "stream",
     "text": [
      "WARNING:absl:Found untraced functions such as _jit_compiled_convolution_op, _jit_compiled_convolution_op while saving (showing 2 of 2). These functions will not be directly callable after loading.\n"
     ]
    },
    {
     "name": "stdout",
     "output_type": "stream",
     "text": [
      "INFO:tensorflow:Assets written to: models/assets\n"
     ]
    },
    {
     "name": "stderr",
     "output_type": "stream",
     "text": [
      "INFO:tensorflow:Assets written to: models/assets\n",
      "\u001b[34m\u001b[1mwandb\u001b[0m: Adding directory to artifact (./models)... Done. 0.0s\n"
     ]
    },
    {
     "name": "stdout",
     "output_type": "stream",
     "text": [
      "70/70 [==============================] - 1s 14ms/step - loss: 0.6170 - accuracy: 0.6951 - val_loss: 0.6284 - val_accuracy: 0.6779\n",
      "Epoch 12/20\n",
      "65/70 [==========================>...] - ETA: 0s - loss: 0.6165 - accuracy: 0.6947"
     ]
    },
    {
     "name": "stderr",
     "output_type": "stream",
     "text": [
      "WARNING:absl:Found untraced functions such as _jit_compiled_convolution_op, _jit_compiled_convolution_op while saving (showing 2 of 2). These functions will not be directly callable after loading.\n"
     ]
    },
    {
     "name": "stdout",
     "output_type": "stream",
     "text": [
      "INFO:tensorflow:Assets written to: models/assets\n"
     ]
    },
    {
     "name": "stderr",
     "output_type": "stream",
     "text": [
      "INFO:tensorflow:Assets written to: models/assets\n",
      "\u001b[34m\u001b[1mwandb\u001b[0m: Adding directory to artifact (./models)... Done. 0.0s\n"
     ]
    },
    {
     "name": "stdout",
     "output_type": "stream",
     "text": [
      "70/70 [==============================] - 1s 15ms/step - loss: 0.6162 - accuracy: 0.6951 - val_loss: 0.6274 - val_accuracy: 0.6779\n",
      "Epoch 13/20\n",
      "65/70 [==========================>...] - ETA: 0s - loss: 0.6175 - accuracy: 0.6933"
     ]
    },
    {
     "name": "stderr",
     "output_type": "stream",
     "text": [
      "WARNING:absl:Found untraced functions such as _jit_compiled_convolution_op, _jit_compiled_convolution_op while saving (showing 2 of 2). These functions will not be directly callable after loading.\n"
     ]
    },
    {
     "name": "stdout",
     "output_type": "stream",
     "text": [
      "INFO:tensorflow:Assets written to: models/assets\n"
     ]
    },
    {
     "name": "stderr",
     "output_type": "stream",
     "text": [
      "INFO:tensorflow:Assets written to: models/assets\n",
      "\u001b[34m\u001b[1mwandb\u001b[0m: Adding directory to artifact (./models)... Done. 0.0s\n"
     ]
    },
    {
     "name": "stdout",
     "output_type": "stream",
     "text": [
      "70/70 [==============================] - 1s 17ms/step - loss: 0.6157 - accuracy: 0.6951 - val_loss: 0.6335 - val_accuracy: 0.6779\n",
      "Epoch 14/20\n",
      "64/70 [==========================>...] - ETA: 0s - loss: 0.6183 - accuracy: 0.6934"
     ]
    },
    {
     "name": "stderr",
     "output_type": "stream",
     "text": [
      "WARNING:absl:Found untraced functions such as _jit_compiled_convolution_op, _jit_compiled_convolution_op while saving (showing 2 of 2). These functions will not be directly callable after loading.\n"
     ]
    },
    {
     "name": "stdout",
     "output_type": "stream",
     "text": [
      "INFO:tensorflow:Assets written to: models/assets\n"
     ]
    },
    {
     "name": "stderr",
     "output_type": "stream",
     "text": [
      "INFO:tensorflow:Assets written to: models/assets\n",
      "\u001b[34m\u001b[1mwandb\u001b[0m: Adding directory to artifact (./models)... Done. 0.0s\n"
     ]
    },
    {
     "name": "stdout",
     "output_type": "stream",
     "text": [
      "70/70 [==============================] - 1s 15ms/step - loss: 0.6168 - accuracy: 0.6951 - val_loss: 0.6296 - val_accuracy: 0.6779\n",
      "Epoch 15/20\n",
      "66/70 [===========================>..] - ETA: 0s - loss: 0.6146 - accuracy: 0.6967"
     ]
    },
    {
     "name": "stderr",
     "output_type": "stream",
     "text": [
      "WARNING:absl:Found untraced functions such as _jit_compiled_convolution_op, _jit_compiled_convolution_op while saving (showing 2 of 2). These functions will not be directly callable after loading.\n"
     ]
    },
    {
     "name": "stdout",
     "output_type": "stream",
     "text": [
      "INFO:tensorflow:Assets written to: models/assets\n"
     ]
    },
    {
     "name": "stderr",
     "output_type": "stream",
     "text": [
      "INFO:tensorflow:Assets written to: models/assets\n",
      "\u001b[34m\u001b[1mwandb\u001b[0m: Adding directory to artifact (./models)... Done. 0.0s\n"
     ]
    },
    {
     "name": "stdout",
     "output_type": "stream",
     "text": [
      "70/70 [==============================] - 1s 15ms/step - loss: 0.6163 - accuracy: 0.6951 - val_loss: 0.6273 - val_accuracy: 0.6779\n",
      "Epoch 16/20\n",
      "66/70 [===========================>..] - ETA: 0s - loss: 0.6148 - accuracy: 0.6965"
     ]
    },
    {
     "name": "stderr",
     "output_type": "stream",
     "text": [
      "WARNING:absl:Found untraced functions such as _jit_compiled_convolution_op, _jit_compiled_convolution_op while saving (showing 2 of 2). These functions will not be directly callable after loading.\n"
     ]
    },
    {
     "name": "stdout",
     "output_type": "stream",
     "text": [
      "INFO:tensorflow:Assets written to: models/assets\n"
     ]
    },
    {
     "name": "stderr",
     "output_type": "stream",
     "text": [
      "INFO:tensorflow:Assets written to: models/assets\n",
      "\u001b[34m\u001b[1mwandb\u001b[0m: Adding directory to artifact (./models)... Done. 0.0s\n"
     ]
    },
    {
     "name": "stdout",
     "output_type": "stream",
     "text": [
      "70/70 [==============================] - 1s 15ms/step - loss: 0.6159 - accuracy: 0.6951 - val_loss: 0.6273 - val_accuracy: 0.6779\n",
      "Epoch 17/20\n",
      "62/70 [=========================>....] - ETA: 0s - loss: 0.6163 - accuracy: 0.6958"
     ]
    },
    {
     "name": "stderr",
     "output_type": "stream",
     "text": [
      "WARNING:absl:Found untraced functions such as _jit_compiled_convolution_op, _jit_compiled_convolution_op while saving (showing 2 of 2). These functions will not be directly callable after loading.\n"
     ]
    },
    {
     "name": "stdout",
     "output_type": "stream",
     "text": [
      "INFO:tensorflow:Assets written to: models/assets\n"
     ]
    },
    {
     "name": "stderr",
     "output_type": "stream",
     "text": [
      "INFO:tensorflow:Assets written to: models/assets\n",
      "\u001b[34m\u001b[1mwandb\u001b[0m: Adding directory to artifact (./models)... Done. 0.0s\n"
     ]
    },
    {
     "name": "stdout",
     "output_type": "stream",
     "text": [
      "70/70 [==============================] - 1s 15ms/step - loss: 0.6167 - accuracy: 0.6951 - val_loss: 0.6282 - val_accuracy: 0.6779\n",
      "Epoch 18/20\n",
      "69/70 [============================>.] - ETA: 0s - loss: 0.6170 - accuracy: 0.6936"
     ]
    },
    {
     "name": "stderr",
     "output_type": "stream",
     "text": [
      "WARNING:absl:Found untraced functions such as _jit_compiled_convolution_op, _jit_compiled_convolution_op while saving (showing 2 of 2). These functions will not be directly callable after loading.\n"
     ]
    },
    {
     "name": "stdout",
     "output_type": "stream",
     "text": [
      "INFO:tensorflow:Assets written to: models/assets\n"
     ]
    },
    {
     "name": "stderr",
     "output_type": "stream",
     "text": [
      "INFO:tensorflow:Assets written to: models/assets\n",
      "\u001b[34m\u001b[1mwandb\u001b[0m: Adding directory to artifact (./models)... Done. 0.0s\n"
     ]
    },
    {
     "name": "stdout",
     "output_type": "stream",
     "text": [
      "70/70 [==============================] - 1s 14ms/step - loss: 0.6158 - accuracy: 0.6951 - val_loss: 0.6295 - val_accuracy: 0.6779\n",
      "Epoch 19/20\n",
      "58/70 [=======================>......] - ETA: 0s - loss: 0.6174 - accuracy: 0.6932"
     ]
    },
    {
     "name": "stderr",
     "output_type": "stream",
     "text": [
      "WARNING:absl:Found untraced functions such as _jit_compiled_convolution_op, _jit_compiled_convolution_op while saving (showing 2 of 2). These functions will not be directly callable after loading.\n"
     ]
    },
    {
     "name": "stdout",
     "output_type": "stream",
     "text": [
      "INFO:tensorflow:Assets written to: models/assets\n"
     ]
    },
    {
     "name": "stderr",
     "output_type": "stream",
     "text": [
      "INFO:tensorflow:Assets written to: models/assets\n",
      "\u001b[34m\u001b[1mwandb\u001b[0m: Adding directory to artifact (./models)... Done. 0.0s\n"
     ]
    },
    {
     "name": "stdout",
     "output_type": "stream",
     "text": [
      "70/70 [==============================] - 1s 14ms/step - loss: 0.6158 - accuracy: 0.6951 - val_loss: 0.6273 - val_accuracy: 0.6779\n",
      "Epoch 20/20\n",
      "70/70 [==============================] - ETA: 0s - loss: 0.6156 - accuracy: 0.6951"
     ]
    },
    {
     "name": "stderr",
     "output_type": "stream",
     "text": [
      "WARNING:absl:Found untraced functions such as _jit_compiled_convolution_op, _jit_compiled_convolution_op while saving (showing 2 of 2). These functions will not be directly callable after loading.\n"
     ]
    },
    {
     "name": "stdout",
     "output_type": "stream",
     "text": [
      "INFO:tensorflow:Assets written to: models/assets\n"
     ]
    },
    {
     "name": "stderr",
     "output_type": "stream",
     "text": [
      "INFO:tensorflow:Assets written to: models/assets\n",
      "\u001b[34m\u001b[1mwandb\u001b[0m: Adding directory to artifact (./models)... Done. 0.0s\n"
     ]
    },
    {
     "name": "stdout",
     "output_type": "stream",
     "text": [
      "70/70 [==============================] - 1s 15ms/step - loss: 0.6156 - accuracy: 0.6951 - val_loss: 0.6289 - val_accuracy: 0.6779\n"
     ]
    },
    {
     "data": {
      "text/html": [],
      "text/plain": [
       "<IPython.core.display.HTML object>"
      ]
     },
     "metadata": {},
     "output_type": "display_data"
    },
    {
     "data": {
      "text/html": [
       "<br>    <style><br>        .wandb-row {<br>            display: flex;<br>            flex-direction: row;<br>            flex-wrap: wrap;<br>            justify-content: flex-start;<br>            width: 100%;<br>        }<br>        .wandb-col {<br>            display: flex;<br>            flex-direction: column;<br>            flex-basis: 100%;<br>            flex: 1;<br>            padding: 10px;<br>        }<br>    </style><br><div class=\"wandb-row\"><div class=\"wandb-col\"><h3>Run history:</h3><br/><table class=\"wandb\"><tr><td>batch/accuracy</td><td>▄▆▆▇█▇▇▇▇▇▇▇▇▆▁▇▆▆▇▇▇▇▄▇▇▇▇▇▆▆▇▇▇▇▇▇▇▇▆▆</td></tr><tr><td>batch/batch_step</td><td>▁▁▁▁▁▁▂▂▂▂▂▂▃▃▃▃▃▃▄▄▄▄▄▄▅▅▆▆▆▆▆▆▇▇▇▇▇███</td></tr><tr><td>batch/learning_rate</td><td>▁▁▁▁▁▁▁▁▁▁▁▁▁▁▁▁▁▁▁▁▁▁▁▁▁▁▁▁▁▁▁▁▁▁▁▁▁▁▁▁</td></tr><tr><td>batch/loss</td><td>█▆▃▂▁▁▁▁▁▁▁▁▁▁▁▁▁▁▁▁▁▁▁▁▁▁▁▁▁▁▁▁▁▁▁▁▁▁▁▁</td></tr><tr><td>epoch/accuracy</td><td>▁███████████████████</td></tr><tr><td>epoch/epoch</td><td>▁▁▂▂▂▃▃▄▄▄▅▅▅▆▆▇▇▇██</td></tr><tr><td>epoch/learning_rate</td><td>▁▁▁▁▁▁▁▁▁▁▁▁▁▁▁▁▁▁▁▁</td></tr><tr><td>epoch/loss</td><td>█▁▁▁▁▁▁▁▁▁▁▁▁▁▁▁▁▁▁▁</td></tr><tr><td>epoch/val_accuracy</td><td>▁▁▁▁▁▁▁▁▁▁▁▁▁▁▁▁▁▁▁▁</td></tr><tr><td>epoch/val_loss</td><td>▃█▂▄▂▁▁▁▂▁▂▁▆▃▁▁▂▃▁▂</td></tr></table><br/></div><div class=\"wandb-col\"><h3>Run summary:</h3><br/><table class=\"wandb\"><tr><td>batch/accuracy</td><td>0.69579</td></tr><tr><td>batch/batch_step</td><td>1395</td></tr><tr><td>batch/learning_rate</td><td>0.001</td></tr><tr><td>batch/loss</td><td>0.61497</td></tr><tr><td>epoch/accuracy</td><td>0.69508</td></tr><tr><td>epoch/epoch</td><td>19</td></tr><tr><td>epoch/learning_rate</td><td>0.001</td></tr><tr><td>epoch/loss</td><td>0.61564</td></tr><tr><td>epoch/val_accuracy</td><td>0.67785</td></tr><tr><td>epoch/val_loss</td><td>0.62889</td></tr></table><br/></div></div>"
      ],
      "text/plain": [
       "<IPython.core.display.HTML object>"
      ]
     },
     "metadata": {},
     "output_type": "display_data"
    },
    {
     "data": {
      "text/html": [
       " View run <strong style=\"color:#cdcd00\">FUTURE_batch_size_64_epochs_20_activation_1_relu_activation_2_softmax_metric_accuracy_loss_categorical_crossentropy_optimizer_adam</strong> at: <a href='https://wandb.ai/paula-schwalm-technische-hochschule-mittelhessen-thm/cnn_covid_audio_classification/runs/v0p73btf' target=\"_blank\">https://wandb.ai/paula-schwalm-technische-hochschule-mittelhessen-thm/cnn_covid_audio_classification/runs/v0p73btf</a><br> View project at: <a href='https://wandb.ai/paula-schwalm-technische-hochschule-mittelhessen-thm/cnn_covid_audio_classification' target=\"_blank\">https://wandb.ai/paula-schwalm-technische-hochschule-mittelhessen-thm/cnn_covid_audio_classification</a><br>Synced 5 W&B file(s), 0 media file(s), 81 artifact file(s) and 0 other file(s)"
      ],
      "text/plain": [
       "<IPython.core.display.HTML object>"
      ]
     },
     "metadata": {},
     "output_type": "display_data"
    },
    {
     "data": {
      "text/html": [
       "Find logs at: <code>./wandb/run-20250121_201558-v0p73btf/logs</code>"
      ],
      "text/plain": [
       "<IPython.core.display.HTML object>"
      ]
     },
     "metadata": {},
     "output_type": "display_data"
    },
    {
     "data": {
      "text/html": [
       "Tracking run with wandb version 0.19.1"
      ],
      "text/plain": [
       "<IPython.core.display.HTML object>"
      ]
     },
     "metadata": {},
     "output_type": "display_data"
    },
    {
     "data": {
      "text/html": [
       "Run data is saved locally in <code>/Users/paula/Documents/thm/pki/code/00_CNN/wandb/run-20250121_201714-hmurgub8</code>"
      ],
      "text/plain": [
       "<IPython.core.display.HTML object>"
      ]
     },
     "metadata": {},
     "output_type": "display_data"
    },
    {
     "data": {
      "text/html": [
       "Syncing run <strong><a href='https://wandb.ai/paula-schwalm-technische-hochschule-mittelhessen-thm/cnn_covid_audio_classification/runs/hmurgub8' target=\"_blank\">dandy-shadow-11</a></strong> to <a href='https://wandb.ai/paula-schwalm-technische-hochschule-mittelhessen-thm/cnn_covid_audio_classification' target=\"_blank\">Weights & Biases</a> (<a href='https://wandb.me/developer-guide' target=\"_blank\">docs</a>)<br>"
      ],
      "text/plain": [
       "<IPython.core.display.HTML object>"
      ]
     },
     "metadata": {},
     "output_type": "display_data"
    },
    {
     "data": {
      "text/html": [
       " View project at <a href='https://wandb.ai/paula-schwalm-technische-hochschule-mittelhessen-thm/cnn_covid_audio_classification' target=\"_blank\">https://wandb.ai/paula-schwalm-technische-hochschule-mittelhessen-thm/cnn_covid_audio_classification</a>"
      ],
      "text/plain": [
       "<IPython.core.display.HTML object>"
      ]
     },
     "metadata": {},
     "output_type": "display_data"
    },
    {
     "data": {
      "text/html": [
       " View run at <a href='https://wandb.ai/paula-schwalm-technische-hochschule-mittelhessen-thm/cnn_covid_audio_classification/runs/hmurgub8' target=\"_blank\">https://wandb.ai/paula-schwalm-technische-hochschule-mittelhessen-thm/cnn_covid_audio_classification/runs/hmurgub8</a>"
      ],
      "text/plain": [
       "<IPython.core.display.HTML object>"
      ]
     },
     "metadata": {},
     "output_type": "display_data"
    },
    {
     "name": "stdout",
     "output_type": "stream",
     "text": [
      "Epoch 1/20\n",
      "60/70 [========================>.....] - ETA: 0s - loss: 1.8828 - accuracy: 0.6552"
     ]
    },
    {
     "name": "stderr",
     "output_type": "stream",
     "text": [
      "WARNING:absl:Found untraced functions such as _jit_compiled_convolution_op, _jit_compiled_convolution_op while saving (showing 2 of 2). These functions will not be directly callable after loading.\n"
     ]
    },
    {
     "name": "stdout",
     "output_type": "stream",
     "text": [
      "INFO:tensorflow:Assets written to: models/assets\n"
     ]
    },
    {
     "name": "stderr",
     "output_type": "stream",
     "text": [
      "INFO:tensorflow:Assets written to: models/assets\n",
      "\u001b[34m\u001b[1mwandb\u001b[0m: Adding directory to artifact (./models)... Done. 0.0s\n"
     ]
    },
    {
     "name": "stdout",
     "output_type": "stream",
     "text": [
      "70/70 [==============================] - 2s 20ms/step - loss: 1.7043 - accuracy: 0.6611 - val_loss: 0.6283 - val_accuracy: 0.6779\n",
      "Epoch 2/20\n",
      "70/70 [==============================] - ETA: 0s - loss: 0.6166 - accuracy: 0.6951"
     ]
    },
    {
     "name": "stderr",
     "output_type": "stream",
     "text": [
      "WARNING:absl:Found untraced functions such as _jit_compiled_convolution_op, _jit_compiled_convolution_op while saving (showing 2 of 2). These functions will not be directly callable after loading.\n"
     ]
    },
    {
     "name": "stdout",
     "output_type": "stream",
     "text": [
      "INFO:tensorflow:Assets written to: models/assets\n"
     ]
    },
    {
     "name": "stderr",
     "output_type": "stream",
     "text": [
      "INFO:tensorflow:Assets written to: models/assets\n",
      "\u001b[34m\u001b[1mwandb\u001b[0m: Adding directory to artifact (./models)... Done. 0.0s\n"
     ]
    },
    {
     "name": "stdout",
     "output_type": "stream",
     "text": [
      "70/70 [==============================] - 1s 16ms/step - loss: 0.6166 - accuracy: 0.6951 - val_loss: 0.6325 - val_accuracy: 0.6779\n",
      "Epoch 3/20\n",
      "64/70 [==========================>...] - ETA: 0s - loss: 0.6211 - accuracy: 0.6936"
     ]
    },
    {
     "name": "stderr",
     "output_type": "stream",
     "text": [
      "WARNING:absl:Found untraced functions such as _jit_compiled_convolution_op, _jit_compiled_convolution_op while saving (showing 2 of 2). These functions will not be directly callable after loading.\n"
     ]
    },
    {
     "name": "stdout",
     "output_type": "stream",
     "text": [
      "INFO:tensorflow:Assets written to: models/assets\n"
     ]
    },
    {
     "name": "stderr",
     "output_type": "stream",
     "text": [
      "INFO:tensorflow:Assets written to: models/assets\n",
      "\u001b[34m\u001b[1mwandb\u001b[0m: Adding directory to artifact (./models)... Done. 0.0s\n"
     ]
    },
    {
     "name": "stdout",
     "output_type": "stream",
     "text": [
      "70/70 [==============================] - 1s 15ms/step - loss: 0.6197 - accuracy: 0.6951 - val_loss: 0.6277 - val_accuracy: 0.6779\n",
      "Epoch 4/20\n",
      "64/70 [==========================>...] - ETA: 0s - loss: 0.6137 - accuracy: 0.7004"
     ]
    },
    {
     "name": "stderr",
     "output_type": "stream",
     "text": [
      "WARNING:absl:Found untraced functions such as _jit_compiled_convolution_op, _jit_compiled_convolution_op while saving (showing 2 of 2). These functions will not be directly callable after loading.\n"
     ]
    },
    {
     "name": "stdout",
     "output_type": "stream",
     "text": [
      "INFO:tensorflow:Assets written to: models/assets\n"
     ]
    },
    {
     "name": "stderr",
     "output_type": "stream",
     "text": [
      "INFO:tensorflow:Assets written to: models/assets\n",
      "\u001b[34m\u001b[1mwandb\u001b[0m: Adding directory to artifact (./models)... Done. 0.0s\n"
     ]
    },
    {
     "name": "stdout",
     "output_type": "stream",
     "text": [
      "70/70 [==============================] - 1s 15ms/step - loss: 0.6182 - accuracy: 0.6951 - val_loss: 0.6411 - val_accuracy: 0.6779\n",
      "Epoch 5/20\n",
      "59/70 [========================>.....] - ETA: 0s - loss: 0.6216 - accuracy: 0.6904"
     ]
    },
    {
     "name": "stderr",
     "output_type": "stream",
     "text": [
      "WARNING:absl:Found untraced functions such as _jit_compiled_convolution_op, _jit_compiled_convolution_op while saving (showing 2 of 2). These functions will not be directly callable after loading.\n"
     ]
    },
    {
     "name": "stdout",
     "output_type": "stream",
     "text": [
      "INFO:tensorflow:Assets written to: models/assets\n"
     ]
    },
    {
     "name": "stderr",
     "output_type": "stream",
     "text": [
      "INFO:tensorflow:Assets written to: models/assets\n",
      "\u001b[34m\u001b[1mwandb\u001b[0m: Adding directory to artifact (./models)... Done. 0.0s\n"
     ]
    },
    {
     "name": "stdout",
     "output_type": "stream",
     "text": [
      "70/70 [==============================] - 1s 15ms/step - loss: 0.6174 - accuracy: 0.6951 - val_loss: 0.6350 - val_accuracy: 0.6779\n",
      "Epoch 6/20\n",
      "66/70 [===========================>..] - ETA: 0s - loss: 0.6153 - accuracy: 0.6972"
     ]
    },
    {
     "name": "stderr",
     "output_type": "stream",
     "text": [
      "WARNING:absl:Found untraced functions such as _jit_compiled_convolution_op, _jit_compiled_convolution_op while saving (showing 2 of 2). These functions will not be directly callable after loading.\n"
     ]
    },
    {
     "name": "stdout",
     "output_type": "stream",
     "text": [
      "INFO:tensorflow:Assets written to: models/assets\n"
     ]
    },
    {
     "name": "stderr",
     "output_type": "stream",
     "text": [
      "INFO:tensorflow:Assets written to: models/assets\n",
      "\u001b[34m\u001b[1mwandb\u001b[0m: Adding directory to artifact (./models)... Done. 0.0s\n"
     ]
    },
    {
     "name": "stdout",
     "output_type": "stream",
     "text": [
      "70/70 [==============================] - 1s 14ms/step - loss: 0.6169 - accuracy: 0.6951 - val_loss: 0.6272 - val_accuracy: 0.6779\n",
      "Epoch 7/20\n",
      "65/70 [==========================>...] - ETA: 0s - loss: 0.6171 - accuracy: 0.6940"
     ]
    },
    {
     "name": "stderr",
     "output_type": "stream",
     "text": [
      "WARNING:absl:Found untraced functions such as _jit_compiled_convolution_op, _jit_compiled_convolution_op while saving (showing 2 of 2). These functions will not be directly callable after loading.\n"
     ]
    },
    {
     "name": "stdout",
     "output_type": "stream",
     "text": [
      "INFO:tensorflow:Assets written to: models/assets\n"
     ]
    },
    {
     "name": "stderr",
     "output_type": "stream",
     "text": [
      "INFO:tensorflow:Assets written to: models/assets\n",
      "\u001b[34m\u001b[1mwandb\u001b[0m: Adding directory to artifact (./models)... Done. 0.0s\n"
     ]
    },
    {
     "name": "stdout",
     "output_type": "stream",
     "text": [
      "70/70 [==============================] - 1s 14ms/step - loss: 0.6162 - accuracy: 0.6951 - val_loss: 0.6300 - val_accuracy: 0.6779\n",
      "Epoch 8/20\n",
      "66/70 [===========================>..] - ETA: 0s - loss: 0.6155 - accuracy: 0.6953"
     ]
    },
    {
     "name": "stderr",
     "output_type": "stream",
     "text": [
      "WARNING:absl:Found untraced functions such as _jit_compiled_convolution_op, _jit_compiled_convolution_op while saving (showing 2 of 2). These functions will not be directly callable after loading.\n"
     ]
    },
    {
     "name": "stdout",
     "output_type": "stream",
     "text": [
      "INFO:tensorflow:Assets written to: models/assets\n"
     ]
    },
    {
     "name": "stderr",
     "output_type": "stream",
     "text": [
      "INFO:tensorflow:Assets written to: models/assets\n",
      "\u001b[34m\u001b[1mwandb\u001b[0m: Adding directory to artifact (./models)... Done. 0.0s\n"
     ]
    },
    {
     "name": "stdout",
     "output_type": "stream",
     "text": [
      "70/70 [==============================] - 1s 16ms/step - loss: 0.6157 - accuracy: 0.6951 - val_loss: 0.6295 - val_accuracy: 0.6779\n",
      "Epoch 9/20\n",
      "67/70 [===========================>..] - ETA: 0s - loss: 0.6202 - accuracy: 0.6933"
     ]
    },
    {
     "name": "stderr",
     "output_type": "stream",
     "text": [
      "WARNING:absl:Found untraced functions such as _jit_compiled_convolution_op, _jit_compiled_convolution_op while saving (showing 2 of 2). These functions will not be directly callable after loading.\n"
     ]
    },
    {
     "name": "stdout",
     "output_type": "stream",
     "text": [
      "INFO:tensorflow:Assets written to: models/assets\n"
     ]
    },
    {
     "name": "stderr",
     "output_type": "stream",
     "text": [
      "INFO:tensorflow:Assets written to: models/assets\n",
      "\u001b[34m\u001b[1mwandb\u001b[0m: Adding directory to artifact (./models)... Done. 0.0s\n"
     ]
    },
    {
     "name": "stdout",
     "output_type": "stream",
     "text": [
      "70/70 [==============================] - 1s 15ms/step - loss: 0.6184 - accuracy: 0.6951 - val_loss: 0.6306 - val_accuracy: 0.6779\n",
      "Epoch 10/20\n",
      "63/70 [==========================>...] - ETA: 0s - loss: 0.6177 - accuracy: 0.6939"
     ]
    },
    {
     "name": "stderr",
     "output_type": "stream",
     "text": [
      "WARNING:absl:Found untraced functions such as _jit_compiled_convolution_op, _jit_compiled_convolution_op while saving (showing 2 of 2). These functions will not be directly callable after loading.\n"
     ]
    },
    {
     "name": "stdout",
     "output_type": "stream",
     "text": [
      "INFO:tensorflow:Assets written to: models/assets\n"
     ]
    },
    {
     "name": "stderr",
     "output_type": "stream",
     "text": [
      "INFO:tensorflow:Assets written to: models/assets\n",
      "\u001b[34m\u001b[1mwandb\u001b[0m: Adding directory to artifact (./models)... Done. 0.0s\n"
     ]
    },
    {
     "name": "stdout",
     "output_type": "stream",
     "text": [
      "70/70 [==============================] - 1s 15ms/step - loss: 0.6176 - accuracy: 0.6951 - val_loss: 0.6273 - val_accuracy: 0.6779\n",
      "Epoch 11/20\n",
      "65/70 [==========================>...] - ETA: 0s - loss: 0.6163 - accuracy: 0.6945"
     ]
    },
    {
     "name": "stderr",
     "output_type": "stream",
     "text": [
      "WARNING:absl:Found untraced functions such as _jit_compiled_convolution_op, _jit_compiled_convolution_op while saving (showing 2 of 2). These functions will not be directly callable after loading.\n"
     ]
    },
    {
     "name": "stdout",
     "output_type": "stream",
     "text": [
      "INFO:tensorflow:Assets written to: models/assets\n"
     ]
    },
    {
     "name": "stderr",
     "output_type": "stream",
     "text": [
      "INFO:tensorflow:Assets written to: models/assets\n",
      "\u001b[34m\u001b[1mwandb\u001b[0m: Adding directory to artifact (./models)... Done. 0.0s\n"
     ]
    },
    {
     "name": "stdout",
     "output_type": "stream",
     "text": [
      "70/70 [==============================] - 1s 15ms/step - loss: 0.6157 - accuracy: 0.6951 - val_loss: 0.6311 - val_accuracy: 0.6779\n",
      "Epoch 12/20\n",
      "65/70 [==========================>...] - ETA: 0s - loss: 0.6168 - accuracy: 0.6935"
     ]
    },
    {
     "name": "stderr",
     "output_type": "stream",
     "text": [
      "WARNING:absl:Found untraced functions such as _jit_compiled_convolution_op, _jit_compiled_convolution_op while saving (showing 2 of 2). These functions will not be directly callable after loading.\n"
     ]
    },
    {
     "name": "stdout",
     "output_type": "stream",
     "text": [
      "INFO:tensorflow:Assets written to: models/assets\n"
     ]
    },
    {
     "name": "stderr",
     "output_type": "stream",
     "text": [
      "INFO:tensorflow:Assets written to: models/assets\n",
      "\u001b[34m\u001b[1mwandb\u001b[0m: Adding directory to artifact (./models)... Done. 0.0s\n"
     ]
    },
    {
     "name": "stdout",
     "output_type": "stream",
     "text": [
      "70/70 [==============================] - 1s 14ms/step - loss: 0.6156 - accuracy: 0.6951 - val_loss: 0.6272 - val_accuracy: 0.6779\n",
      "Epoch 13/20\n",
      "61/70 [=========================>....] - ETA: 0s - loss: 0.6116 - accuracy: 0.6995"
     ]
    },
    {
     "name": "stderr",
     "output_type": "stream",
     "text": [
      "WARNING:absl:Found untraced functions such as _jit_compiled_convolution_op, _jit_compiled_convolution_op while saving (showing 2 of 2). These functions will not be directly callable after loading.\n"
     ]
    },
    {
     "name": "stdout",
     "output_type": "stream",
     "text": [
      "INFO:tensorflow:Assets written to: models/assets\n"
     ]
    },
    {
     "name": "stderr",
     "output_type": "stream",
     "text": [
      "INFO:tensorflow:Assets written to: models/assets\n",
      "\u001b[34m\u001b[1mwandb\u001b[0m: Adding directory to artifact (./models)... Done. 0.0s\n"
     ]
    },
    {
     "name": "stdout",
     "output_type": "stream",
     "text": [
      "70/70 [==============================] - 1s 16ms/step - loss: 0.6152 - accuracy: 0.6951 - val_loss: 0.6272 - val_accuracy: 0.6779\n",
      "Epoch 14/20\n",
      "58/70 [=======================>......] - ETA: 0s - loss: 0.6348 - accuracy: 0.6843"
     ]
    },
    {
     "name": "stderr",
     "output_type": "stream",
     "text": [
      "WARNING:absl:Found untraced functions such as _jit_compiled_convolution_op, _jit_compiled_convolution_op while saving (showing 2 of 2). These functions will not be directly callable after loading.\n"
     ]
    },
    {
     "name": "stdout",
     "output_type": "stream",
     "text": [
      "INFO:tensorflow:Assets written to: models/assets\n"
     ]
    },
    {
     "name": "stderr",
     "output_type": "stream",
     "text": [
      "INFO:tensorflow:Assets written to: models/assets\n",
      "\u001b[34m\u001b[1mwandb\u001b[0m: Adding directory to artifact (./models)... Done. 0.0s\n"
     ]
    },
    {
     "name": "stdout",
     "output_type": "stream",
     "text": [
      "70/70 [==============================] - 1s 16ms/step - loss: 0.6279 - accuracy: 0.6902 - val_loss: 0.6357 - val_accuracy: 0.6779\n",
      "Epoch 15/20\n",
      "63/70 [==========================>...] - ETA: 0s - loss: 0.6193 - accuracy: 0.6935"
     ]
    },
    {
     "name": "stderr",
     "output_type": "stream",
     "text": [
      "WARNING:absl:Found untraced functions such as _jit_compiled_convolution_op, _jit_compiled_convolution_op while saving (showing 2 of 2). These functions will not be directly callable after loading.\n"
     ]
    },
    {
     "name": "stdout",
     "output_type": "stream",
     "text": [
      "INFO:tensorflow:Assets written to: models/assets\n"
     ]
    },
    {
     "name": "stderr",
     "output_type": "stream",
     "text": [
      "INFO:tensorflow:Assets written to: models/assets\n",
      "\u001b[34m\u001b[1mwandb\u001b[0m: Adding directory to artifact (./models)... Done. 0.0s\n"
     ]
    },
    {
     "name": "stdout",
     "output_type": "stream",
     "text": [
      "70/70 [==============================] - 1s 16ms/step - loss: 0.6181 - accuracy: 0.6951 - val_loss: 0.6273 - val_accuracy: 0.6779\n",
      "Epoch 16/20\n",
      "62/70 [=========================>....] - ETA: 0s - loss: 0.6126 - accuracy: 0.6996"
     ]
    },
    {
     "name": "stderr",
     "output_type": "stream",
     "text": [
      "WARNING:absl:Found untraced functions such as _jit_compiled_convolution_op, _jit_compiled_convolution_op while saving (showing 2 of 2). These functions will not be directly callable after loading.\n"
     ]
    },
    {
     "name": "stdout",
     "output_type": "stream",
     "text": [
      "INFO:tensorflow:Assets written to: models/assets\n"
     ]
    },
    {
     "name": "stderr",
     "output_type": "stream",
     "text": [
      "INFO:tensorflow:Assets written to: models/assets\n",
      "\u001b[34m\u001b[1mwandb\u001b[0m: Adding directory to artifact (./models)... Done. 0.0s\n"
     ]
    },
    {
     "name": "stdout",
     "output_type": "stream",
     "text": [
      "70/70 [==============================] - 1s 15ms/step - loss: 0.6166 - accuracy: 0.6951 - val_loss: 0.6273 - val_accuracy: 0.6779\n",
      "Epoch 17/20\n",
      "68/70 [============================>.] - ETA: 0s - loss: 0.6185 - accuracy: 0.6928"
     ]
    },
    {
     "name": "stderr",
     "output_type": "stream",
     "text": [
      "WARNING:absl:Found untraced functions such as _jit_compiled_convolution_op, _jit_compiled_convolution_op while saving (showing 2 of 2). These functions will not be directly callable after loading.\n"
     ]
    },
    {
     "name": "stdout",
     "output_type": "stream",
     "text": [
      "INFO:tensorflow:Assets written to: models/assets\n"
     ]
    },
    {
     "name": "stderr",
     "output_type": "stream",
     "text": [
      "INFO:tensorflow:Assets written to: models/assets\n",
      "\u001b[34m\u001b[1mwandb\u001b[0m: Adding directory to artifact (./models)... Done. 0.0s\n"
     ]
    },
    {
     "name": "stdout",
     "output_type": "stream",
     "text": [
      "70/70 [==============================] - 1s 20ms/step - loss: 0.6170 - accuracy: 0.6951 - val_loss: 0.6289 - val_accuracy: 0.6779\n",
      "Epoch 18/20\n",
      "66/70 [===========================>..] - ETA: 0s - loss: 0.6178 - accuracy: 0.6932"
     ]
    },
    {
     "name": "stderr",
     "output_type": "stream",
     "text": [
      "WARNING:absl:Found untraced functions such as _jit_compiled_convolution_op, _jit_compiled_convolution_op while saving (showing 2 of 2). These functions will not be directly callable after loading.\n"
     ]
    },
    {
     "name": "stdout",
     "output_type": "stream",
     "text": [
      "INFO:tensorflow:Assets written to: models/assets\n"
     ]
    },
    {
     "name": "stderr",
     "output_type": "stream",
     "text": [
      "INFO:tensorflow:Assets written to: models/assets\n",
      "\u001b[34m\u001b[1mwandb\u001b[0m: Adding directory to artifact (./models)... Done. 0.0s\n"
     ]
    },
    {
     "name": "stdout",
     "output_type": "stream",
     "text": [
      "70/70 [==============================] - 1s 15ms/step - loss: 0.6173 - accuracy: 0.6951 - val_loss: 0.6308 - val_accuracy: 0.6779\n",
      "Epoch 19/20\n",
      "63/70 [==========================>...] - ETA: 0s - loss: 0.6159 - accuracy: 0.6974"
     ]
    },
    {
     "name": "stderr",
     "output_type": "stream",
     "text": [
      "WARNING:absl:Found untraced functions such as _jit_compiled_convolution_op, _jit_compiled_convolution_op while saving (showing 2 of 2). These functions will not be directly callable after loading.\n"
     ]
    },
    {
     "name": "stdout",
     "output_type": "stream",
     "text": [
      "INFO:tensorflow:Assets written to: models/assets\n"
     ]
    },
    {
     "name": "stderr",
     "output_type": "stream",
     "text": [
      "INFO:tensorflow:Assets written to: models/assets\n",
      "\u001b[34m\u001b[1mwandb\u001b[0m: Adding directory to artifact (./models)... Done. 0.0s\n"
     ]
    },
    {
     "name": "stdout",
     "output_type": "stream",
     "text": [
      "70/70 [==============================] - 1s 14ms/step - loss: 0.6176 - accuracy: 0.6951 - val_loss: 0.6283 - val_accuracy: 0.6779\n",
      "Epoch 20/20\n",
      "64/70 [==========================>...] - ETA: 0s - loss: 0.6136 - accuracy: 0.6978"
     ]
    },
    {
     "name": "stderr",
     "output_type": "stream",
     "text": [
      "WARNING:absl:Found untraced functions such as _jit_compiled_convolution_op, _jit_compiled_convolution_op while saving (showing 2 of 2). These functions will not be directly callable after loading.\n"
     ]
    },
    {
     "name": "stdout",
     "output_type": "stream",
     "text": [
      "INFO:tensorflow:Assets written to: models/assets\n"
     ]
    },
    {
     "name": "stderr",
     "output_type": "stream",
     "text": [
      "INFO:tensorflow:Assets written to: models/assets\n",
      "\u001b[34m\u001b[1mwandb\u001b[0m: Adding directory to artifact (./models)... Done. 0.0s\n"
     ]
    },
    {
     "name": "stdout",
     "output_type": "stream",
     "text": [
      "70/70 [==============================] - 1s 15ms/step - loss: 0.6161 - accuracy: 0.6951 - val_loss: 0.6273 - val_accuracy: 0.6779\n"
     ]
    },
    {
     "data": {
      "text/html": [],
      "text/plain": [
       "<IPython.core.display.HTML object>"
      ]
     },
     "metadata": {},
     "output_type": "display_data"
    },
    {
     "data": {
      "text/html": [
       "<br>    <style><br>        .wandb-row {<br>            display: flex;<br>            flex-direction: row;<br>            flex-wrap: wrap;<br>            justify-content: flex-start;<br>            width: 100%;<br>        }<br>        .wandb-col {<br>            display: flex;<br>            flex-direction: column;<br>            flex-basis: 100%;<br>            flex: 1;<br>            padding: 10px;<br>        }<br>    </style><br><div class=\"wandb-row\"><div class=\"wandb-col\"><h3>Run history:</h3><br/><table class=\"wandb\"><tr><td>batch/accuracy</td><td>▁▃▄▄▆▆▆▆▇▇▆▅▆▆▇▆▇▇▇▆█▆▇▆▆▇▅▅▇▇█▆▆▇▇▇▆▆▇▆</td></tr><tr><td>batch/batch_step</td><td>▁▁▁▁▁▂▂▂▂▂▃▃▃▃▃▄▄▄▄▅▅▅▅▅▅▆▆▆▆▇▇▇▇▇▇▇▇▇██</td></tr><tr><td>batch/learning_rate</td><td>▁▁▁▁▁▁▁▁▁▁▁▁▁▁▁▁▁▁▁▁▁▁▁▁▁▁▁▁▁▁▁▁▁▁▁▁▁▁▁▁</td></tr><tr><td>batch/loss</td><td>▂█▅▁▁▁▁▁▁▁▁▁▁▁▁▁▁▁▁▁▁▁▁▁▁▁▁▁▁▁▁▁▁▁▁▁▁▁▁▁</td></tr><tr><td>epoch/accuracy</td><td>▁████████████▇██████</td></tr><tr><td>epoch/epoch</td><td>▁▁▂▂▂▃▃▄▄▄▅▅▅▆▆▇▇▇██</td></tr><tr><td>epoch/learning_rate</td><td>▁▁▁▁▁▁▁▁▁▁▁▁▁▁▁▁▁▁▁▁</td></tr><tr><td>epoch/loss</td><td>█▁▁▁▁▁▁▁▁▁▁▁▁▁▁▁▁▁▁▁</td></tr><tr><td>epoch/val_accuracy</td><td>▁▁▁▁▁▁▁▁▁▁▁▁▁▁▁▁▁▁▁▁</td></tr><tr><td>epoch/val_loss</td><td>▂▄▁█▅▁▂▂▃▁▃▁▁▅▁▁▂▃▂▁</td></tr></table><br/></div><div class=\"wandb-col\"><h3>Run summary:</h3><br/><table class=\"wandb\"><tr><td>batch/accuracy</td><td>0.69602</td></tr><tr><td>batch/batch_step</td><td>1395</td></tr><tr><td>batch/learning_rate</td><td>0.001</td></tr><tr><td>batch/loss</td><td>0.61538</td></tr><tr><td>epoch/accuracy</td><td>0.69508</td></tr><tr><td>epoch/epoch</td><td>19</td></tr><tr><td>epoch/learning_rate</td><td>0.001</td></tr><tr><td>epoch/loss</td><td>0.61611</td></tr><tr><td>epoch/val_accuracy</td><td>0.67785</td></tr><tr><td>epoch/val_loss</td><td>0.62733</td></tr></table><br/></div></div>"
      ],
      "text/plain": [
       "<IPython.core.display.HTML object>"
      ]
     },
     "metadata": {},
     "output_type": "display_data"
    },
    {
     "data": {
      "text/html": [
       " View run <strong style=\"color:#cdcd00\">NO_FUTURE_batch_size_64_epochs_20_activation_1_relu_activation_2_softmax_metric_accuracy_loss_categorical_crossentropy_optimizer_adam</strong> at: <a href='https://wandb.ai/paula-schwalm-technische-hochschule-mittelhessen-thm/cnn_covid_audio_classification/runs/hmurgub8' target=\"_blank\">https://wandb.ai/paula-schwalm-technische-hochschule-mittelhessen-thm/cnn_covid_audio_classification/runs/hmurgub8</a><br> View project at: <a href='https://wandb.ai/paula-schwalm-technische-hochschule-mittelhessen-thm/cnn_covid_audio_classification' target=\"_blank\">https://wandb.ai/paula-schwalm-technische-hochschule-mittelhessen-thm/cnn_covid_audio_classification</a><br>Synced 5 W&B file(s), 0 media file(s), 81 artifact file(s) and 0 other file(s)"
      ],
      "text/plain": [
       "<IPython.core.display.HTML object>"
      ]
     },
     "metadata": {},
     "output_type": "display_data"
    },
    {
     "data": {
      "text/html": [
       "Find logs at: <code>./wandb/run-20250121_201714-hmurgub8/logs</code>"
      ],
      "text/plain": [
       "<IPython.core.display.HTML object>"
      ]
     },
     "metadata": {},
     "output_type": "display_data"
    }
   ],
   "source": [
    "# Training des Modells\n",
    "history = train_and_wandbLog(\n",
    "    model, mel_train, labels_train, mel_test, labels_test, with_future=True\n",
    ")\n",
    "causal_history = train_and_wandbLog(\n",
    "    causal_model,\n",
    "    mel_train,\n",
    "    labels_train,\n",
    "    mel_test,\n",
    "    labels_test,\n",
    "    with_future=False,\n",
    ")\n"
   ]
  },
  {
   "cell_type": "markdown",
   "metadata": {},
   "source": [
    "# 6. Evaluation"
   ]
  },
  {
   "cell_type": "code",
   "execution_count": 10,
   "metadata": {},
   "outputs": [
    {
     "data": {
      "image/png": "[encoded data removed]",
      "text/plain": [
       "<Figure size 432x288 with 1 Axes>"
      ]
     },
     "metadata": {
      "needs_background": "light"
     },
     "output_type": "display_data"
    },
    {
     "name": "stdout",
     "output_type": "stream",
     "text": [
      "28/28 - 0s - loss: 0.6289 - accuracy: 0.6779 - 64ms/epoch - 2ms/step\n",
      "Main Model Test Accuracy: 0.6779\n",
      "Main Model Test Loss: 0.6289\n"
     ]
    },
    {
     "data": {
      "image/png": "[encoded data removed]",
      "text/plain": [
       "<Figure size 432x288 with 1 Axes>"
      ]
     },
     "metadata": {
      "needs_background": "light"
     },
     "output_type": "display_data"
    },
    {
     "name": "stdout",
     "output_type": "stream",
     "text": [
      "28/28 - 0s - loss: 0.6273 - accuracy: 0.6779 - 71ms/epoch - 3ms/step\n",
      "Causal Model Test Accuracy: 0.6779\n",
      "Causal Model Test Loss: 0.6273\n"
     ]
    }
   ],
   "source": [
    "import matplotlib.pyplot as plt\n",
    "\n",
    "\n",
    "def plot_accuracy_and_evaluate(\n",
    "    model: Sequential,\n",
    "    history: Sequential,\n",
    "    mel_test: dict,\n",
    "    labels_test: dict,\n",
    "    model_name: str = \"Model\",\n",
    ") -> None:\n",
    "    \"\"\"Plottet die Trainings- und Validierungsgenauigkeit.\n",
    "\n",
    "    :param model: Modell, das evaluiert werden soll\n",
    "    :param history: Trainingshistorie des Modells\n",
    "    :param mel_test: Testdaten (Mel-Spektrogramme)\n",
    "    :param labels_test: Testlabels\n",
    "    :param model_name: Name des Modells\n",
    "    \"\"\"\n",
    "    plt.plot(history.history[\"accuracy\"], label=\"Train Accuracy\")\n",
    "    plt.plot(history.history[\"val_accuracy\"], label=\"Validation Accuracy\")\n",
    "    plt.xlabel(\"Epoch\")\n",
    "    plt.ylabel(\"Accuracy\")\n",
    "    plt.ylim([0.5, 1])\n",
    "    plt.title(f\"{model_name} Accuracy over Epochs\")\n",
    "    plt.legend(loc=\"lower right\")\n",
    "    plt.show()\n",
    "\n",
    "    test_loss, test_acc = model.evaluate(mel_test, labels_test, verbose=2)\n",
    "    print(f\"{model_name} Test Accuracy: {test_acc:.4f}\")\n",
    "    print(f\"{model_name} Test Loss: {test_loss:.4f}\")\n",
    "\n",
    "\n",
    "# Beispielaufruf für das Standardmodell\n",
    "plot_accuracy_and_evaluate(\n",
    "    model, history, mel_test, labels_test, model_name=\"Main Model\"\n",
    ")\n",
    "\n",
    "# Beispielaufruf für das Causal Modell\n",
    "plot_accuracy_and_evaluate(\n",
    "    causal_model,\n",
    "    causal_history,\n",
    "    mel_test,\n",
    "    labels_test,\n",
    "    model_name=\"Causal Model\",\n",
    ")\n"
   ]
  }
 ],
 "metadata": {
  "kernelspec": {
   "display_name": "Python 3",
   "language": "python",
   "name": "python3"
  },
  "language_info": {
   "codemirror_mode": {
    "name": "ipython",
    "version": 3
   },
   "file_extension": ".py",
   "mimetype": "text/x-python",
   "name": "python",
   "nbconvert_exporter": "python",
   "pygments_lexer": "ipython3",
   "version": "3.9.12"
  }
 },
 "nbformat": 4,
 "nbformat_minor": 2
}
