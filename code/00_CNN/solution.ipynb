{
 "cells": [
  {
   "cell_type": "markdown",
   "metadata": {},
   "source": [
    "# Convolutional Neural Network (CNN)\n",
    "- Zwei verschiedene Arten von Convolutional Neural Networks (CNNs) werden in diesem Notebook implementiert.\n",
    "    - CNN mit kausaler Faltung, d.h. die Ausgabe/Vorhersage hängt nur von der Vergangenheit ab.\n",
    "    - CNN mit normaler Faltung, d.h. die Ausgabe/Vorhersage hängt von der Zukunft und der Vergangenheit ab.\n",
    "\n",
    "Bei der Erstellung des Codes wurde sich an den folgenden Quellen orientiert:\n",
    "- https://medium.com/@oluyaled/audio-classification-using-deep-learning-and-tensorflow-a-step-by-step-guide-5327467ee9ab\n",
    "- https://www.tensorflow.org/tutorials/images/cnn\n",
    "- https://wandb.ai/mostafaibrahim17/ml-articles/reports/An-Introduction-to-Audio-Classification-with-Keras--Vmlldzo0MDQzNDUy"
   ]
  },
  {
   "cell_type": "markdown",
   "metadata": {},
   "source": [
    "# 1. Schritt: Audio-Dateien laden und in Spektrogramme umwandeln"
   ]
  },
  {
   "cell_type": "code",
   "execution_count": 32,
   "metadata": {},
   "outputs": [],
   "source": [
    "from pathlib import Path\n",
    "import os\n",
    "\n",
    "import librosa\n",
    "import numpy as np\n",
    "import tensorflow as tf\n",
    "\n",
    "\n",
    "def convert_audio_files_to_mel_spectrogram(data_path: str,\n",
    "                                           labels_dict: dict) -> tuple:\n",
    "    \"\"\"Konvertiert die Audio-Dateien in Mel-Spektrogramme.\n",
    "\n",
    "    :param data_path: Pfad zu dem Hauptverzeichnis, in dem die Audio-Dateien\n",
    "    liegen\n",
    "    :param labels_dict: Dictionary, das die Labels den Ordnernamen zuordnet\n",
    "    :return: Mel-Spektrogramme und Labels\n",
    "    \"\"\"\n",
    "    labels, mels = [], []\n",
    "    for label, folder in labels_dict.items():\n",
    "        folder_path = Path(data_path) / folder\n",
    "        # Zieldimensionen der Spektrogramme d.h Größe der Bilder (128x128 Pixel)\n",
    "        target_shape = (128, 128)\n",
    "\n",
    "        for file in os.listdir(folder_path):\n",
    "            file_path = Path(folder_path) / file\n",
    "\n",
    "            # Lade die Audiodatei (Original-Sampling-Rate beibehalten sr=None)\n",
    "            audio_data, sample_rate = librosa.load(file_path, sr=None)\n",
    "\n",
    "            # Berechne das Mel-Spektrogramm\n",
    "            mel_spectrogram = librosa.feature.melspectrogram(\n",
    "                y=audio_data, sr=sample_rate\n",
    "            )\n",
    "\n",
    "            # Wandle das Spektrogramm in Dezibel um (logarithmische Skala)\n",
    "            # Notwendig um großen Unterschiede (kleine/größere Werte)\n",
    "            # in den Spektrogrammen auszugleichen\n",
    "            mel_spectrogram = librosa.power_to_db(mel_spectrogram, ref=np.max)\n",
    "\n",
    "            # Füge eine Kanal-Dimension hinzu (Höhe, Breite, Kanal)\n",
    "            mel_spectrogram = np.expand_dims(mel_spectrogram, axis=-1)\n",
    "\n",
    "            # Skaliere das Spektrogramm auf die gewünschte Größe (128x128 Pixel)\n",
    "            mel_spectrogram = tf.image.resize(mel_spectrogram, target_shape)\n",
    "\n",
    "            # Mel-Spektrogramm entlang der Höhe oder Breite mitteln\n",
    "            # um es in eine 1D-Darstellung zu transformieren\n",
    "            # Mittelwert entlang der Höhe\n",
    "            mel_spectrogram = np.mean(mel_spectrogram, axis=0)\n",
    "\n",
    "            mels.append(mel_spectrogram)\n",
    "            labels.append(label)\n",
    "\n",
    "            # Mel-Spektrogramm anschauen\n",
    "            # audio_label = labels_dict[label]\n",
    "            # librosa.display.waveshow(audio_data, sr=sample_rate)\n",
    "            # plt.figure(figsize=(10, 4) )\n",
    "            # plt.title(audio_label)\n",
    "\n",
    "    return np.array(mels), np.array(labels)\n",
    "\n",
    "\n",
    "# Pfade zu dem Hauptverzeichnis und den Ordnern mit den Audio-Dateien\n",
    "data_path = (\n",
    "    \"/Users/paula/Documents/thm/pki/code/data/virufy-data/clinical/segmented/\"\n",
    ")\n",
    "\n",
    "labels_dict = {0: \"neg\", 1: \"pos\"}\n",
    "\n",
    "# Audio-Dateien laden und in Mel-Spektrogramme konvertieren\n",
    "mels, labels = convert_audio_files_to_mel_spectrogram(data_path, labels_dict)\n"
   ]
  },
  {
   "cell_type": "markdown",
   "metadata": {},
   "source": [
    "# 1.2 Schritt: W&B Project initialisieren"
   ]
  },
  {
   "cell_type": "code",
   "execution_count": 33,
   "metadata": {},
   "outputs": [],
   "source": [
    "import wandb\n",
    "\n",
    "BATCH_SIZE = 32\n",
    "EPOCHS = 10\n",
    "ACTIVATION_1 = \"relu\"\n",
    "ACTIVATION_2 = \"softmax\"\n",
    "METRIC = \"accuracy\"\n",
    "LOSS = \"categorical_crossentropy\"\n",
    "OPTIMIZER = \"adam\"\n",
    "\n",
    "\n",
    "wandb.init(project=\"cnn_covid_audio_classification_virufy\",\n",
    "           config={\"batch_size\": BATCH_SIZE,\n",
    "                   \"epochs\": EPOCHS,\n",
    "                    \"architecture\": \"CNN\",\n",
    "                    \"dataset\": \"Virufy\",\n",
    "                    \"activation_1\": ACTIVATION_1,\n",
    "                    \"activation_2\": ACTIVATION_2,\n",
    "                    \"metric\": METRIC,\n",
    "                    \"loss\": LOSS,\n",
    "                    \"optimizer\": OPTIMIZER\n",
    "                }\n",
    ")\n",
    "\n",
    "# WandB Run Name setzen\n",
    "wandb.run.name = wandb.run.id\n"
   ]
  },
  {
   "cell_type": "markdown",
   "metadata": {},
   "source": [
    "# 2. Schritt: Aufteilen der Daten in Trainings- und Testdaten"
   ]
  },
  {
   "cell_type": "code",
   "execution_count": 34,
   "metadata": {},
   "outputs": [
    {
     "name": "stdout",
     "output_type": "stream",
     "text": [
      "mel_train.shape: (96, 128, 1),\n",
      "    labels_train.shape: (96, 2)\n",
      "mel_test.shape: (25, 128, 1),\n",
      "    labels_test.shape: (25, 2)\n"
     ]
    }
   ],
   "source": [
    "from sklearn.model_selection import train_test_split\n",
    "from tensorflow.keras.utils import to_categorical\n",
    "\n",
    "# Labels in One-Hot-Encoding umwandeln\n",
    "labels = to_categorical(labels, num_classes=len(labels_dict))\n",
    "\n",
    "# Train-Test-Split durchführen\n",
    "mel_train, mel_test, labels_train, labels_test = train_test_split(\n",
    "    mels, labels, test_size=0.2, random_state=42\n",
    ")\n",
    "\n",
    "print(\n",
    "    f\"\"\"mel_train.shape: {mel_train.shape},\n",
    "    labels_train.shape: {labels_train.shape}\"\"\"\n",
    ")\n",
    "print(\n",
    "    f\"\"\"mel_test.shape: {mel_test.shape},\n",
    "    labels_test.shape: {labels_test.shape}\"\"\"\n",
    ")\n"
   ]
  },
  {
   "cell_type": "markdown",
   "metadata": {},
   "source": [
    "# 3. Schritt: CNN-Modelle erstellen"
   ]
  },
  {
   "cell_type": "code",
   "execution_count": 35,
   "metadata": {},
   "outputs": [],
   "source": [
    "from tensorflow.keras.layers import Conv1D\n",
    "from tensorflow.keras.layers import Dense\n",
    "from tensorflow.keras.layers import Flatten\n",
    "from tensorflow.keras.layers import MaxPooling1D\n",
    "from tensorflow.keras.models import Sequential\n",
    "\n",
    "\n",
    "def build_cnn(*,include_future: bool) -> Sequential:\n",
    "    \"\"\"Erstellt ein CNN-Modell, das auf den Mel-Spektrogrammen trainiert wird.\n",
    "\n",
    "    :param include_future: Boolean, ob die Zukunft berücksichtigt werden soll\n",
    "    :return: CNN-Modell (TensorFlow Sequential Model)\n",
    "    \"\"\"\n",
    "   # CNN-Modell wird definiert\n",
    "    model = Sequential()\n",
    "    # Eingabeform: (128, 128, 1)\n",
    "    input_shape = mel_train[0].shape\n",
    "\n",
    "    padding_value = \"valid\"\n",
    "    if not include_future:\n",
    "        padding_value = \"causal\"\n",
    "\n",
    "    # Convolutional-Schicht\n",
    "    # 32 Filter (Merkmale), Kernelgröße 3, Aktivierungsfunktion ReLU\n",
    "    model.add(\n",
    "        Conv1D(\n",
    "            32, kernel_size=3, activation=ACTIVATION_1,\n",
    "            input_shape=(input_shape), padding=padding_value\n",
    "        )\n",
    "    )\n",
    "\n",
    "    # MaxPooling-Schicht\n",
    "    # Reduziert die Größe der Ausgabe, indem es die höchsten Werte\n",
    "    # aus 2 Blöcken auswählt\n",
    "    model.add(MaxPooling1D(pool_size=2))\n",
    "\n",
    "    # Convolutional-Schicht\n",
    "    # 64 Filter (Merkmale), Kernelgröße 3, Aktivierungsfunktion ReLU\n",
    "    model.add(Conv1D(64, kernel_size=3,\n",
    "                     activation=ACTIVATION_1, padding=padding_value))\n",
    "\n",
    "    # Wandelt die mehrdimensionale Ausgabe in einen Vektor um\n",
    "    model.add(Flatten())\n",
    "    # Dense-Schicht\n",
    "    # 64 Neuronen, Aktivierungsfunktion ReLU (Führt Klassifizierungslogik durch)\n",
    "    model.add(Dense(64, activation=ACTIVATION_1))\n",
    "    # Dropout-Schicht\n",
    "    # Ausgabeschicht mit einer Neuronanzahl, die der\n",
    "    # Anzahl der Klassen (2 für positiv/negativ) entspricht.\n",
    "    model.add(Dense(len(labels_dict), activation=ACTIVATION_2))\n",
    "    # model.summary()\n",
    "    return model\n"
   ]
  },
  {
   "cell_type": "markdown",
   "metadata": {},
   "source": [
    "# 3.1. Schritt: CNN mit kausaler Faltung"
   ]
  },
  {
   "cell_type": "code",
   "execution_count": 36,
   "metadata": {},
   "outputs": [],
   "source": [
    "causal_model = build_cnn(include_future=False)\n"
   ]
  },
  {
   "cell_type": "markdown",
   "metadata": {},
   "source": [
    "# 3.2. Schritt: CNN mit normaler Faltung"
   ]
  },
  {
   "cell_type": "code",
   "execution_count": 37,
   "metadata": {},
   "outputs": [],
   "source": [
    "model = build_cnn(include_future=True)\n"
   ]
  },
  {
   "cell_type": "markdown",
   "metadata": {},
   "source": [
    "# 4. Modell kompilieren"
   ]
  },
  {
   "cell_type": "code",
   "execution_count": 38,
   "metadata": {},
   "outputs": [],
   "source": [
    "# Modelle werden für das Training vorbereitet\n",
    "# Optimierungsalgorithmus: Adam (Optimierungsalgorithmus) (Wie werden die\n",
    "# Gewichte angepasst)\n",
    "# Verlustfunktion: Categorical Crossentropy (Wie werden die Fehler berechnet)\n",
    "# Metrik: Genauigkeit (Welche Metrik wird zur Bewertung des Modells verwendet)\n",
    "causal_model.compile(\n",
    "    optimizer=OPTIMIZER, loss=LOSS, metrics=[METRIC]\n",
    ")\n",
    "model.compile(\n",
    "    optimizer=OPTIMIZER, loss=LOSS, metrics=[METRIC]\n",
    ")\n"
   ]
  },
  {
   "cell_type": "markdown",
   "metadata": {},
   "source": [
    "# 5. Schritt: Modell trainieren"
   ]
  },
  {
   "cell_type": "code",
   "execution_count": 39,
   "metadata": {},
   "outputs": [
    {
     "name": "stdout",
     "output_type": "stream",
     "text": [
      "Epoch 1/10\n",
      "3/3 [==============================] - 0s 77ms/step - loss: 25.5297 - accuracy: 0.4688 - val_loss: 15.5186 - val_accuracy: 0.2800\n",
      "Epoch 2/10\n",
      "3/3 [==============================] - 0s 11ms/step - loss: 5.7817 - accuracy: 0.5312 - val_loss: 2.4025 - val_accuracy: 0.7200\n",
      "Epoch 3/10\n",
      "3/3 [==============================] - 0s 11ms/step - loss: 3.2483 - accuracy: 0.5729 - val_loss: 1.4592 - val_accuracy: 0.7200\n",
      "Epoch 4/10\n",
      "3/3 [==============================] - 0s 12ms/step - loss: 1.6119 - accuracy: 0.5729 - val_loss: 0.5886 - val_accuracy: 0.7200\n",
      "Epoch 5/10\n",
      "3/3 [==============================] - 0s 11ms/step - loss: 0.6952 - accuracy: 0.5521 - val_loss: 0.8669 - val_accuracy: 0.2800\n",
      "Epoch 6/10\n",
      "3/3 [==============================] - 0s 11ms/step - loss: 0.7897 - accuracy: 0.4271 - val_loss: 0.8779 - val_accuracy: 0.2800\n",
      "Epoch 7/10\n",
      "3/3 [==============================] - 0s 12ms/step - loss: 0.7828 - accuracy: 0.4271 - val_loss: 0.9871 - val_accuracy: 0.2800\n",
      "Epoch 8/10\n",
      "3/3 [==============================] - 0s 13ms/step - loss: 0.7876 - accuracy: 0.4271 - val_loss: 0.7937 - val_accuracy: 0.2800\n",
      "Epoch 9/10\n",
      "3/3 [==============================] - 0s 15ms/step - loss: 0.7334 - accuracy: 0.4271 - val_loss: 0.7432 - val_accuracy: 0.2800\n",
      "Epoch 10/10\n",
      "3/3 [==============================] - 0s 12ms/step - loss: 0.7089 - accuracy: 0.4271 - val_loss: 0.7014 - val_accuracy: 0.2800\n",
      "Epoch 1/10\n",
      "1/3 [=========>....................] - ETA: 0s - loss: 6.9063 - accuracy: 0.4062"
     ]
    },
    {
     "name": "stderr",
     "output_type": "stream",
     "text": [
      "WARNING:absl:Found untraced functions such as _jit_compiled_convolution_op, _jit_compiled_convolution_op while saving (showing 2 of 2). These functions will not be directly callable after loading.\n"
     ]
    },
    {
     "name": "stdout",
     "output_type": "stream",
     "text": [
      "INFO:tensorflow:Assets written to: models/assets\n"
     ]
    },
    {
     "name": "stderr",
     "output_type": "stream",
     "text": [
      "INFO:tensorflow:Assets written to: models/assets\n",
      "\u001b[34m\u001b[1mwandb\u001b[0m: Adding directory to artifact (./models)... Done. 0.2s\n"
     ]
    },
    {
     "name": "stdout",
     "output_type": "stream",
     "text": [
      "3/3 [==============================] - 2s 587ms/step - loss: 13.4660 - accuracy: 0.5104 - val_loss: 7.7734 - val_accuracy: 0.7200\n",
      "Epoch 2/10\n",
      "1/3 [=========>....................] - ETA: 0s - loss: 11.8720 - accuracy: 0.5625"
     ]
    },
    {
     "name": "stderr",
     "output_type": "stream",
     "text": [
      "WARNING:absl:Found untraced functions such as _jit_compiled_convolution_op, _jit_compiled_convolution_op while saving (showing 2 of 2). These functions will not be directly callable after loading.\n"
     ]
    },
    {
     "name": "stdout",
     "output_type": "stream",
     "text": [
      "INFO:tensorflow:Assets written to: models/assets\n"
     ]
    },
    {
     "name": "stderr",
     "output_type": "stream",
     "text": [
      "INFO:tensorflow:Assets written to: models/assets\n",
      "\u001b[34m\u001b[1mwandb\u001b[0m: Adding directory to artifact (./models)... Done. 0.0s\n"
     ]
    },
    {
     "name": "stdout",
     "output_type": "stream",
     "text": [
      "3/3 [==============================] - 1s 359ms/step - loss: 6.3982 - accuracy: 0.5625 - val_loss: 4.5900 - val_accuracy: 0.2800\n",
      "Epoch 3/10\n",
      "1/3 [=========>....................] - ETA: 0s - loss: 3.3602 - accuracy: 0.4688"
     ]
    },
    {
     "name": "stderr",
     "output_type": "stream",
     "text": [
      "WARNING:absl:Found untraced functions such as _jit_compiled_convolution_op, _jit_compiled_convolution_op while saving (showing 2 of 2). These functions will not be directly callable after loading.\n"
     ]
    },
    {
     "name": "stdout",
     "output_type": "stream",
     "text": [
      "INFO:tensorflow:Assets written to: models/assets\n"
     ]
    },
    {
     "name": "stderr",
     "output_type": "stream",
     "text": [
      "INFO:tensorflow:Assets written to: models/assets\n",
      "\u001b[34m\u001b[1mwandb\u001b[0m: Adding directory to artifact (./models)... Done. 0.0s\n"
     ]
    },
    {
     "name": "stdout",
     "output_type": "stream",
     "text": [
      "3/3 [==============================] - 1s 367ms/step - loss: 3.6653 - accuracy: 0.4271 - val_loss: 2.8628 - val_accuracy: 0.2800\n",
      "Epoch 4/10\n",
      "1/3 [=========>....................] - ETA: 0s - loss: 2.0931 - accuracy: 0.4688"
     ]
    },
    {
     "name": "stderr",
     "output_type": "stream",
     "text": [
      "WARNING:absl:Found untraced functions such as _jit_compiled_convolution_op, _jit_compiled_convolution_op while saving (showing 2 of 2). These functions will not be directly callable after loading.\n"
     ]
    },
    {
     "name": "stdout",
     "output_type": "stream",
     "text": [
      "INFO:tensorflow:Assets written to: models/assets\n"
     ]
    },
    {
     "name": "stderr",
     "output_type": "stream",
     "text": [
      "INFO:tensorflow:Assets written to: models/assets\n",
      "\u001b[34m\u001b[1mwandb\u001b[0m: Adding directory to artifact (./models)... Done. 0.0s\n"
     ]
    },
    {
     "name": "stdout",
     "output_type": "stream",
     "text": [
      "3/3 [==============================] - 1s 363ms/step - loss: 1.3823 - accuracy: 0.4479 - val_loss: 0.7672 - val_accuracy: 0.7200\n",
      "Epoch 5/10\n",
      "1/3 [=========>....................] - ETA: 0s - loss: 0.9666 - accuracy: 0.6250"
     ]
    },
    {
     "name": "stderr",
     "output_type": "stream",
     "text": [
      "WARNING:absl:Found untraced functions such as _jit_compiled_convolution_op, _jit_compiled_convolution_op while saving (showing 2 of 2). These functions will not be directly callable after loading.\n"
     ]
    },
    {
     "name": "stdout",
     "output_type": "stream",
     "text": [
      "INFO:tensorflow:Assets written to: models/assets\n"
     ]
    },
    {
     "name": "stderr",
     "output_type": "stream",
     "text": [
      "INFO:tensorflow:Assets written to: models/assets\n",
      "\u001b[34m\u001b[1mwandb\u001b[0m: Adding directory to artifact (./models)... Done. 0.0s\n"
     ]
    },
    {
     "name": "stdout",
     "output_type": "stream",
     "text": [
      "3/3 [==============================] - 1s 351ms/step - loss: 1.3238 - accuracy: 0.5729 - val_loss: 0.8833 - val_accuracy: 0.7200\n",
      "Epoch 6/10\n",
      "1/3 [=========>....................] - ETA: 0s - loss: 1.4165 - accuracy: 0.5312"
     ]
    },
    {
     "name": "stderr",
     "output_type": "stream",
     "text": [
      "WARNING:absl:Found untraced functions such as _jit_compiled_convolution_op, _jit_compiled_convolution_op while saving (showing 2 of 2). These functions will not be directly callable after loading.\n"
     ]
    },
    {
     "name": "stdout",
     "output_type": "stream",
     "text": [
      "INFO:tensorflow:Assets written to: models/assets\n"
     ]
    },
    {
     "name": "stderr",
     "output_type": "stream",
     "text": [
      "INFO:tensorflow:Assets written to: models/assets\n",
      "\u001b[34m\u001b[1mwandb\u001b[0m: Adding directory to artifact (./models)... Done. 0.0s\n"
     ]
    },
    {
     "name": "stdout",
     "output_type": "stream",
     "text": [
      "3/3 [==============================] - 1s 357ms/step - loss: 1.1165 - accuracy: 0.5729 - val_loss: 0.6073 - val_accuracy: 0.7200\n",
      "Epoch 7/10\n",
      "1/3 [=========>....................] - ETA: 0s - loss: 0.9566 - accuracy: 0.4688"
     ]
    },
    {
     "name": "stderr",
     "output_type": "stream",
     "text": [
      "WARNING:absl:Found untraced functions such as _jit_compiled_convolution_op, _jit_compiled_convolution_op while saving (showing 2 of 2). These functions will not be directly callable after loading.\n"
     ]
    },
    {
     "name": "stdout",
     "output_type": "stream",
     "text": [
      "INFO:tensorflow:Assets written to: models/assets\n"
     ]
    },
    {
     "name": "stderr",
     "output_type": "stream",
     "text": [
      "INFO:tensorflow:Assets written to: models/assets\n",
      "\u001b[34m\u001b[1mwandb\u001b[0m: Adding directory to artifact (./models)... Done. 0.0s\n"
     ]
    },
    {
     "name": "stdout",
     "output_type": "stream",
     "text": [
      "3/3 [==============================] - 1s 358ms/step - loss: 0.7650 - accuracy: 0.5521 - val_loss: 0.7402 - val_accuracy: 0.2800\n",
      "Epoch 8/10\n",
      "1/3 [=========>....................] - ETA: 0s - loss: 0.7153 - accuracy: 0.4688"
     ]
    },
    {
     "name": "stderr",
     "output_type": "stream",
     "text": [
      "WARNING:absl:Found untraced functions such as _jit_compiled_convolution_op, _jit_compiled_convolution_op while saving (showing 2 of 2). These functions will not be directly callable after loading.\n"
     ]
    },
    {
     "name": "stdout",
     "output_type": "stream",
     "text": [
      "INFO:tensorflow:Assets written to: models/assets\n"
     ]
    },
    {
     "name": "stderr",
     "output_type": "stream",
     "text": [
      "INFO:tensorflow:Assets written to: models/assets\n",
      "\u001b[34m\u001b[1mwandb\u001b[0m: Adding directory to artifact (./models)... Done. 0.0s\n"
     ]
    },
    {
     "name": "stdout",
     "output_type": "stream",
     "text": [
      "3/3 [==============================] - 1s 350ms/step - loss: 0.7508 - accuracy: 0.4375 - val_loss: 0.8658 - val_accuracy: 0.2800\n",
      "Epoch 9/10\n",
      "1/3 [=========>....................] - ETA: 0s - loss: 0.7854 - accuracy: 0.4062"
     ]
    },
    {
     "name": "stderr",
     "output_type": "stream",
     "text": [
      "WARNING:absl:Found untraced functions such as _jit_compiled_convolution_op, _jit_compiled_convolution_op while saving (showing 2 of 2). These functions will not be directly callable after loading.\n"
     ]
    },
    {
     "name": "stdout",
     "output_type": "stream",
     "text": [
      "INFO:tensorflow:Assets written to: models/assets\n"
     ]
    },
    {
     "name": "stderr",
     "output_type": "stream",
     "text": [
      "INFO:tensorflow:Assets written to: models/assets\n",
      "\u001b[34m\u001b[1mwandb\u001b[0m: Adding directory to artifact (./models)... Done. 0.0s\n"
     ]
    },
    {
     "name": "stdout",
     "output_type": "stream",
     "text": [
      "3/3 [==============================] - 1s 456ms/step - loss: 0.7563 - accuracy: 0.4271 - val_loss: 0.7297 - val_accuracy: 0.2800\n",
      "Epoch 10/10\n",
      "1/3 [=========>....................] - ETA: 0s - loss: 0.6976 - accuracy: 0.5312"
     ]
    },
    {
     "name": "stderr",
     "output_type": "stream",
     "text": [
      "WARNING:absl:Found untraced functions such as _jit_compiled_convolution_op, _jit_compiled_convolution_op while saving (showing 2 of 2). These functions will not be directly callable after loading.\n"
     ]
    },
    {
     "name": "stdout",
     "output_type": "stream",
     "text": [
      "INFO:tensorflow:Assets written to: models/assets\n"
     ]
    },
    {
     "name": "stderr",
     "output_type": "stream",
     "text": [
      "INFO:tensorflow:Assets written to: models/assets\n",
      "\u001b[34m\u001b[1mwandb\u001b[0m: Adding directory to artifact (./models)... Done. 0.0s\n"
     ]
    },
    {
     "name": "stdout",
     "output_type": "stream",
     "text": [
      "3/3 [==============================] - 1s 331ms/step - loss: 0.6795 - accuracy: 0.5833 - val_loss: 0.6076 - val_accuracy: 0.7200\n"
     ]
    },
    {
     "data": {
      "text/html": [],
      "text/plain": [
       "<IPython.core.display.HTML object>"
      ]
     },
     "metadata": {},
     "output_type": "display_data"
    },
    {
     "data": {
      "text/html": [
       "<br>    <style><br>        .wandb-row {<br>            display: flex;<br>            flex-direction: row;<br>            flex-wrap: wrap;<br>            justify-content: flex-start;<br>            width: 100%;<br>        }<br>        .wandb-col {<br>            display: flex;<br>            flex-direction: column;<br>            flex-basis: 100%;<br>            flex: 1;<br>            padding: 10px;<br>        }<br>    </style><br><div class=\"wandb-row\"><div class=\"wandb-col\"><h3>Run history:</h3><br/><table class=\"wandb\"><tr><td>batch/accuracy</td><td>▁▆▃▃█▅▃▃▁▅</td></tr><tr><td>batch/batch_step</td><td>▁▂▃▃▄▅▆▆▇█</td></tr><tr><td>batch/learning_rate</td><td>▁▁▁▁▁▁▁▁▁▁</td></tr><tr><td>batch/loss</td><td>▅█▃▂▁▁▁▁▁▁</td></tr><tr><td>epoch/accuracy</td><td>▅▇▁▂██▇▁▁█</td></tr><tr><td>epoch/epoch</td><td>▁▂▃▃▄▅▆▆▇█</td></tr><tr><td>epoch/learning_rate</td><td>▁▁▁▁▁▁▁▁▁▁</td></tr><tr><td>epoch/loss</td><td>█▄▃▁▁▁▁▁▁▁</td></tr><tr><td>epoch/val_accuracy</td><td>█▁▁███▁▁▁█</td></tr><tr><td>epoch/val_loss</td><td>█▅▃▁▁▁▁▁▁▁</td></tr></table><br/></div><div class=\"wandb-col\"><h3>Run summary:</h3><br/><table class=\"wandb\"><tr><td>batch/accuracy</td><td>0.53125</td></tr><tr><td>batch/batch_step</td><td>45</td></tr><tr><td>batch/learning_rate</td><td>0.001</td></tr><tr><td>batch/loss</td><td>0.69762</td></tr><tr><td>epoch/accuracy</td><td>0.58333</td></tr><tr><td>epoch/epoch</td><td>9</td></tr><tr><td>epoch/learning_rate</td><td>0.001</td></tr><tr><td>epoch/loss</td><td>0.67946</td></tr><tr><td>epoch/val_accuracy</td><td>0.72</td></tr><tr><td>epoch/val_loss</td><td>0.60756</td></tr></table><br/></div></div>"
      ],
      "text/plain": [
       "<IPython.core.display.HTML object>"
      ]
     },
     "metadata": {},
     "output_type": "display_data"
    },
    {
     "data": {
      "text/html": [
       " View run <strong style=\"color:#cdcd00\">0busw0y1</strong> at: <a href='https://wandb.ai/paula-schwalm-technische-hochschule-mittelhessen-thm/cnn_covid_audio_classification_virufy/runs/0busw0y1' target=\"_blank\">https://wandb.ai/paula-schwalm-technische-hochschule-mittelhessen-thm/cnn_covid_audio_classification_virufy/runs/0busw0y1</a><br> View project at: <a href='https://wandb.ai/paula-schwalm-technische-hochschule-mittelhessen-thm/cnn_covid_audio_classification_virufy' target=\"_blank\">https://wandb.ai/paula-schwalm-technische-hochschule-mittelhessen-thm/cnn_covid_audio_classification_virufy</a><br>Synced 5 W&B file(s), 0 media file(s), 41 artifact file(s) and 0 other file(s)"
      ],
      "text/plain": [
       "<IPython.core.display.HTML object>"
      ]
     },
     "metadata": {},
     "output_type": "display_data"
    },
    {
     "data": {
      "text/html": [
       "Find logs at: <code>./wandb/run-20241214_163428-0busw0y1/logs</code>"
      ],
      "text/plain": [
       "<IPython.core.display.HTML object>"
      ]
     },
     "metadata": {},
     "output_type": "display_data"
    }
   ],
   "source": [
    "# Modelle werden trainiert\n",
    "# Anzahl der Epochen: 5 (Wie oft wird das Modell auf den\n",
    "# Trainingsdaten trainiert)\n",
    "# Batch-Größe: 32 (Wie viele Beispiele werden gleichzeitig verarbeitet)\n",
    "# Validierungsdaten: Testdaten (Überprüfung der Performance des Modells auf\n",
    "# den Testdaten)\n",
    "history_causal = causal_model.fit(\n",
    "    mel_train,\n",
    "    labels_train,\n",
    "    epochs=EPOCHS,\n",
    "    batch_size=BATCH_SIZE,\n",
    "    validation_data=(mel_test, labels_test),\n",
    ")\n",
    "history = model.fit(\n",
    "    mel_train,\n",
    "    labels_train,\n",
    "    epochs=EPOCHS,\n",
    "    batch_size=BATCH_SIZE,\n",
    "    validation_data=(mel_test, labels_test),\n",
    "         callbacks=[\n",
    "        wandb.keras.WandbMetricsLogger(log_freq=5),\n",
    "        wandb.keras.WandbModelCheckpoint(\"models\")\n",
    "    ]\n",
    ")\n",
    "\n",
    "wandb.finish()\n"
   ]
  },
  {
   "cell_type": "markdown",
   "metadata": {},
   "source": [
    "# 6. Evaluation"
   ]
  },
  {
   "cell_type": "code",
   "execution_count": 41,
   "metadata": {},
   "outputs": [
    {
     "data": {
      "image/png": "[encoded data removed]",
      "text/plain": [
       "<Figure size 432x288 with 1 Axes>"
      ]
     },
     "metadata": {
      "needs_background": "light"
     },
     "output_type": "display_data"
    },
    {
     "name": "stdout",
     "output_type": "stream",
     "text": [
      "1/1 - 0s - loss: 0.6076 - accuracy: 0.7200 - 18ms/epoch - 18ms/step\n",
      "Main Model Test Accuracy: 0.7200\n",
      "Main Model Test Loss: 0.6076\n"
     ]
    },
    {
     "data": {
      "image/png": "[encoded data removed]",
      "text/plain": [
       "<Figure size 432x288 with 1 Axes>"
      ]
     },
     "metadata": {
      "needs_background": "light"
     },
     "output_type": "display_data"
    },
    {
     "name": "stdout",
     "output_type": "stream",
     "text": [
      "1/1 - 0s - loss: 0.7014 - accuracy: 0.2800 - 16ms/epoch - 16ms/step\n",
      "Causal Model Test Accuracy: 0.2800\n",
      "Causal Model Test Loss: 0.7014\n"
     ]
    },
    {
     "data": {
      "image/png": "[encoded data removed]",
      "text/plain": [
       "<Figure size 432x288 with 1 Axes>"
      ]
     },
     "metadata": {
      "needs_background": "light"
     },
     "output_type": "display_data"
    },
    {
     "name": "stdout",
     "output_type": "stream",
     "text": [
      "1/1 - 0s - loss: 0.7067 - accuracy: 0.5625 - 16ms/epoch - 16ms/step\n",
      "Main Model with Original Data Test Accuracy: 0.5625\n",
      "Main Model with Original Data Test Loss: 0.7067\n"
     ]
    },
    {
     "data": {
      "image/png": "[encoded data removed]",
      "text/plain": [
       "<Figure size 432x288 with 1 Axes>"
      ]
     },
     "metadata": {
      "needs_background": "light"
     },
     "output_type": "display_data"
    },
    {
     "name": "stdout",
     "output_type": "stream",
     "text": [
      "1/1 - 0s - loss: 0.7123 - accuracy: 0.4375 - 17ms/epoch - 17ms/step\n",
      "Causal Model with Original Data Test Accuracy: 0.4375\n",
      "Causal Model with Original Data Test Loss: 0.7123\n"
     ]
    }
   ],
   "source": [
    "import matplotlib.pyplot as plt\n",
    "\n",
    "\n",
    "def plot_accuracy_and_evaluate(\n",
    "    model: Sequential, history: Sequential, mel_test: dict, labels_test: dict,\n",
    "    model_name: str=\"Model\") -> None:\n",
    "    \"\"\"Plottet die Trainings- und Validierungsgenauigkeit.\n",
    "\n",
    "    :param model: Modell, das evaluiert werden soll\n",
    "    :param history: Trainingshistorie des Modells\n",
    "    :param mel_test: Testdaten (Mel-Spektrogramme)\n",
    "    :param labels_test: Testlabels\n",
    "    :param model_name: Name des Modells\n",
    "    \"\"\"\n",
    "    plt.plot(history.history[\"accuracy\"], label=\"Train Accuracy\")\n",
    "    plt.plot(history.history[\"val_accuracy\"], label=\"Validation Accuracy\")\n",
    "    plt.xlabel(\"Epoch\")\n",
    "    plt.ylabel(\"Accuracy\")\n",
    "    plt.ylim([0.5, 1])\n",
    "    plt.title(f\"{model_name} Accuracy over Epochs\")\n",
    "    plt.legend(loc=\"lower right\")\n",
    "    plt.show()\n",
    "\n",
    "    test_loss, test_acc = model.evaluate(mel_test, labels_test, verbose=2)\n",
    "    print(f\"{model_name} Test Accuracy: {test_acc:.4f}\")\n",
    "    print(f\"{model_name} Test Loss: {test_loss:.4f}\")\n",
    "\n",
    "\n",
    "# Beispielaufruf für das Standardmodell\n",
    "plot_accuracy_and_evaluate(\n",
    "    model, history, mel_test, labels_test, model_name=\"Main Model\"\n",
    ")\n",
    "\n",
    "# Beispielaufruf für das Causal Modell\n",
    "plot_accuracy_and_evaluate(\n",
    "    causal_model,\n",
    "    history_causal,\n",
    "    mel_test,\n",
    "    labels_test,\n",
    "    model_name=\"Causal Model\",\n",
    ")\n",
    "\n",
    "# Testen mit den Originaldaten\n",
    "data_path = (\n",
    "    \"/Users/paula/Documents/thm/pki/code/data/virufy-data/clinical/original/\"\n",
    ")\n",
    "test_mels, test_labels = convert_audio_files_to_mel_spectrogram(\n",
    "    data_path, labels_dict\n",
    ")\n",
    "test_labels = to_categorical(test_labels, num_classes=len(labels_dict))\n",
    "mel_test, labels_test = test_mels, test_labels\n",
    "plot_accuracy_and_evaluate(\n",
    "    model,\n",
    "    history,\n",
    "    mel_test,\n",
    "    labels_test,\n",
    "    model_name=\"Main Model with Original Data\",\n",
    ")\n",
    "plot_accuracy_and_evaluate(\n",
    "    causal_model,\n",
    "    history,\n",
    "    mel_test,\n",
    "    labels_test,\n",
    "    model_name=\"Causal Model with Original Data\",\n",
    ")\n"
   ]
  }
 ],
 "metadata": {
  "kernelspec": {
   "display_name": "Python 3",
   "language": "python",
   "name": "python3"
  },
  "language_info": {
   "codemirror_mode": {
    "name": "ipython",
    "version": 3
   },
   "file_extension": ".py",
   "mimetype": "text/x-python",
   "name": "python",
   "nbconvert_exporter": "python",
   "pygments_lexer": "ipython3",
   "version": "3.9.12"
  }
 },
 "nbformat": 4,
 "nbformat_minor": 2
}
