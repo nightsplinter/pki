{
 "cells": [
  {
   "cell_type": "markdown",
   "metadata": {},
   "source": [
    "# Convolutional Neural Network (CNN)\n",
    "- Zwei verschiedene Arten von Convolutional Neural Networks (CNNs) werden in diesem Notebook implementiert.\n",
    "    - CNN mit kausaler Faltung, d.h. die Ausgabe/Vorhersage hängt nur von der Vergangenheit ab.\n",
    "    - CNN mit normaler Faltung, d.h. die Ausgabe/Vorhersage hängt von der Zukunft und der Vergangenheit ab.\n",
    "\n",
    "Bei der Erstellung des Codes wurde sich an den folgenden Quellen orientiert:\n",
    "- https://medium.com/@oluyaled/audio-classification-using-deep-learning-and-tensorflow-a-step-by-step-guide-5327467ee9ab\n",
    "- https://www.tensorflow.org/tutorials/images/cnn\n",
    "- https://wandb.ai/mostafaibrahim17/ml-articles/reports/An-Introduction-to-Audio-Classification-with-Keras--Vmlldzo0MDQzNDUy"
   ]
  },
  {
   "cell_type": "markdown",
   "metadata": {},
   "source": [
    "# 1. Schritt: Audio-Dateien laden und in Spektrogramme umwandeln"
   ]
  },
  {
   "cell_type": "code",
   "execution_count": 28,
   "metadata": {},
   "outputs": [],
   "source": [
    "from pathlib import Path\n",
    "import os\n",
    "\n",
    "import librosa\n",
    "import numpy as np\n",
    "import tensorflow as tf\n",
    "\n",
    "\n",
    "def convert_audio_files_to_mel_spectrogram(data_path: str,\n",
    "                                           labels_dict: dict) -> tuple:\n",
    "    \"\"\"Konvertiert die Audio-Dateien in Mel-Spektrogramme.\n",
    "\n",
    "    :param data_path: Pfad zu dem Hauptverzeichnis, in dem die Audio-Dateien\n",
    "    liegen\n",
    "    :param labels_dict: Dictionary, das die Labels den Ordnernamen zuordnet\n",
    "    :return: Mel-Spektrogramme und Labels\n",
    "    \"\"\"\n",
    "    labels, mels = [], []\n",
    "    for label, folder in labels_dict.items():\n",
    "        folder_path = Path(data_path) / folder\n",
    "        # Zieldimensionen der Spektrogramme d.h Größe der Bilder (128x128 Pixel)\n",
    "        target_shape = (128, 128)\n",
    "\n",
    "        for file in os.listdir(folder_path):\n",
    "            file_path = Path(folder_path) / file\n",
    "\n",
    "            # Lade die Audiodatei (Original-Sampling-Rate beibehalten sr=None)\n",
    "            audio_data, sample_rate = librosa.load(file_path, sr=None)\n",
    "\n",
    "            # Berechne das Mel-Spektrogramm\n",
    "            mel_spectrogram = librosa.feature.melspectrogram(\n",
    "                y=audio_data, sr=sample_rate\n",
    "            )\n",
    "\n",
    "            # Wandle das Spektrogramm in Dezibel um (logarithmische Skala)\n",
    "            # Notwendig um großen Unterschiede (kleine/größere Werte)\n",
    "            # in den Spektrogrammen auszugleichen\n",
    "            mel_spectrogram = librosa.power_to_db(mel_spectrogram, ref=np.max)\n",
    "\n",
    "            # Füge eine Kanal-Dimension hinzu (Höhe, Breite, Kanal)\n",
    "            mel_spectrogram = np.expand_dims(mel_spectrogram, axis=-1)\n",
    "\n",
    "            # Skaliere das Spektrogramm auf die gewünschte Größe (128x128 Pixel)\n",
    "            mel_spectrogram = tf.image.resize(mel_spectrogram, target_shape)\n",
    "\n",
    "            # Mel-Spektrogramm entlang der Höhe oder Breite mitteln\n",
    "            # um es in eine 1D-Darstellung zu transformieren\n",
    "            # Mittelwert entlang der Höhe\n",
    "            mel_spectrogram = np.mean(mel_spectrogram, axis=0)\n",
    "\n",
    "\n",
    "            mels.append(mel_spectrogram)\n",
    "            labels.append(label)\n",
    "\n",
    "            # Mel-Spektrogramm anschauen\n",
    "            # audio_label = labels_dict[label]\n",
    "            # librosa.display.waveshow(audio_data, sr=sample_rate)\n",
    "            # plt.figure(figsize=(10, 4) )\n",
    "            # plt.title(audio_label)\n",
    "\n",
    "    return np.array(mels), np.array(labels)\n",
    "\n",
    "\n",
    "# Pfade zu dem Hauptverzeichnis und den Ordnern mit den Audio-Dateien\n",
    "data_path = (\n",
    "    \"/Users/paula/Documents/thm/pki/code/data/virufy-data/clinical/segmented/\"\n",
    ")\n",
    "\n",
    "labels_dict = {0: \"neg\", 1: \"pos\"}\n",
    "\n",
    "# Audio-Dateien laden und in Mel-Spektrogramme konvertieren\n",
    "mels, labels = convert_audio_files_to_mel_spectrogram(data_path, labels_dict)\n"
   ]
  },
  {
   "cell_type": "markdown",
   "metadata": {},
   "source": [
    "# 2. Schritt: Aufteilen der Daten in Trainings- und Testdaten"
   ]
  },
  {
   "cell_type": "code",
   "execution_count": 29,
   "metadata": {},
   "outputs": [
    {
     "name": "stdout",
     "output_type": "stream",
     "text": [
      "mel_train.shape: (96, 128, 1),\n",
      "    labels_train.shape: (96, 2)\n",
      "mel_test.shape: (25, 128, 1),\n",
      "    labels_test.shape: (25, 2)\n"
     ]
    }
   ],
   "source": [
    "from sklearn.model_selection import train_test_split\n",
    "from tensorflow.keras.utils import to_categorical\n",
    "\n",
    "# Labels in One-Hot-Encoding umwandeln\n",
    "labels = to_categorical(labels, num_classes=len(labels_dict))\n",
    "\n",
    "# Train-Test-Split durchführen\n",
    "mel_train, mel_test, labels_train, labels_test = train_test_split(\n",
    "    mels, labels, test_size=0.2, random_state=42\n",
    ")\n",
    "\n",
    "print(\n",
    "    f\"\"\"mel_train.shape: {mel_train.shape},\n",
    "    labels_train.shape: {labels_train.shape}\"\"\"\n",
    ")\n",
    "print(\n",
    "    f\"\"\"mel_test.shape: {mel_test.shape},\n",
    "    labels_test.shape: {labels_test.shape}\"\"\"\n",
    ")\n"
   ]
  },
  {
   "cell_type": "markdown",
   "metadata": {},
   "source": [
    "# 3. Schritt: CNN-Modelle erstellen"
   ]
  },
  {
   "cell_type": "code",
   "execution_count": 30,
   "metadata": {},
   "outputs": [],
   "source": [
    "from tensorflow.keras.layers import Conv1D\n",
    "from tensorflow.keras.layers import Dense\n",
    "from tensorflow.keras.layers import Flatten\n",
    "from tensorflow.keras.layers import MaxPooling1D\n",
    "from tensorflow.keras.models import Sequential\n",
    "\n",
    "\n",
    "def build_cnn(*,include_future: bool) -> Sequential:\n",
    "    \"\"\"Erstellt ein CNN-Modell, das auf den Mel-Spektrogrammen trainiert wird.\n",
    "\n",
    "    :param include_future: Boolean, ob die Zukunft berücksichtigt werden soll\n",
    "    :return: CNN-Modell (TensorFlow Sequential Model)\n",
    "    \"\"\"\n",
    "    # CNN-Modell wird definiert\n",
    "    model = Sequential()\n",
    "    # Eingabeform: (128, 128, 1)\n",
    "    input_shape = mel_train[0].shape\n",
    "\n",
    "    padding_value = \"valid\"\n",
    "    if not include_future:\n",
    "        padding_value = \"causal\"\n",
    "\n",
    "    # Convolutional-Schicht\n",
    "    # 32 Filter (Merkmale), Kernelgröße 3, Aktivierungsfunktion ReLU\n",
    "    model.add(\n",
    "        Conv1D(\n",
    "            32, kernel_size=3, activation=\"relu\",\n",
    "            input_shape=(input_shape), padding=padding_value\n",
    "        )\n",
    "    )\n",
    "\n",
    "    # MaxPooling-Schicht\n",
    "    # Reduziert die Größe der Ausgabe, indem es die höchsten Werte\n",
    "    # aus 2 Blöcken auswählt\n",
    "    model.add(MaxPooling1D(pool_size=2))\n",
    "\n",
    "    # Convolutional-Schicht\n",
    "    # 64 Filter (Merkmale), Kernelgröße 3, Aktivierungsfunktion ReLU\n",
    "    model.add(Conv1D(64, kernel_size=3,\n",
    "                     activation=\"relu\", padding=padding_value))\n",
    "\n",
    "    # Wandelt die mehrdimensionale Ausgabe in einen Vektor um\n",
    "    model.add(Flatten())\n",
    "    # Dense-Schicht\n",
    "    # 64 Neuronen, Aktivierungsfunktion ReLU (Führt Klassifizierungslogik durch)\n",
    "    model.add(Dense(64, activation=\"relu\"))\n",
    "    # Dropout-Schicht\n",
    "    # Ausgabeschicht mit einer Neuronanzahl, die der\n",
    "    # Anzahl der Klassen (2 für positiv/negativ) entspricht.\n",
    "    model.add(Dense(len(labels_dict), activation=\"softmax\"))\n",
    "    # model.summary()\n",
    "    return model\n"
   ]
  },
  {
   "cell_type": "markdown",
   "metadata": {},
   "source": [
    "# 3.1. Schritt: CNN mit kausaler Faltung"
   ]
  },
  {
   "cell_type": "code",
   "execution_count": 31,
   "metadata": {},
   "outputs": [],
   "source": [
    "causal_model = build_cnn(include_future=False)\n"
   ]
  },
  {
   "cell_type": "markdown",
   "metadata": {},
   "source": [
    "# 3.2. Schritt: CNN mit normaler Faltung"
   ]
  },
  {
   "cell_type": "code",
   "execution_count": 32,
   "metadata": {},
   "outputs": [],
   "source": [
    "model = build_cnn(include_future=True)\n"
   ]
  },
  {
   "cell_type": "markdown",
   "metadata": {},
   "source": [
    "# 4. Modell kompilieren"
   ]
  },
  {
   "cell_type": "code",
   "execution_count": 33,
   "metadata": {},
   "outputs": [],
   "source": [
    "# Modelle werden für das Training vorbereitet\n",
    "# Optimierungsalgorithmus: Adam (Optimierungsalgorithmus) (Wie werden die\n",
    "# Gewichte angepasst)\n",
    "# Verlustfunktion: Categorical Crossentropy (Wie werden die Fehler berechnet)\n",
    "# Metrik: Genauigkeit (Welche Metrik wird zur Bewertung des Modells verwendet)\n",
    "causal_model.compile(\n",
    "    optimizer=\"adam\", loss=\"categorical_crossentropy\", metrics=[\"accuracy\"]\n",
    ")\n",
    "model.compile(\n",
    "    optimizer=\"adam\", loss=\"categorical_crossentropy\", metrics=[\"accuracy\"]\n",
    ")\n"
   ]
  },
  {
   "cell_type": "markdown",
   "metadata": {},
   "source": [
    "# 5. Schritt: Modell trainieren"
   ]
  },
  {
   "cell_type": "code",
   "execution_count": 34,
   "metadata": {},
   "outputs": [
    {
     "name": "stdout",
     "output_type": "stream",
     "text": [
      "Epoch 1/10\n"
     ]
    },
    {
     "name": "stdout",
     "output_type": "stream",
     "text": [
      "3/3 [==============================] - 0s 69ms/step - loss: 5.8858 - accuracy: 0.6562 - val_loss: 1.2049 - val_accuracy: 0.2800\n",
      "Epoch 2/10\n",
      "3/3 [==============================] - 0s 14ms/step - loss: 1.3266 - accuracy: 0.4271 - val_loss: 0.5995 - val_accuracy: 0.7200\n",
      "Epoch 3/10\n",
      "3/3 [==============================] - 0s 13ms/step - loss: 0.9434 - accuracy: 0.5729 - val_loss: 0.6588 - val_accuracy: 0.7200\n",
      "Epoch 4/10\n",
      "3/3 [==============================] - 0s 14ms/step - loss: 0.7442 - accuracy: 0.4896 - val_loss: 1.1623 - val_accuracy: 0.2800\n",
      "Epoch 5/10\n",
      "3/3 [==============================] - 0s 14ms/step - loss: 0.8203 - accuracy: 0.4688 - val_loss: 0.5941 - val_accuracy: 0.7200\n",
      "Epoch 6/10\n",
      "3/3 [==============================] - 0s 13ms/step - loss: 0.7016 - accuracy: 0.5729 - val_loss: 0.5966 - val_accuracy: 0.7200\n",
      "Epoch 7/10\n",
      "3/3 [==============================] - 0s 13ms/step - loss: 0.6906 - accuracy: 0.6354 - val_loss: 0.7467 - val_accuracy: 0.4000\n",
      "Epoch 8/10\n",
      "3/3 [==============================] - 0s 17ms/step - loss: 0.6705 - accuracy: 0.5000 - val_loss: 0.6130 - val_accuracy: 0.6400\n",
      "Epoch 9/10\n",
      "3/3 [==============================] - 0s 16ms/step - loss: 0.6526 - accuracy: 0.5729 - val_loss: 0.5835 - val_accuracy: 0.7200\n",
      "Epoch 10/10\n",
      "3/3 [==============================] - 0s 15ms/step - loss: 0.6824 - accuracy: 0.6146 - val_loss: 0.6621 - val_accuracy: 0.6800\n",
      "Epoch 1/10\n",
      "3/3 [==============================] - 0s 64ms/step - loss: 9.7334 - accuracy: 0.5938 - val_loss: 5.1855 - val_accuracy: 0.7200\n",
      "Epoch 2/10\n",
      "3/3 [==============================] - 0s 12ms/step - loss: 5.9312 - accuracy: 0.4688 - val_loss: 11.1000 - val_accuracy: 0.2800\n",
      "Epoch 3/10\n",
      "3/3 [==============================] - 0s 12ms/step - loss: 6.9607 - accuracy: 0.4271 - val_loss: 1.9387 - val_accuracy: 0.2800\n",
      "Epoch 4/10\n",
      "3/3 [==============================] - 0s 12ms/step - loss: 2.1465 - accuracy: 0.4896 - val_loss: 2.4230 - val_accuracy: 0.7200\n",
      "Epoch 5/10\n",
      "3/3 [==============================] - 0s 12ms/step - loss: 3.5325 - accuracy: 0.5729 - val_loss: 1.8014 - val_accuracy: 0.7200\n",
      "Epoch 6/10\n",
      "3/3 [==============================] - 0s 12ms/step - loss: 1.5646 - accuracy: 0.5729 - val_loss: 1.8043 - val_accuracy: 0.2800\n",
      "Epoch 7/10\n",
      "3/3 [==============================] - 0s 12ms/step - loss: 1.6900 - accuracy: 0.4271 - val_loss: 1.8427 - val_accuracy: 0.2800\n",
      "Epoch 8/10\n",
      "3/3 [==============================] - 0s 13ms/step - loss: 0.9813 - accuracy: 0.4583 - val_loss: 0.6020 - val_accuracy: 0.7200\n",
      "Epoch 9/10\n",
      "3/3 [==============================] - 0s 12ms/step - loss: 0.9306 - accuracy: 0.5729 - val_loss: 0.8247 - val_accuracy: 0.7200\n",
      "Epoch 10/10\n",
      "3/3 [==============================] - 0s 13ms/step - loss: 1.0539 - accuracy: 0.5729 - val_loss: 0.6138 - val_accuracy: 0.7200\n"
     ]
    }
   ],
   "source": [
    "# Modelle werden trainiert\n",
    "# Anzahl der Epochen: 5 (Wie oft wird das Modell auf den\n",
    "# Trainingsdaten trainiert)\n",
    "# Batch-Größe: 32 (Wie viele Beispiele werden gleichzeitig verarbeitet)\n",
    "# Validierungsdaten: Testdaten (Überprüfung der Performance des Modells auf\n",
    "# den Testdaten)\n",
    "history_causal = causal_model.fit(\n",
    "    mel_train,\n",
    "    labels_train,\n",
    "    epochs=10,\n",
    "    batch_size=32,\n",
    "    validation_data=(mel_test, labels_test),\n",
    ")\n",
    "history = model.fit(\n",
    "    mel_train,\n",
    "    labels_train,\n",
    "    epochs=10,\n",
    "    batch_size=32,\n",
    "    validation_data=(mel_test, labels_test),\n",
    ")\n"
   ]
  },
  {
   "cell_type": "markdown",
   "metadata": {},
   "source": [
    "# 6. Evaluation"
   ]
  },
  {
   "cell_type": "code",
   "execution_count": 35,
   "metadata": {},
   "outputs": [
    {
     "data": {
      "image/png": "[encoded data removed]",
      "text/plain": [
       "<Figure size 432x288 with 1 Axes>"
      ]
     },
     "metadata": {
      "needs_background": "light"
     },
     "output_type": "display_data"
    },
    {
     "name": "stdout",
     "output_type": "stream",
     "text": [
      "1/1 - 0s - loss: 0.6138 - accuracy: 0.7200 - 28ms/epoch - 28ms/step\n",
      "Main Model Test Accuracy: 0.7200\n",
      "Main Model Test Loss: 0.6138\n"
     ]
    },
    {
     "data": {
      "image/png": "[encoded data removed]",
      "text/plain": [
       "<Figure size 432x288 with 1 Axes>"
      ]
     },
     "metadata": {
      "needs_background": "light"
     },
     "output_type": "display_data"
    },
    {
     "name": "stdout",
     "output_type": "stream",
     "text": [
      "1/1 - 0s - loss: 0.6621 - accuracy: 0.6800 - 17ms/epoch - 17ms/step\n",
      "Causal Model Test Accuracy: 0.6800\n",
      "Causal Model Test Loss: 0.6621\n"
     ]
    },
    {
     "data": {
      "image/png": "[encoded data removed]",
      "text/plain": [
       "<Figure size 432x288 with 1 Axes>"
      ]
     },
     "metadata": {
      "needs_background": "light"
     },
     "output_type": "display_data"
    },
    {
     "name": "stdout",
     "output_type": "stream",
     "text": [
      "1/1 - 0s - loss: 0.6091 - accuracy: 0.6250 - 17ms/epoch - 17ms/step\n",
      "Main Model with Original Data Test Accuracy: 0.6250\n",
      "Main Model with Original Data Test Loss: 0.6091\n"
     ]
    },
    {
     "data": {
      "image/png": "[encoded data removed]",
      "text/plain": [
       "<Figure size 432x288 with 1 Axes>"
      ]
     },
     "metadata": {
      "needs_background": "light"
     },
     "output_type": "display_data"
    },
    {
     "name": "stdout",
     "output_type": "stream",
     "text": [
      "1/1 - 0s - loss: 0.6822 - accuracy: 0.5625 - 17ms/epoch - 17ms/step\n",
      "Causal Model with Original Data Test Accuracy: 0.5625\n",
      "Causal Model with Original Data Test Loss: 0.6822\n"
     ]
    }
   ],
   "source": [
    "import matplotlib.pyplot as plt\n",
    "\n",
    "\n",
    "def plot_accuracy_and_evaluate(\n",
    "    model: Sequential, history: Sequential, mel_test: dict, labels_test: dict,\n",
    "    model_name: str=\"Model\") -> None:\n",
    "    \"\"\"Plottet die Trainings- und Validierungsgenauigkeit.\n",
    "\n",
    "    :param model: Modell, das evaluiert werden soll\n",
    "    :param history: Trainingshistorie des Modells\n",
    "    :param mel_test: Testdaten (Mel-Spektrogramme)\n",
    "    :param labels_test: Testlabels\n",
    "    :param model_name: Name des Modells\n",
    "    \"\"\"\n",
    "    plt.plot(history.history[\"accuracy\"], label=\"Train Accuracy\")\n",
    "    plt.plot(history.history[\"val_accuracy\"], label=\"Validation Accuracy\")\n",
    "    plt.xlabel(\"Epoch\")\n",
    "    plt.ylabel(\"Accuracy\")\n",
    "    plt.ylim([0.5, 1])\n",
    "    plt.title(f\"{model_name} Accuracy over Epochs\")\n",
    "    plt.legend(loc=\"lower right\")\n",
    "    plt.show()\n",
    "\n",
    "    test_loss, test_acc = model.evaluate(mel_test, labels_test, verbose=2)\n",
    "    print(f\"{model_name} Test Accuracy: {test_acc:.4f}\")\n",
    "    print(f\"{model_name} Test Loss: {test_loss:.4f}\")\n",
    "\n",
    "\n",
    "# Beispielaufruf für das Standardmodell\n",
    "plot_accuracy_and_evaluate(\n",
    "    model, history, mel_test, labels_test, model_name=\"Main Model\"\n",
    ")\n",
    "\n",
    "# Beispielaufruf für das Causal Modell\n",
    "plot_accuracy_and_evaluate(\n",
    "    causal_model,\n",
    "    history_causal,\n",
    "    mel_test,\n",
    "    labels_test,\n",
    "    model_name=\"Causal Model\",\n",
    ")\n",
    "\n",
    "# Testen mit den Originaldaten\n",
    "data_path = (\n",
    "    \"/Users/paula/Documents/thm/pki/code/data/virufy-data/clinical/original/\"\n",
    ")\n",
    "test_mels, test_labels = convert_audio_files_to_mel_spectrogram(\n",
    "    data_path, labels_dict\n",
    ")\n",
    "test_labels = to_categorical(test_labels, num_classes=len(labels_dict))\n",
    "mel_test, labels_test = test_mels, test_labels\n",
    "plot_accuracy_and_evaluate(\n",
    "    model,\n",
    "    history,\n",
    "    mel_test,\n",
    "    labels_test,\n",
    "    model_name=\"Main Model with Original Data\",\n",
    ")\n",
    "plot_accuracy_and_evaluate(\n",
    "    causal_model,\n",
    "    history,\n",
    "    mel_test,\n",
    "    labels_test,\n",
    "    model_name=\"Causal Model with Original Data\",\n",
    ")\n"
   ]
  }
 ],
 "metadata": {
  "kernelspec": {
   "display_name": "Python 3",
   "language": "python",
   "name": "python3"
  },
  "language_info": {
   "codemirror_mode": {
    "name": "ipython",
    "version": 3
   },
   "file_extension": ".py",
   "mimetype": "text/x-python",
   "name": "python",
   "nbconvert_exporter": "python",
   "pygments_lexer": "ipython3",
   "version": "3.9.12"
  }
 },
 "nbformat": 4,
 "nbformat_minor": 2
}
