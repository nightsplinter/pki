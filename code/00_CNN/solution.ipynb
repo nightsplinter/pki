{
 "cells": [
  {
   "cell_type": "markdown",
   "metadata": {},
   "source": [
    "# Convolutional Neural Network (CNN)\n",
    "- Zwei verschiedene Arten von Convolutional Neural Networks (CNNs) werden in diesem Notebook implementiert.\n",
    "    - CNN mit kausaler Faltung, d.h. die Ausgabe/Vorhersage hängt nur von der Vergangenheit ab.\n",
    "    - CNN mit normaler Faltung, d.h. die Ausgabe/Vorhersage hängt von der Zukunft und der Vergangenheit ab.\n",
    "\n",
    "- Es besteht die Möglichkeit, die Audio-Daten in Mel-Spektrogramme oder in MFCCs umzuwandeln.\n",
    "\n",
    "Bei der Erstellung des Codes wurde sich an den folgenden Quellen orientiert:\n",
    "- https://medium.com/@oluyaled/audio-classification-using-deep-learning-and-tensorflow-a-step-by-step-guide-5327467ee9ab\n",
    "- https://www.tensorflow.org/tutorials/images/cnn\n",
    "- https://wandb.ai/mostafaibrahim17/ml-articles/reports/An-Introduction-to-Audio-Classification-with-Keras--Vmlldzo0MDQzNDUy"
   ]
  },
  {
   "cell_type": "markdown",
   "metadata": {},
   "source": [
    "# 1. Schritt: Audio-Dateien laden und in Spektrogramme umwandeln"
   ]
  },
  {
   "cell_type": "code",
   "execution_count": 16,
   "metadata": {},
   "outputs": [
    {
     "name": "stderr",
     "output_type": "stream",
     "text": [
      "/Users/paula/opt/anaconda3/lib/python3.9/site-packages/librosa/core/spectrum.py:266: UserWarning: n_fft=2048 is too large for input signal of length=0\n",
      "  warnings.warn(\n",
      "/Users/paula/opt/anaconda3/lib/python3.9/site-packages/librosa/feature/spectral.py:2143: UserWarning: Empty filters detected in mel frequency basis. Some channels will produce empty responses. Try increasing your sampling rate (and fmax) or reducing n_mels.\n",
      "  mel_basis = filters.mel(sr=sr, n_fft=n_fft, **kwargs)\n"
     ]
    }
   ],
   "source": [
    "import sys\n",
    "\n",
    "import numpy as np\n",
    "\n",
    "sys.path.append(\"/Users/paula/Documents/thm/pki/code\")\n",
    "\n",
    "from convert import get_converted_coswara_audio_files\n",
    "from convert import get_converted_virufy_audio_files\n",
    "from convert import get_valid_coswara_filenames\n",
    "\n",
    "labels_dict = {0: \"neg\", 1: \"pos\"}\n",
    "\n",
    "labels, mels = [], []\n",
    "\n",
    "# Audio-Dateien laden und in Mel-Spektrogramme konvertieren\n",
    "p_filenames, n_filenames = get_valid_coswara_filenames()\n",
    "\n",
    "p_coswara_mels, p_coswara_labels = get_converted_coswara_audio_files(\n",
    "    p_filenames, is_positive=True, convert_to_mel=True\n",
    ")\n",
    "n_coswara_mels, n_coswara_labels = get_converted_coswara_audio_files(\n",
    "    n_filenames, is_positive=False, convert_to_mel=True\n",
    ")\n",
    "\n",
    "p_virufy_mels, p_virufy_labels = get_converted_virufy_audio_files(\n",
    "    is_positive=True, convert_to_mel=True\n",
    ")\n",
    "n_virufy_mels, n_virufy_labels = get_converted_virufy_audio_files(\n",
    "    is_positive=False, convert_to_mel=True\n",
    ")\n",
    "\n",
    "\n",
    "mels = np.concatenate(\n",
    "    (p_coswara_mels, n_coswara_mels, p_virufy_mels, n_virufy_mels)\n",
    ")\n",
    "labels = np.concatenate(\n",
    "    (p_coswara_labels, n_coswara_labels, p_virufy_labels, n_virufy_labels)\n",
    ")"
   ]
  },
  {
   "cell_type": "markdown",
   "metadata": {},
   "source": [
    "# 2. Schritt: Aufteilen der Daten in Trainings- und Testdaten"
   ]
  },
  {
   "cell_type": "code",
   "execution_count": 17,
   "metadata": {},
   "outputs": [],
   "source": [
    "from sklearn.model_selection import train_test_split\n",
    "from tensorflow.keras.utils import to_categorical\n",
    "\n",
    "# Labels in One-Hot-Encoding umwandeln\n",
    "labels = to_categorical(labels, num_classes=len(labels_dict))\n",
    "\n",
    "# Train-Test-Split durchführen\n",
    "mel_train, mel_test, labels_train, labels_test = train_test_split(\n",
    "    mels, labels, test_size=0.2, random_state=42\n",
    ")\n",
    "mel_train = mels\n",
    "labels_train = labels\n",
    "\n",
    "# print(\n",
    "#     f\"\"\"mel_train.shape: {mel_train.shape},\n",
    "#     labels_train.shape: {labels_train.shape}\"\"\"\n",
    "# )\n",
    "# print(\n",
    "#     f\"\"\"mel_test.shape: {mel_test.shape},\n",
    "#     labels_test.shape: {labels_test.shape}\"\"\"\n",
    "# )"
   ]
  },
  {
   "cell_type": "markdown",
   "metadata": {},
   "source": [
    "# 3. Schritt: CNN-Modelle erstellen"
   ]
  },
  {
   "cell_type": "code",
   "execution_count": 18,
   "metadata": {},
   "outputs": [],
   "source": [
    "# Konfiguration des Trainingsprozesses\n",
    "BATCH_SIZE = 64\n",
    "EPOCHS = 20\n",
    "ACTIVATION_1 = \"relu\"\n",
    "ACTIVATION_2 = \"softmax\"\n",
    "METRIC = \"accuracy\"\n",
    "LOSS = \"categorical_crossentropy\"\n",
    "OPTIMIZER = \"adam\""
   ]
  },
  {
   "cell_type": "code",
   "execution_count": 19,
   "metadata": {},
   "outputs": [],
   "source": [
    "from tensorflow.keras.layers import Conv1D\n",
    "from tensorflow.keras.layers import Dense\n",
    "from tensorflow.keras.layers import Flatten\n",
    "from tensorflow.keras.layers import MaxPooling1D\n",
    "from tensorflow.keras.models import Sequential\n",
    "\n",
    "\n",
    "def build_cnn(*, include_future: bool) -> Sequential:\n",
    "    \"\"\"Erstellt ein CNN-Modell, das auf den Mel-Spektrogrammen trainiert wird.\n",
    "\n",
    "    :param include_future: Boolean, ob die Zukunft berücksichtigt werden soll\n",
    "    :return: CNN-Modell (TensorFlow Sequential Model)\n",
    "    \"\"\"\n",
    "    # CNN-Modell wird definiert\n",
    "    model = Sequential()\n",
    "\n",
    "    # Eingabeform: (128, 128, 1)\n",
    "    input_shape = mel_train[0].shape\n",
    "\n",
    "    padding_value = \"valid\"\n",
    "    if not include_future:\n",
    "        padding_value = \"causal\"\n",
    "\n",
    "    # Convolutional-Schicht\n",
    "    # 32 Filter (Merkmale), Kernelgröße 3, Aktivierungsfunktion ReLU\n",
    "    model.add(\n",
    "        Conv1D(\n",
    "            32,\n",
    "            kernel_size=3,\n",
    "            activation=ACTIVATION_1,\n",
    "            input_shape=(input_shape),\n",
    "            padding=padding_value,\n",
    "        )\n",
    "    )\n",
    "\n",
    "    # MaxPooling-Schicht\n",
    "    # Reduziert die Größe der Ausgabe, indem es die höchsten Werte\n",
    "    # aus 2 Blöcken auswählt\n",
    "    model.add(MaxPooling1D(pool_size=2))\n",
    "\n",
    "    # Convolutional-Schicht\n",
    "    # 64 Filter (Merkmale), Kernelgröße 3, Aktivierungsfunktion ReLU\n",
    "    model.add(\n",
    "        Conv1D(\n",
    "            64, kernel_size=3, activation=ACTIVATION_1, padding=padding_value\n",
    "        )\n",
    "    )\n",
    "\n",
    "    # Wandelt die mehrdimensionale Ausgabe in einen Vektor um\n",
    "    model.add(Flatten())\n",
    "\n",
    "    # Dense-Schicht\n",
    "    # 64 Neuronen, Aktivierungsfunktion ReLU (Führt Klassifizierungslogik durch)\n",
    "    model.add(Dense(64, activation=ACTIVATION_1))\n",
    "\n",
    "    # Dropout-Schicht\n",
    "    # Ausgabeschicht mit einer Neuronanzahl, die der\n",
    "    # Anzahl der Klassen (2 für positiv/negativ) entspricht.\n",
    "    model.add(Dense(len(labels_dict), activation=ACTIVATION_2))\n",
    "    # model.summary()\n",
    "    return model"
   ]
  },
  {
   "cell_type": "markdown",
   "metadata": {},
   "source": [
    "# 3.1. Schritt: CNN mit kausaler Faltung"
   ]
  },
  {
   "cell_type": "code",
   "execution_count": 20,
   "metadata": {},
   "outputs": [],
   "source": [
    "causal_model = build_cnn(include_future=False)"
   ]
  },
  {
   "cell_type": "markdown",
   "metadata": {},
   "source": [
    "# 3.2. Schritt: CNN mit normaler Faltung"
   ]
  },
  {
   "cell_type": "code",
   "execution_count": 21,
   "metadata": {},
   "outputs": [],
   "source": [
    "model = build_cnn(include_future=True)"
   ]
  },
  {
   "cell_type": "markdown",
   "metadata": {},
   "source": [
    "# 4. Modell kompilieren"
   ]
  },
  {
   "cell_type": "code",
   "execution_count": 22,
   "metadata": {},
   "outputs": [],
   "source": [
    "# Modelle werden für das Training vorbereitet\n",
    "# Optimierungsalgorithmus: Adam (Optimierungsalgorithmus) (Wie werden die\n",
    "# Gewichte angepasst)\n",
    "# Verlustfunktion: Categorical Crossentropy (Wie werden die Fehler berechnet)\n",
    "# Metrik: Genauigkeit (Welche Metrik wird zur Bewertung des Modells verwendet)\n",
    "causal_model.compile(optimizer=OPTIMIZER, loss=LOSS, metrics=[METRIC])\n",
    "model.compile(optimizer=OPTIMIZER, loss=LOSS, metrics=[METRIC])"
   ]
  },
  {
   "cell_type": "markdown",
   "metadata": {},
   "source": [
    "#  5 Schritt: W&B Project initialisieren und Modell trainieren"
   ]
  },
  {
   "cell_type": "code",
   "execution_count": 23,
   "metadata": {},
   "outputs": [],
   "source": [
    "def train_and_wandbLog(\n",
    "    model, mel_train, labels_train, mel_test, labels_test, *, with_future: bool\n",
    "):\n",
    "    \"\"\"Trainiert das Modell und loggt die Metriken in Weights & Biases.\n",
    "\n",
    "    :param model: Modell, das trainiert werden soll\n",
    "    :param mel_train: Trainingsdaten (Mel-Spektrogramme oder MFCCs)\n",
    "    :param labels_train: Trainingsdaten (Labels)\n",
    "    :param mel_test: Testdaten (Mel-Spektrogramme oder MFCCs)\n",
    "    :param labels_test: Testdaten (Labels)\n",
    "    :param with_future: Boolean, ob die Zukunft berücksichtigt werden soll\n",
    "    :return: History-Objekt des Trainingsprozesses\n",
    "    \"\"\"\n",
    "    import wandb\n",
    "\n",
    "    wandb.init(\n",
    "        project=\"cnn_covid_audio_classification\",\n",
    "        config={\n",
    "            \"batch_size\": BATCH_SIZE,\n",
    "            \"epochs\": EPOCHS,\n",
    "            \"architecture\": \"CNN\",\n",
    "            \"dataset\": \"coswara + virufy\",\n",
    "            \"activation_1\": ACTIVATION_1,\n",
    "            \"activation_2\": ACTIVATION_2,\n",
    "            \"metric\": METRIC,\n",
    "            \"loss\": LOSS,\n",
    "            \"optimizer\": OPTIMIZER,\n",
    "        },\n",
    "    )\n",
    "\n",
    "    # WandB Run Name setzen\n",
    "    FUTURE = \"FUTURE\" if with_future else \"NO_FUTURE\"\n",
    "    wandb.run.name = f\"{FUTURE}_batch_size_{BATCH_SIZE}_epochs_{EPOCHS}_activation_1_{ACTIVATION_1}_activation_2_{ACTIVATION_2}_metric_{METRIC}_loss_{LOSS}_optimizer_{OPTIMIZER}\"\n",
    "\n",
    "    history = model.fit(\n",
    "        mel_train,\n",
    "        labels_train,\n",
    "        epochs=EPOCHS,\n",
    "        batch_size=BATCH_SIZE,\n",
    "        validation_data=(mel_test, labels_test),\n",
    "        callbacks=[\n",
    "            wandb.keras.WandbMetricsLogger(log_freq=5),\n",
    "            wandb.keras.WandbModelCheckpoint(\"models\"),\n",
    "        ],\n",
    "    )\n",
    "\n",
    "    wandb.finish()\n",
    "    return history"
   ]
  },
  {
   "cell_type": "code",
   "execution_count": 24,
   "metadata": {},
   "outputs": [
    {
     "data": {
      "text/html": [
       "Tracking run with wandb version 0.19.1"
      ],
      "text/plain": [
       "<IPython.core.display.HTML object>"
      ]
     },
     "metadata": {},
     "output_type": "display_data"
    },
    {
     "data": {
      "text/html": [
       "Run data is saved locally in <code>/Users/paula/Documents/thm/pki/code/00_CNN/wandb/run-20241216_235149-01i47se1</code>"
      ],
      "text/plain": [
       "<IPython.core.display.HTML object>"
      ]
     },
     "metadata": {},
     "output_type": "display_data"
    },
    {
     "data": {
      "text/html": [
       "Syncing run <strong><a href='https://wandb.ai/paula-schwalm-technische-hochschule-mittelhessen-thm/cnn_covid_audio_classification/runs/01i47se1' target=\"_blank\">cosmic-jazz-3</a></strong> to <a href='https://wandb.ai/paula-schwalm-technische-hochschule-mittelhessen-thm/cnn_covid_audio_classification' target=\"_blank\">Weights & Biases</a> (<a href='https://wandb.me/developer-guide' target=\"_blank\">docs</a>)<br>"
      ],
      "text/plain": [
       "<IPython.core.display.HTML object>"
      ]
     },
     "metadata": {},
     "output_type": "display_data"
    },
    {
     "data": {
      "text/html": [
       " View project at <a href='https://wandb.ai/paula-schwalm-technische-hochschule-mittelhessen-thm/cnn_covid_audio_classification' target=\"_blank\">https://wandb.ai/paula-schwalm-technische-hochschule-mittelhessen-thm/cnn_covid_audio_classification</a>"
      ],
      "text/plain": [
       "<IPython.core.display.HTML object>"
      ]
     },
     "metadata": {},
     "output_type": "display_data"
    },
    {
     "data": {
      "text/html": [
       " View run at <a href='https://wandb.ai/paula-schwalm-technische-hochschule-mittelhessen-thm/cnn_covid_audio_classification/runs/01i47se1' target=\"_blank\">https://wandb.ai/paula-schwalm-technische-hochschule-mittelhessen-thm/cnn_covid_audio_classification/runs/01i47se1</a>"
      ],
      "text/plain": [
       "<IPython.core.display.HTML object>"
      ]
     },
     "metadata": {},
     "output_type": "display_data"
    },
    {
     "name": "stdout",
     "output_type": "stream",
     "text": [
      "Epoch 1/20\n",
      "59/71 [=======================>......] - ETA: 0s - loss: 2.5858 - accuracy: 0.6504"
     ]
    },
    {
     "name": "stderr",
     "output_type": "stream",
     "text": [
      "WARNING:absl:Found untraced functions such as _jit_compiled_convolution_op, _jit_compiled_convolution_op while saving (showing 2 of 2). These functions will not be directly callable after loading.\n"
     ]
    },
    {
     "name": "stdout",
     "output_type": "stream",
     "text": [
      "INFO:tensorflow:Assets written to: models/assets\n"
     ]
    },
    {
     "name": "stderr",
     "output_type": "stream",
     "text": [
      "INFO:tensorflow:Assets written to: models/assets\n",
      "\u001b[34m\u001b[1mwandb\u001b[0m: Adding directory to artifact (./models)... Done. 0.0s\n"
     ]
    },
    {
     "name": "stdout",
     "output_type": "stream",
     "text": [
      "71/71 [==============================] - 2s 17ms/step - loss: 2.2559 - accuracy: 0.6584 - val_loss: 0.6292 - val_accuracy: 0.6759\n",
      "Epoch 2/20\n",
      "67/71 [===========================>..] - ETA: 0s - loss: 0.6068 - accuracy: 0.6996"
     ]
    },
    {
     "name": "stderr",
     "output_type": "stream",
     "text": [
      "WARNING:absl:Found untraced functions such as _jit_compiled_convolution_op, _jit_compiled_convolution_op while saving (showing 2 of 2). These functions will not be directly callable after loading.\n"
     ]
    },
    {
     "name": "stdout",
     "output_type": "stream",
     "text": [
      "INFO:tensorflow:Assets written to: models/assets\n"
     ]
    },
    {
     "name": "stderr",
     "output_type": "stream",
     "text": [
      "INFO:tensorflow:Assets written to: models/assets\n",
      "\u001b[34m\u001b[1mwandb\u001b[0m: Adding directory to artifact (./models)... Done. 0.0s\n"
     ]
    },
    {
     "name": "stdout",
     "output_type": "stream",
     "text": [
      "71/71 [==============================] - 1s 16ms/step - loss: 0.6071 - accuracy: 0.6968 - val_loss: 0.5974 - val_accuracy: 0.6759\n",
      "Epoch 3/20\n",
      "63/71 [=========================>....] - ETA: 0s - loss: 0.5731 - accuracy: 0.7073"
     ]
    },
    {
     "name": "stderr",
     "output_type": "stream",
     "text": [
      "WARNING:absl:Found untraced functions such as _jit_compiled_convolution_op, _jit_compiled_convolution_op while saving (showing 2 of 2). These functions will not be directly callable after loading.\n"
     ]
    },
    {
     "name": "stdout",
     "output_type": "stream",
     "text": [
      "INFO:tensorflow:Assets written to: models/assets\n"
     ]
    },
    {
     "name": "stderr",
     "output_type": "stream",
     "text": [
      "INFO:tensorflow:Assets written to: models/assets\n",
      "\u001b[34m\u001b[1mwandb\u001b[0m: Adding directory to artifact (./models)... Done. 0.0s\n"
     ]
    },
    {
     "name": "stdout",
     "output_type": "stream",
     "text": [
      "71/71 [==============================] - 1s 19ms/step - loss: 0.5756 - accuracy: 0.7074 - val_loss: 0.5844 - val_accuracy: 0.7233\n",
      "Epoch 4/20\n",
      "66/71 [==========================>...] - ETA: 0s - loss: 0.5828 - accuracy: 0.7000"
     ]
    },
    {
     "name": "stderr",
     "output_type": "stream",
     "text": [
      "WARNING:absl:Found untraced functions such as _jit_compiled_convolution_op, _jit_compiled_convolution_op while saving (showing 2 of 2). These functions will not be directly callable after loading.\n"
     ]
    },
    {
     "name": "stdout",
     "output_type": "stream",
     "text": [
      "INFO:tensorflow:Assets written to: models/assets\n"
     ]
    },
    {
     "name": "stderr",
     "output_type": "stream",
     "text": [
      "INFO:tensorflow:Assets written to: models/assets\n",
      "\u001b[34m\u001b[1mwandb\u001b[0m: Adding directory to artifact (./models)... Done. 0.0s\n"
     ]
    },
    {
     "name": "stdout",
     "output_type": "stream",
     "text": [
      "71/71 [==============================] - 1s 14ms/step - loss: 0.5792 - accuracy: 0.7032 - val_loss: 0.6111 - val_accuracy: 0.6792\n",
      "Epoch 5/20\n",
      "62/71 [=========================>....] - ETA: 0s - loss: 0.5665 - accuracy: 0.7188"
     ]
    },
    {
     "name": "stderr",
     "output_type": "stream",
     "text": [
      "WARNING:absl:Found untraced functions such as _jit_compiled_convolution_op, _jit_compiled_convolution_op while saving (showing 2 of 2). These functions will not be directly callable after loading.\n"
     ]
    },
    {
     "name": "stdout",
     "output_type": "stream",
     "text": [
      "INFO:tensorflow:Assets written to: models/assets\n"
     ]
    },
    {
     "name": "stderr",
     "output_type": "stream",
     "text": [
      "INFO:tensorflow:Assets written to: models/assets\n",
      "\u001b[34m\u001b[1mwandb\u001b[0m: Adding directory to artifact (./models)... Done. 0.0s\n"
     ]
    },
    {
     "name": "stdout",
     "output_type": "stream",
     "text": [
      "71/71 [==============================] - 1s 15ms/step - loss: 0.5619 - accuracy: 0.7235 - val_loss: 0.5745 - val_accuracy: 0.6913\n",
      "Epoch 6/20\n",
      "68/71 [===========================>..] - ETA: 0s - loss: 0.5628 - accuracy: 0.7213"
     ]
    },
    {
     "name": "stderr",
     "output_type": "stream",
     "text": [
      "WARNING:absl:Found untraced functions such as _jit_compiled_convolution_op, _jit_compiled_convolution_op while saving (showing 2 of 2). These functions will not be directly callable after loading.\n"
     ]
    },
    {
     "name": "stdout",
     "output_type": "stream",
     "text": [
      "INFO:tensorflow:Assets written to: models/assets\n"
     ]
    },
    {
     "name": "stderr",
     "output_type": "stream",
     "text": [
      "INFO:tensorflow:Assets written to: models/assets\n",
      "\u001b[34m\u001b[1mwandb\u001b[0m: Adding directory to artifact (./models)... Done. 0.0s\n"
     ]
    },
    {
     "name": "stdout",
     "output_type": "stream",
     "text": [
      "71/71 [==============================] - 1s 14ms/step - loss: 0.5632 - accuracy: 0.7211 - val_loss: 0.5654 - val_accuracy: 0.7178\n",
      "Epoch 7/20\n",
      "64/71 [==========================>...] - ETA: 0s - loss: 0.5567 - accuracy: 0.7249"
     ]
    },
    {
     "name": "stderr",
     "output_type": "stream",
     "text": [
      "WARNING:absl:Found untraced functions such as _jit_compiled_convolution_op, _jit_compiled_convolution_op while saving (showing 2 of 2). These functions will not be directly callable after loading.\n"
     ]
    },
    {
     "name": "stdout",
     "output_type": "stream",
     "text": [
      "INFO:tensorflow:Assets written to: models/assets\n"
     ]
    },
    {
     "name": "stderr",
     "output_type": "stream",
     "text": [
      "INFO:tensorflow:Assets written to: models/assets\n",
      "\u001b[34m\u001b[1mwandb\u001b[0m: Adding directory to artifact (./models)... Done. 0.0s\n"
     ]
    },
    {
     "name": "stdout",
     "output_type": "stream",
     "text": [
      "71/71 [==============================] - 1s 14ms/step - loss: 0.5582 - accuracy: 0.7235 - val_loss: 0.5721 - val_accuracy: 0.7133\n",
      "Epoch 8/20\n",
      "65/71 [==========================>...] - ETA: 0s - loss: 0.5499 - accuracy: 0.7320"
     ]
    },
    {
     "name": "stderr",
     "output_type": "stream",
     "text": [
      "WARNING:absl:Found untraced functions such as _jit_compiled_convolution_op, _jit_compiled_convolution_op while saving (showing 2 of 2). These functions will not be directly callable after loading.\n"
     ]
    },
    {
     "name": "stdout",
     "output_type": "stream",
     "text": [
      "INFO:tensorflow:Assets written to: models/assets\n"
     ]
    },
    {
     "name": "stderr",
     "output_type": "stream",
     "text": [
      "INFO:tensorflow:Assets written to: models/assets\n",
      "\u001b[34m\u001b[1mwandb\u001b[0m: Adding directory to artifact (./models)... Done. 0.0s\n"
     ]
    },
    {
     "name": "stdout",
     "output_type": "stream",
     "text": [
      "71/71 [==============================] - 1s 14ms/step - loss: 0.5485 - accuracy: 0.7325 - val_loss: 0.5565 - val_accuracy: 0.7189\n",
      "Epoch 9/20\n",
      "64/71 [==========================>...] - ETA: 0s - loss: 0.5454 - accuracy: 0.7388"
     ]
    },
    {
     "name": "stderr",
     "output_type": "stream",
     "text": [
      "WARNING:absl:Found untraced functions such as _jit_compiled_convolution_op, _jit_compiled_convolution_op while saving (showing 2 of 2). These functions will not be directly callable after loading.\n"
     ]
    },
    {
     "name": "stdout",
     "output_type": "stream",
     "text": [
      "INFO:tensorflow:Assets written to: models/assets\n"
     ]
    },
    {
     "name": "stderr",
     "output_type": "stream",
     "text": [
      "INFO:tensorflow:Assets written to: models/assets\n",
      "\u001b[34m\u001b[1mwandb\u001b[0m: Adding directory to artifact (./models)... Done. 0.0s\n"
     ]
    },
    {
     "name": "stdout",
     "output_type": "stream",
     "text": [
      "71/71 [==============================] - 1s 15ms/step - loss: 0.5485 - accuracy: 0.7350 - val_loss: 0.5566 - val_accuracy: 0.7255\n",
      "Epoch 10/20\n",
      "68/71 [===========================>..] - ETA: 0s - loss: 0.5399 - accuracy: 0.7429"
     ]
    },
    {
     "name": "stderr",
     "output_type": "stream",
     "text": [
      "WARNING:absl:Found untraced functions such as _jit_compiled_convolution_op, _jit_compiled_convolution_op while saving (showing 2 of 2). These functions will not be directly callable after loading.\n"
     ]
    },
    {
     "name": "stdout",
     "output_type": "stream",
     "text": [
      "INFO:tensorflow:Assets written to: models/assets\n"
     ]
    },
    {
     "name": "stderr",
     "output_type": "stream",
     "text": [
      "INFO:tensorflow:Assets written to: models/assets\n",
      "\u001b[34m\u001b[1mwandb\u001b[0m: Adding directory to artifact (./models)... Done. 0.0s\n"
     ]
    },
    {
     "name": "stdout",
     "output_type": "stream",
     "text": [
      "71/71 [==============================] - 1s 14ms/step - loss: 0.5422 - accuracy: 0.7407 - val_loss: 0.5867 - val_accuracy: 0.7023\n",
      "Epoch 11/20\n",
      "66/71 [==========================>...] - ETA: 0s - loss: 0.5480 - accuracy: 0.7332"
     ]
    },
    {
     "name": "stderr",
     "output_type": "stream",
     "text": [
      "WARNING:absl:Found untraced functions such as _jit_compiled_convolution_op, _jit_compiled_convolution_op while saving (showing 2 of 2). These functions will not be directly callable after loading.\n"
     ]
    },
    {
     "name": "stdout",
     "output_type": "stream",
     "text": [
      "INFO:tensorflow:Assets written to: models/assets\n"
     ]
    },
    {
     "name": "stderr",
     "output_type": "stream",
     "text": [
      "INFO:tensorflow:Assets written to: models/assets\n",
      "\u001b[34m\u001b[1mwandb\u001b[0m: Adding directory to artifact (./models)... Done. 0.0s\n"
     ]
    },
    {
     "name": "stdout",
     "output_type": "stream",
     "text": [
      "71/71 [==============================] - 1s 15ms/step - loss: 0.5492 - accuracy: 0.7316 - val_loss: 0.5513 - val_accuracy: 0.7233\n",
      "Epoch 12/20\n",
      "68/71 [===========================>..] - ETA: 0s - loss: 0.5392 - accuracy: 0.7369"
     ]
    },
    {
     "name": "stderr",
     "output_type": "stream",
     "text": [
      "WARNING:absl:Found untraced functions such as _jit_compiled_convolution_op, _jit_compiled_convolution_op while saving (showing 2 of 2). These functions will not be directly callable after loading.\n"
     ]
    },
    {
     "name": "stdout",
     "output_type": "stream",
     "text": [
      "INFO:tensorflow:Assets written to: models/assets\n"
     ]
    },
    {
     "name": "stderr",
     "output_type": "stream",
     "text": [
      "INFO:tensorflow:Assets written to: models/assets\n",
      "\u001b[34m\u001b[1mwandb\u001b[0m: Adding directory to artifact (./models)... Done. 0.0s\n"
     ]
    },
    {
     "name": "stdout",
     "output_type": "stream",
     "text": [
      "71/71 [==============================] - 1s 15ms/step - loss: 0.5394 - accuracy: 0.7365 - val_loss: 0.5438 - val_accuracy: 0.7189\n",
      "Epoch 13/20\n",
      "69/71 [============================>.] - ETA: 0s - loss: 0.5337 - accuracy: 0.7371"
     ]
    },
    {
     "name": "stderr",
     "output_type": "stream",
     "text": [
      "WARNING:absl:Found untraced functions such as _jit_compiled_convolution_op, _jit_compiled_convolution_op while saving (showing 2 of 2). These functions will not be directly callable after loading.\n"
     ]
    },
    {
     "name": "stdout",
     "output_type": "stream",
     "text": [
      "INFO:tensorflow:Assets written to: models/assets\n"
     ]
    },
    {
     "name": "stderr",
     "output_type": "stream",
     "text": [
      "INFO:tensorflow:Assets written to: models/assets\n",
      "\u001b[34m\u001b[1mwandb\u001b[0m: Adding directory to artifact (./models)... Done. 0.0s\n"
     ]
    },
    {
     "name": "stdout",
     "output_type": "stream",
     "text": [
      "71/71 [==============================] - 1s 17ms/step - loss: 0.5340 - accuracy: 0.7358 - val_loss: 0.5515 - val_accuracy: 0.7111\n",
      "Epoch 14/20\n",
      "69/71 [============================>.] - ETA: 0s - loss: 0.5385 - accuracy: 0.7351"
     ]
    },
    {
     "name": "stderr",
     "output_type": "stream",
     "text": [
      "WARNING:absl:Found untraced functions such as _jit_compiled_convolution_op, _jit_compiled_convolution_op while saving (showing 2 of 2). These functions will not be directly callable after loading.\n"
     ]
    },
    {
     "name": "stdout",
     "output_type": "stream",
     "text": [
      "INFO:tensorflow:Assets written to: models/assets\n"
     ]
    },
    {
     "name": "stderr",
     "output_type": "stream",
     "text": [
      "INFO:tensorflow:Assets written to: models/assets\n",
      "\u001b[34m\u001b[1mwandb\u001b[0m: Adding directory to artifact (./models)... Done. 0.0s\n"
     ]
    },
    {
     "name": "stdout",
     "output_type": "stream",
     "text": [
      "71/71 [==============================] - 1s 14ms/step - loss: 0.5379 - accuracy: 0.7356 - val_loss: 0.5448 - val_accuracy: 0.7299\n",
      "Epoch 15/20\n",
      "66/71 [==========================>...] - ETA: 0s - loss: 0.5293 - accuracy: 0.7434"
     ]
    },
    {
     "name": "stderr",
     "output_type": "stream",
     "text": [
      "WARNING:absl:Found untraced functions such as _jit_compiled_convolution_op, _jit_compiled_convolution_op while saving (showing 2 of 2). These functions will not be directly callable after loading.\n"
     ]
    },
    {
     "name": "stdout",
     "output_type": "stream",
     "text": [
      "INFO:tensorflow:Assets written to: models/assets\n"
     ]
    },
    {
     "name": "stderr",
     "output_type": "stream",
     "text": [
      "INFO:tensorflow:Assets written to: models/assets\n",
      "\u001b[34m\u001b[1mwandb\u001b[0m: Adding directory to artifact (./models)... Done. 0.1s\n"
     ]
    },
    {
     "name": "stdout",
     "output_type": "stream",
     "text": [
      "71/71 [==============================] - 1s 15ms/step - loss: 0.5299 - accuracy: 0.7429 - val_loss: 0.5426 - val_accuracy: 0.7166\n",
      "Epoch 16/20\n",
      "64/71 [==========================>...] - ETA: 0s - loss: 0.5261 - accuracy: 0.7493"
     ]
    },
    {
     "name": "stderr",
     "output_type": "stream",
     "text": [
      "WARNING:absl:Found untraced functions such as _jit_compiled_convolution_op, _jit_compiled_convolution_op while saving (showing 2 of 2). These functions will not be directly callable after loading.\n"
     ]
    },
    {
     "name": "stdout",
     "output_type": "stream",
     "text": [
      "INFO:tensorflow:Assets written to: models/assets\n"
     ]
    },
    {
     "name": "stderr",
     "output_type": "stream",
     "text": [
      "INFO:tensorflow:Assets written to: models/assets\n",
      "\u001b[34m\u001b[1mwandb\u001b[0m: Adding directory to artifact (./models)... Done. 0.0s\n"
     ]
    },
    {
     "name": "stdout",
     "output_type": "stream",
     "text": [
      "71/71 [==============================] - 1s 14ms/step - loss: 0.5268 - accuracy: 0.7471 - val_loss: 0.5278 - val_accuracy: 0.7288\n",
      "Epoch 17/20\n",
      "58/71 [=======================>......] - ETA: 0s - loss: 0.5231 - accuracy: 0.7384"
     ]
    },
    {
     "name": "stderr",
     "output_type": "stream",
     "text": [
      "WARNING:absl:Found untraced functions such as _jit_compiled_convolution_op, _jit_compiled_convolution_op while saving (showing 2 of 2). These functions will not be directly callable after loading.\n"
     ]
    },
    {
     "name": "stdout",
     "output_type": "stream",
     "text": [
      "INFO:tensorflow:Assets written to: models/assets\n"
     ]
    },
    {
     "name": "stderr",
     "output_type": "stream",
     "text": [
      "INFO:tensorflow:Assets written to: models/assets\n",
      "\u001b[34m\u001b[1mwandb\u001b[0m: Adding directory to artifact (./models)... Done. 0.0s\n"
     ]
    },
    {
     "name": "stdout",
     "output_type": "stream",
     "text": [
      "71/71 [==============================] - 1s 14ms/step - loss: 0.5273 - accuracy: 0.7376 - val_loss: 0.5340 - val_accuracy: 0.7255\n",
      "Epoch 18/20\n",
      "70/71 [============================>.] - ETA: 0s - loss: 0.5227 - accuracy: 0.7446"
     ]
    },
    {
     "name": "stderr",
     "output_type": "stream",
     "text": [
      "WARNING:absl:Found untraced functions such as _jit_compiled_convolution_op, _jit_compiled_convolution_op while saving (showing 2 of 2). These functions will not be directly callable after loading.\n"
     ]
    },
    {
     "name": "stdout",
     "output_type": "stream",
     "text": [
      "INFO:tensorflow:Assets written to: models/assets\n"
     ]
    },
    {
     "name": "stderr",
     "output_type": "stream",
     "text": [
      "INFO:tensorflow:Assets written to: models/assets\n",
      "\u001b[34m\u001b[1mwandb\u001b[0m: Adding directory to artifact (./models)... Done. 0.0s\n"
     ]
    },
    {
     "name": "stdout",
     "output_type": "stream",
     "text": [
      "71/71 [==============================] - 1s 14ms/step - loss: 0.5225 - accuracy: 0.7451 - val_loss: 0.5377 - val_accuracy: 0.7089\n",
      "Epoch 19/20\n",
      "60/71 [========================>.....] - ETA: 0s - loss: 0.5089 - accuracy: 0.7576"
     ]
    },
    {
     "name": "stderr",
     "output_type": "stream",
     "text": [
      "WARNING:absl:Found untraced functions such as _jit_compiled_convolution_op, _jit_compiled_convolution_op while saving (showing 2 of 2). These functions will not be directly callable after loading.\n"
     ]
    },
    {
     "name": "stdout",
     "output_type": "stream",
     "text": [
      "INFO:tensorflow:Assets written to: models/assets\n"
     ]
    },
    {
     "name": "stderr",
     "output_type": "stream",
     "text": [
      "INFO:tensorflow:Assets written to: models/assets\n",
      "\u001b[34m\u001b[1mwandb\u001b[0m: Adding directory to artifact (./models)... Done. 0.0s\n"
     ]
    },
    {
     "name": "stdout",
     "output_type": "stream",
     "text": [
      "71/71 [==============================] - 1s 14ms/step - loss: 0.5128 - accuracy: 0.7530 - val_loss: 0.5154 - val_accuracy: 0.7321\n",
      "Epoch 20/20\n",
      "69/71 [============================>.] - ETA: 0s - loss: 0.5105 - accuracy: 0.7477"
     ]
    },
    {
     "name": "stderr",
     "output_type": "stream",
     "text": [
      "WARNING:absl:Found untraced functions such as _jit_compiled_convolution_op, _jit_compiled_convolution_op while saving (showing 2 of 2). These functions will not be directly callable after loading.\n"
     ]
    },
    {
     "name": "stdout",
     "output_type": "stream",
     "text": [
      "INFO:tensorflow:Assets written to: models/assets\n"
     ]
    },
    {
     "name": "stderr",
     "output_type": "stream",
     "text": [
      "INFO:tensorflow:Assets written to: models/assets\n",
      "\u001b[34m\u001b[1mwandb\u001b[0m: Adding directory to artifact (./models)... Done. 0.0s\n"
     ]
    },
    {
     "name": "stdout",
     "output_type": "stream",
     "text": [
      "71/71 [==============================] - 1s 13ms/step - loss: 0.5096 - accuracy: 0.7475 - val_loss: 0.5162 - val_accuracy: 0.7409\n"
     ]
    },
    {
     "data": {
      "text/html": [],
      "text/plain": [
       "<IPython.core.display.HTML object>"
      ]
     },
     "metadata": {},
     "output_type": "display_data"
    },
    {
     "data": {
      "text/html": [
       "<br>    <style><br>        .wandb-row {<br>            display: flex;<br>            flex-direction: row;<br>            flex-wrap: wrap;<br>            justify-content: flex-start;<br>            width: 100%;<br>        }<br>        .wandb-col {<br>            display: flex;<br>            flex-direction: column;<br>            flex-basis: 100%;<br>            flex: 1;<br>            padding: 10px;<br>        }<br>    </style><br><div class=\"wandb-row\"><div class=\"wandb-col\"><h3>Run history:</h3><br/><table class=\"wandb\"><tr><td>batch/accuracy</td><td>▁▃▄▄▄▆▆▆▅▅▆▆▆▆▆▆█▆▇▇▆▇▇▇▇▇▇▇▇▇▇▇▇█▇▇██▇▇</td></tr><tr><td>batch/batch_step</td><td>▁▁▁▂▂▂▂▂▂▂▂▂▂▂▃▃▃▄▄▄▄▄▄▅▅▅▅▆▆▆▆▇▇▇▇▇████</td></tr><tr><td>batch/learning_rate</td><td>▁▁▁▁▁▁▁▁▁▁▁▁▁▁▁▁▁▁▁▁▁▁▁▁▁▁▁▁▁▁▁▁▁▁▁▁▁▁▁▁</td></tr><tr><td>batch/loss</td><td>█▁▁▁▁▁▁▁▁▁▁▁▁▁▁▁▁▁▁▁▁▁▁▁▁▁▁▁▁▁▁▁▁▁▁▁▁▁▁▁</td></tr><tr><td>epoch/accuracy</td><td>▁▄▅▄▆▆▆▆▇▇▆▇▇▇▇█▇▇██</td></tr><tr><td>epoch/epoch</td><td>▁▁▂▂▂▃▃▄▄▄▅▅▅▆▆▇▇▇██</td></tr><tr><td>epoch/learning_rate</td><td>▁▁▁▁▁▁▁▁▁▁▁▁▁▁▁▁▁▁▁▁</td></tr><tr><td>epoch/loss</td><td>█▁▁▁▁▁▁▁▁▁▁▁▁▁▁▁▁▁▁▁</td></tr><tr><td>epoch/val_accuracy</td><td>▁▁▆▁▃▆▅▆▆▄▆▆▅▇▅▇▆▅▇█</td></tr><tr><td>epoch/val_loss</td><td>█▆▅▇▅▄▄▄▄▅▃▃▃▃▃▂▂▂▁▁</td></tr></table><br/></div><div class=\"wandb-col\"><h3>Run summary:</h3><br/><table class=\"wandb\"><tr><td>batch/accuracy</td><td>0.74752</td></tr><tr><td>batch/batch_step</td><td>1495</td></tr><tr><td>batch/learning_rate</td><td>0.001</td></tr><tr><td>batch/loss</td><td>0.5096</td></tr><tr><td>epoch/accuracy</td><td>0.74752</td></tr><tr><td>epoch/epoch</td><td>19</td></tr><tr><td>epoch/learning_rate</td><td>0.001</td></tr><tr><td>epoch/loss</td><td>0.5096</td></tr><tr><td>epoch/val_accuracy</td><td>0.7409</td></tr><tr><td>epoch/val_loss</td><td>0.51616</td></tr></table><br/></div></div>"
      ],
      "text/plain": [
       "<IPython.core.display.HTML object>"
      ]
     },
     "metadata": {},
     "output_type": "display_data"
    },
    {
     "data": {
      "text/html": [
       " View run <strong style=\"color:#cdcd00\">FUTURE_batch_size_64_epochs_20_activation_1_relu_activation_2_softmax_metric_accuracy_loss_categorical_crossentropy_optimizer_adam</strong> at: <a href='https://wandb.ai/paula-schwalm-technische-hochschule-mittelhessen-thm/cnn_covid_audio_classification/runs/01i47se1' target=\"_blank\">https://wandb.ai/paula-schwalm-technische-hochschule-mittelhessen-thm/cnn_covid_audio_classification/runs/01i47se1</a><br> View project at: <a href='https://wandb.ai/paula-schwalm-technische-hochschule-mittelhessen-thm/cnn_covid_audio_classification' target=\"_blank\">https://wandb.ai/paula-schwalm-technische-hochschule-mittelhessen-thm/cnn_covid_audio_classification</a><br>Synced 5 W&B file(s), 0 media file(s), 81 artifact file(s) and 0 other file(s)"
      ],
      "text/plain": [
       "<IPython.core.display.HTML object>"
      ]
     },
     "metadata": {},
     "output_type": "display_data"
    },
    {
     "data": {
      "text/html": [
       "Find logs at: <code>./wandb/run-20241216_235149-01i47se1/logs</code>"
      ],
      "text/plain": [
       "<IPython.core.display.HTML object>"
      ]
     },
     "metadata": {},
     "output_type": "display_data"
    },
    {
     "data": {
      "text/html": [
       "Tracking run with wandb version 0.19.1"
      ],
      "text/plain": [
       "<IPython.core.display.HTML object>"
      ]
     },
     "metadata": {},
     "output_type": "display_data"
    },
    {
     "data": {
      "text/html": [
       "Run data is saved locally in <code>/Users/paula/Documents/thm/pki/code/00_CNN/wandb/run-20241216_235300-xj3996bi</code>"
      ],
      "text/plain": [
       "<IPython.core.display.HTML object>"
      ]
     },
     "metadata": {},
     "output_type": "display_data"
    },
    {
     "data": {
      "text/html": [
       "Syncing run <strong><a href='https://wandb.ai/paula-schwalm-technische-hochschule-mittelhessen-thm/cnn_covid_audio_classification/runs/xj3996bi' target=\"_blank\">stellar-valley-4</a></strong> to <a href='https://wandb.ai/paula-schwalm-technische-hochschule-mittelhessen-thm/cnn_covid_audio_classification' target=\"_blank\">Weights & Biases</a> (<a href='https://wandb.me/developer-guide' target=\"_blank\">docs</a>)<br>"
      ],
      "text/plain": [
       "<IPython.core.display.HTML object>"
      ]
     },
     "metadata": {},
     "output_type": "display_data"
    },
    {
     "data": {
      "text/html": [
       " View project at <a href='https://wandb.ai/paula-schwalm-technische-hochschule-mittelhessen-thm/cnn_covid_audio_classification' target=\"_blank\">https://wandb.ai/paula-schwalm-technische-hochschule-mittelhessen-thm/cnn_covid_audio_classification</a>"
      ],
      "text/plain": [
       "<IPython.core.display.HTML object>"
      ]
     },
     "metadata": {},
     "output_type": "display_data"
    },
    {
     "data": {
      "text/html": [
       " View run at <a href='https://wandb.ai/paula-schwalm-technische-hochschule-mittelhessen-thm/cnn_covid_audio_classification/runs/xj3996bi' target=\"_blank\">https://wandb.ai/paula-schwalm-technische-hochschule-mittelhessen-thm/cnn_covid_audio_classification/runs/xj3996bi</a>"
      ],
      "text/plain": [
       "<IPython.core.display.HTML object>"
      ]
     },
     "metadata": {},
     "output_type": "display_data"
    },
    {
     "name": "stdout",
     "output_type": "stream",
     "text": [
      "Epoch 1/20\n",
      "63/71 [=========================>....] - ETA: 0s - loss: 1.6424 - accuracy: 0.6761"
     ]
    },
    {
     "name": "stderr",
     "output_type": "stream",
     "text": [
      "WARNING:absl:Found untraced functions such as _jit_compiled_convolution_op, _jit_compiled_convolution_op while saving (showing 2 of 2). These functions will not be directly callable after loading.\n"
     ]
    },
    {
     "name": "stdout",
     "output_type": "stream",
     "text": [
      "INFO:tensorflow:Assets written to: models/assets\n"
     ]
    },
    {
     "name": "stderr",
     "output_type": "stream",
     "text": [
      "INFO:tensorflow:Assets written to: models/assets\n",
      "\u001b[34m\u001b[1mwandb\u001b[0m: Adding directory to artifact (./models)... Done. 0.0s\n"
     ]
    },
    {
     "name": "stdout",
     "output_type": "stream",
     "text": [
      "71/71 [==============================] - 1s 16ms/step - loss: 1.5279 - accuracy: 0.6785 - val_loss: 0.5970 - val_accuracy: 0.6759\n",
      "Epoch 2/20\n",
      "65/71 [==========================>...] - ETA: 0s - loss: 0.5886 - accuracy: 0.6993"
     ]
    },
    {
     "name": "stderr",
     "output_type": "stream",
     "text": [
      "WARNING:absl:Found untraced functions such as _jit_compiled_convolution_op, _jit_compiled_convolution_op while saving (showing 2 of 2). These functions will not be directly callable after loading.\n"
     ]
    },
    {
     "name": "stdout",
     "output_type": "stream",
     "text": [
      "INFO:tensorflow:Assets written to: models/assets\n"
     ]
    },
    {
     "name": "stderr",
     "output_type": "stream",
     "text": [
      "INFO:tensorflow:Assets written to: models/assets\n",
      "\u001b[34m\u001b[1mwandb\u001b[0m: Adding directory to artifact (./models)... Done. 0.0s\n"
     ]
    },
    {
     "name": "stdout",
     "output_type": "stream",
     "text": [
      "71/71 [==============================] - 1s 18ms/step - loss: 0.5876 - accuracy: 0.7010 - val_loss: 0.5909 - val_accuracy: 0.6781\n",
      "Epoch 3/20\n",
      "60/71 [========================>.....] - ETA: 0s - loss: 0.5698 - accuracy: 0.7154"
     ]
    },
    {
     "name": "stderr",
     "output_type": "stream",
     "text": [
      "WARNING:absl:Found untraced functions such as _jit_compiled_convolution_op, _jit_compiled_convolution_op while saving (showing 2 of 2). These functions will not be directly callable after loading.\n"
     ]
    },
    {
     "name": "stdout",
     "output_type": "stream",
     "text": [
      "INFO:tensorflow:Assets written to: models/assets\n"
     ]
    },
    {
     "name": "stderr",
     "output_type": "stream",
     "text": [
      "INFO:tensorflow:Assets written to: models/assets\n",
      "\u001b[34m\u001b[1mwandb\u001b[0m: Adding directory to artifact (./models)... Done. 0.0s\n"
     ]
    },
    {
     "name": "stdout",
     "output_type": "stream",
     "text": [
      "71/71 [==============================] - 1s 14ms/step - loss: 0.5729 - accuracy: 0.7127 - val_loss: 0.5717 - val_accuracy: 0.7023\n",
      "Epoch 4/20\n",
      "66/71 [==========================>...] - ETA: 0s - loss: 0.5599 - accuracy: 0.7133"
     ]
    },
    {
     "name": "stderr",
     "output_type": "stream",
     "text": [
      "WARNING:absl:Found untraced functions such as _jit_compiled_convolution_op, _jit_compiled_convolution_op while saving (showing 2 of 2). These functions will not be directly callable after loading.\n"
     ]
    },
    {
     "name": "stdout",
     "output_type": "stream",
     "text": [
      "INFO:tensorflow:Assets written to: models/assets\n"
     ]
    },
    {
     "name": "stderr",
     "output_type": "stream",
     "text": [
      "INFO:tensorflow:Assets written to: models/assets\n",
      "\u001b[34m\u001b[1mwandb\u001b[0m: Adding directory to artifact (./models)... Done. 0.0s\n"
     ]
    },
    {
     "name": "stdout",
     "output_type": "stream",
     "text": [
      "71/71 [==============================] - 1s 14ms/step - loss: 0.5579 - accuracy: 0.7136 - val_loss: 0.5957 - val_accuracy: 0.6869\n",
      "Epoch 5/20\n",
      "66/71 [==========================>...] - ETA: 0s - loss: 0.5574 - accuracy: 0.7249"
     ]
    },
    {
     "name": "stderr",
     "output_type": "stream",
     "text": [
      "WARNING:absl:Found untraced functions such as _jit_compiled_convolution_op, _jit_compiled_convolution_op while saving (showing 2 of 2). These functions will not be directly callable after loading.\n"
     ]
    },
    {
     "name": "stdout",
     "output_type": "stream",
     "text": [
      "INFO:tensorflow:Assets written to: models/assets\n"
     ]
    },
    {
     "name": "stderr",
     "output_type": "stream",
     "text": [
      "INFO:tensorflow:Assets written to: models/assets\n",
      "\u001b[34m\u001b[1mwandb\u001b[0m: Adding directory to artifact (./models)... Done. 0.0s\n"
     ]
    },
    {
     "name": "stdout",
     "output_type": "stream",
     "text": [
      "71/71 [==============================] - 1s 14ms/step - loss: 0.5559 - accuracy: 0.7248 - val_loss: 0.5631 - val_accuracy: 0.7056\n",
      "Epoch 6/20\n",
      "65/71 [==========================>...] - ETA: 0s - loss: 0.5543 - accuracy: 0.7298"
     ]
    },
    {
     "name": "stderr",
     "output_type": "stream",
     "text": [
      "WARNING:absl:Found untraced functions such as _jit_compiled_convolution_op, _jit_compiled_convolution_op while saving (showing 2 of 2). These functions will not be directly callable after loading.\n"
     ]
    },
    {
     "name": "stdout",
     "output_type": "stream",
     "text": [
      "INFO:tensorflow:Assets written to: models/assets\n"
     ]
    },
    {
     "name": "stderr",
     "output_type": "stream",
     "text": [
      "INFO:tensorflow:Assets written to: models/assets\n",
      "\u001b[34m\u001b[1mwandb\u001b[0m: Adding directory to artifact (./models)... Done. 0.0s\n"
     ]
    },
    {
     "name": "stdout",
     "output_type": "stream",
     "text": [
      "71/71 [==============================] - 1s 15ms/step - loss: 0.5533 - accuracy: 0.7301 - val_loss: 0.5635 - val_accuracy: 0.7056\n",
      "Epoch 7/20\n",
      "66/71 [==========================>...] - ETA: 0s - loss: 0.5507 - accuracy: 0.7188"
     ]
    },
    {
     "name": "stderr",
     "output_type": "stream",
     "text": [
      "WARNING:absl:Found untraced functions such as _jit_compiled_convolution_op, _jit_compiled_convolution_op while saving (showing 2 of 2). These functions will not be directly callable after loading.\n"
     ]
    },
    {
     "name": "stdout",
     "output_type": "stream",
     "text": [
      "INFO:tensorflow:Assets written to: models/assets\n"
     ]
    },
    {
     "name": "stderr",
     "output_type": "stream",
     "text": [
      "INFO:tensorflow:Assets written to: models/assets\n",
      "\u001b[34m\u001b[1mwandb\u001b[0m: Adding directory to artifact (./models)... Done. 0.0s\n"
     ]
    },
    {
     "name": "stdout",
     "output_type": "stream",
     "text": [
      "71/71 [==============================] - 1s 13ms/step - loss: 0.5494 - accuracy: 0.7213 - val_loss: 0.5585 - val_accuracy: 0.7200\n",
      "Epoch 8/20\n",
      "60/71 [========================>.....] - ETA: 0s - loss: 0.5488 - accuracy: 0.7305"
     ]
    },
    {
     "name": "stderr",
     "output_type": "stream",
     "text": [
      "WARNING:absl:Found untraced functions such as _jit_compiled_convolution_op, _jit_compiled_convolution_op while saving (showing 2 of 2). These functions will not be directly callable after loading.\n"
     ]
    },
    {
     "name": "stdout",
     "output_type": "stream",
     "text": [
      "INFO:tensorflow:Assets written to: models/assets\n"
     ]
    },
    {
     "name": "stderr",
     "output_type": "stream",
     "text": [
      "INFO:tensorflow:Assets written to: models/assets\n",
      "\u001b[34m\u001b[1mwandb\u001b[0m: Adding directory to artifact (./models)... Done. 0.0s\n"
     ]
    },
    {
     "name": "stdout",
     "output_type": "stream",
     "text": [
      "71/71 [==============================] - 1s 15ms/step - loss: 0.5427 - accuracy: 0.7374 - val_loss: 0.5481 - val_accuracy: 0.7255\n",
      "Epoch 9/20\n",
      "65/71 [==========================>...] - ETA: 0s - loss: 0.5350 - accuracy: 0.7425"
     ]
    },
    {
     "name": "stderr",
     "output_type": "stream",
     "text": [
      "WARNING:absl:Found untraced functions such as _jit_compiled_convolution_op, _jit_compiled_convolution_op while saving (showing 2 of 2). These functions will not be directly callable after loading.\n"
     ]
    },
    {
     "name": "stdout",
     "output_type": "stream",
     "text": [
      "INFO:tensorflow:Assets written to: models/assets\n"
     ]
    },
    {
     "name": "stderr",
     "output_type": "stream",
     "text": [
      "INFO:tensorflow:Assets written to: models/assets\n",
      "\u001b[34m\u001b[1mwandb\u001b[0m: Adding directory to artifact (./models)... Done. 0.0s\n"
     ]
    },
    {
     "name": "stdout",
     "output_type": "stream",
     "text": [
      "71/71 [==============================] - 1s 14ms/step - loss: 0.5370 - accuracy: 0.7420 - val_loss: 0.5429 - val_accuracy: 0.7200\n",
      "Epoch 10/20\n",
      "65/71 [==========================>...] - ETA: 0s - loss: 0.5300 - accuracy: 0.7445"
     ]
    },
    {
     "name": "stderr",
     "output_type": "stream",
     "text": [
      "WARNING:absl:Found untraced functions such as _jit_compiled_convolution_op, _jit_compiled_convolution_op while saving (showing 2 of 2). These functions will not be directly callable after loading.\n"
     ]
    },
    {
     "name": "stdout",
     "output_type": "stream",
     "text": [
      "INFO:tensorflow:Assets written to: models/assets\n"
     ]
    },
    {
     "name": "stderr",
     "output_type": "stream",
     "text": [
      "INFO:tensorflow:Assets written to: models/assets\n",
      "\u001b[34m\u001b[1mwandb\u001b[0m: Adding directory to artifact (./models)... Done. 0.0s\n"
     ]
    },
    {
     "name": "stdout",
     "output_type": "stream",
     "text": [
      "71/71 [==============================] - 1s 13ms/step - loss: 0.5318 - accuracy: 0.7429 - val_loss: 0.5465 - val_accuracy: 0.7222\n",
      "Epoch 11/20\n",
      "65/71 [==========================>...] - ETA: 0s - loss: 0.5327 - accuracy: 0.7411"
     ]
    },
    {
     "name": "stderr",
     "output_type": "stream",
     "text": [
      "WARNING:absl:Found untraced functions such as _jit_compiled_convolution_op, _jit_compiled_convolution_op while saving (showing 2 of 2). These functions will not be directly callable after loading.\n"
     ]
    },
    {
     "name": "stdout",
     "output_type": "stream",
     "text": [
      "INFO:tensorflow:Assets written to: models/assets\n"
     ]
    },
    {
     "name": "stderr",
     "output_type": "stream",
     "text": [
      "INFO:tensorflow:Assets written to: models/assets\n",
      "\u001b[34m\u001b[1mwandb\u001b[0m: Adding directory to artifact (./models)... Done. 0.0s\n"
     ]
    },
    {
     "name": "stdout",
     "output_type": "stream",
     "text": [
      "71/71 [==============================] - 1s 14ms/step - loss: 0.5334 - accuracy: 0.7411 - val_loss: 0.5420 - val_accuracy: 0.7321\n",
      "Epoch 12/20\n",
      "65/71 [==========================>...] - ETA: 0s - loss: 0.5235 - accuracy: 0.7437"
     ]
    },
    {
     "name": "stderr",
     "output_type": "stream",
     "text": [
      "WARNING:absl:Found untraced functions such as _jit_compiled_convolution_op, _jit_compiled_convolution_op while saving (showing 2 of 2). These functions will not be directly callable after loading.\n"
     ]
    },
    {
     "name": "stdout",
     "output_type": "stream",
     "text": [
      "INFO:tensorflow:Assets written to: models/assets\n"
     ]
    },
    {
     "name": "stderr",
     "output_type": "stream",
     "text": [
      "INFO:tensorflow:Assets written to: models/assets\n",
      "\u001b[34m\u001b[1mwandb\u001b[0m: Adding directory to artifact (./models)... Done. 0.0s\n"
     ]
    },
    {
     "name": "stdout",
     "output_type": "stream",
     "text": [
      "71/71 [==============================] - 1s 17ms/step - loss: 0.5273 - accuracy: 0.7427 - val_loss: 0.5410 - val_accuracy: 0.7233\n",
      "Epoch 13/20\n",
      "67/71 [===========================>..] - ETA: 0s - loss: 0.5229 - accuracy: 0.7449"
     ]
    },
    {
     "name": "stderr",
     "output_type": "stream",
     "text": [
      "WARNING:absl:Found untraced functions such as _jit_compiled_convolution_op, _jit_compiled_convolution_op while saving (showing 2 of 2). These functions will not be directly callable after loading.\n"
     ]
    },
    {
     "name": "stdout",
     "output_type": "stream",
     "text": [
      "INFO:tensorflow:Assets written to: models/assets\n"
     ]
    },
    {
     "name": "stderr",
     "output_type": "stream",
     "text": [
      "INFO:tensorflow:Assets written to: models/assets\n",
      "\u001b[34m\u001b[1mwandb\u001b[0m: Adding directory to artifact (./models)... Done. 0.0s\n"
     ]
    },
    {
     "name": "stdout",
     "output_type": "stream",
     "text": [
      "71/71 [==============================] - 1s 14ms/step - loss: 0.5219 - accuracy: 0.7466 - val_loss: 0.5295 - val_accuracy: 0.7155\n",
      "Epoch 14/20\n",
      "66/71 [==========================>...] - ETA: 0s - loss: 0.5202 - accuracy: 0.7474"
     ]
    },
    {
     "name": "stderr",
     "output_type": "stream",
     "text": [
      "WARNING:absl:Found untraced functions such as _jit_compiled_convolution_op, _jit_compiled_convolution_op while saving (showing 2 of 2). These functions will not be directly callable after loading.\n"
     ]
    },
    {
     "name": "stdout",
     "output_type": "stream",
     "text": [
      "INFO:tensorflow:Assets written to: models/assets\n"
     ]
    },
    {
     "name": "stderr",
     "output_type": "stream",
     "text": [
      "INFO:tensorflow:Assets written to: models/assets\n",
      "\u001b[34m\u001b[1mwandb\u001b[0m: Adding directory to artifact (./models)... Done. 0.0s\n"
     ]
    },
    {
     "name": "stdout",
     "output_type": "stream",
     "text": [
      "71/71 [==============================] - 1s 14ms/step - loss: 0.5217 - accuracy: 0.7460 - val_loss: 0.5252 - val_accuracy: 0.7332\n",
      "Epoch 15/20\n",
      "61/71 [========================>.....] - ETA: 0s - loss: 0.5142 - accuracy: 0.7464"
     ]
    },
    {
     "name": "stderr",
     "output_type": "stream",
     "text": [
      "WARNING:absl:Found untraced functions such as _jit_compiled_convolution_op, _jit_compiled_convolution_op while saving (showing 2 of 2). These functions will not be directly callable after loading.\n"
     ]
    },
    {
     "name": "stdout",
     "output_type": "stream",
     "text": [
      "INFO:tensorflow:Assets written to: models/assets\n"
     ]
    },
    {
     "name": "stderr",
     "output_type": "stream",
     "text": [
      "INFO:tensorflow:Assets written to: models/assets\n",
      "\u001b[34m\u001b[1mwandb\u001b[0m: Adding directory to artifact (./models)... Done. 0.0s\n"
     ]
    },
    {
     "name": "stdout",
     "output_type": "stream",
     "text": [
      "71/71 [==============================] - 1s 15ms/step - loss: 0.5172 - accuracy: 0.7475 - val_loss: 0.5120 - val_accuracy: 0.7497\n",
      "Epoch 16/20\n",
      "62/71 [=========================>....] - ETA: 0s - loss: 0.5058 - accuracy: 0.7515"
     ]
    },
    {
     "name": "stderr",
     "output_type": "stream",
     "text": [
      "WARNING:absl:Found untraced functions such as _jit_compiled_convolution_op, _jit_compiled_convolution_op while saving (showing 2 of 2). These functions will not be directly callable after loading.\n"
     ]
    },
    {
     "name": "stdout",
     "output_type": "stream",
     "text": [
      "INFO:tensorflow:Assets written to: models/assets\n"
     ]
    },
    {
     "name": "stderr",
     "output_type": "stream",
     "text": [
      "INFO:tensorflow:Assets written to: models/assets\n",
      "\u001b[34m\u001b[1mwandb\u001b[0m: Adding directory to artifact (./models)... Done. 0.0s\n"
     ]
    },
    {
     "name": "stdout",
     "output_type": "stream",
     "text": [
      "71/71 [==============================] - 1s 14ms/step - loss: 0.5097 - accuracy: 0.7495 - val_loss: 0.5299 - val_accuracy: 0.7288\n",
      "Epoch 17/20\n",
      "68/71 [===========================>..] - ETA: 0s - loss: 0.5076 - accuracy: 0.7528"
     ]
    },
    {
     "name": "stderr",
     "output_type": "stream",
     "text": [
      "WARNING:absl:Found untraced functions such as _jit_compiled_convolution_op, _jit_compiled_convolution_op while saving (showing 2 of 2). These functions will not be directly callable after loading.\n"
     ]
    },
    {
     "name": "stdout",
     "output_type": "stream",
     "text": [
      "INFO:tensorflow:Assets written to: models/assets\n"
     ]
    },
    {
     "name": "stderr",
     "output_type": "stream",
     "text": [
      "INFO:tensorflow:Assets written to: models/assets\n",
      "\u001b[34m\u001b[1mwandb\u001b[0m: Adding directory to artifact (./models)... Done. 0.0s\n"
     ]
    },
    {
     "name": "stdout",
     "output_type": "stream",
     "text": [
      "71/71 [==============================] - 1s 16ms/step - loss: 0.5065 - accuracy: 0.7528 - val_loss: 0.5214 - val_accuracy: 0.7155\n",
      "Epoch 18/20\n",
      "69/71 [============================>.] - ETA: 0s - loss: 0.5032 - accuracy: 0.7559"
     ]
    },
    {
     "name": "stderr",
     "output_type": "stream",
     "text": [
      "WARNING:absl:Found untraced functions such as _jit_compiled_convolution_op, _jit_compiled_convolution_op while saving (showing 2 of 2). These functions will not be directly callable after loading.\n"
     ]
    },
    {
     "name": "stdout",
     "output_type": "stream",
     "text": [
      "INFO:tensorflow:Assets written to: models/assets\n"
     ]
    },
    {
     "name": "stderr",
     "output_type": "stream",
     "text": [
      "INFO:tensorflow:Assets written to: models/assets\n",
      "\u001b[34m\u001b[1mwandb\u001b[0m: Adding directory to artifact (./models)... Done. 0.0s\n"
     ]
    },
    {
     "name": "stdout",
     "output_type": "stream",
     "text": [
      "71/71 [==============================] - 1s 16ms/step - loss: 0.5036 - accuracy: 0.7552 - val_loss: 0.5050 - val_accuracy: 0.7343\n",
      "Epoch 19/20\n",
      "60/71 [========================>.....] - ETA: 0s - loss: 0.4994 - accuracy: 0.7573"
     ]
    },
    {
     "name": "stderr",
     "output_type": "stream",
     "text": [
      "WARNING:absl:Found untraced functions such as _jit_compiled_convolution_op, _jit_compiled_convolution_op while saving (showing 2 of 2). These functions will not be directly callable after loading.\n"
     ]
    },
    {
     "name": "stdout",
     "output_type": "stream",
     "text": [
      "INFO:tensorflow:Assets written to: models/assets\n"
     ]
    },
    {
     "name": "stderr",
     "output_type": "stream",
     "text": [
      "INFO:tensorflow:Assets written to: models/assets\n",
      "\u001b[34m\u001b[1mwandb\u001b[0m: Adding directory to artifact (./models)... Done. 0.0s\n"
     ]
    },
    {
     "name": "stdout",
     "output_type": "stream",
     "text": [
      "71/71 [==============================] - 1s 16ms/step - loss: 0.4947 - accuracy: 0.7574 - val_loss: 0.4993 - val_accuracy: 0.7530\n",
      "Epoch 20/20\n",
      "67/71 [===========================>..] - ETA: 0s - loss: 0.4856 - accuracy: 0.7652"
     ]
    },
    {
     "name": "stderr",
     "output_type": "stream",
     "text": [
      "WARNING:absl:Found untraced functions such as _jit_compiled_convolution_op, _jit_compiled_convolution_op while saving (showing 2 of 2). These functions will not be directly callable after loading.\n"
     ]
    },
    {
     "name": "stdout",
     "output_type": "stream",
     "text": [
      "INFO:tensorflow:Assets written to: models/assets\n"
     ]
    },
    {
     "name": "stderr",
     "output_type": "stream",
     "text": [
      "INFO:tensorflow:Assets written to: models/assets\n",
      "\u001b[34m\u001b[1mwandb\u001b[0m: Adding directory to artifact (./models)... Done. 0.0s\n"
     ]
    },
    {
     "name": "stdout",
     "output_type": "stream",
     "text": [
      "71/71 [==============================] - 1s 15ms/step - loss: 0.4874 - accuracy: 0.7636 - val_loss: 0.5018 - val_accuracy: 0.7530\n"
     ]
    },
    {
     "data": {
      "text/html": [],
      "text/plain": [
       "<IPython.core.display.HTML object>"
      ]
     },
     "metadata": {},
     "output_type": "display_data"
    },
    {
     "data": {
      "text/html": [
       "<br>    <style><br>        .wandb-row {<br>            display: flex;<br>            flex-direction: row;<br>            flex-wrap: wrap;<br>            justify-content: flex-start;<br>            width: 100%;<br>        }<br>        .wandb-col {<br>            display: flex;<br>            flex-direction: column;<br>            flex-basis: 100%;<br>            flex: 1;<br>            padding: 10px;<br>        }<br>    </style><br><div class=\"wandb-row\"><div class=\"wandb-col\"><h3>Run history:</h3><br/><table class=\"wandb\"><tr><td>batch/accuracy</td><td>▃▄▄▅▆▅▆▆▆▆▆▆▆▇▇▇▇▃██▇▇█▇▇█▇▇▁█▇▅██▇██▁▇█</td></tr><tr><td>batch/batch_step</td><td>▁▁▁▁▁▂▂▂▃▃▃▃▄▄▄▄▄▄▄▄▅▅▅▅▅▆▆▆▆▆▆▇▇▇▇▇▇███</td></tr><tr><td>batch/learning_rate</td><td>▁▁▁▁▁▁▁▁▁▁▁▁▁▁▁▁▁▁▁▁▁▁▁▁▁▁▁▁▁▁▁▁▁▁▁▁▁▁▁▁</td></tr><tr><td>batch/loss</td><td>█▇▆▁▁▁▁▁▁▁▁▁▁▁▁▁▁▁▁▁▁▁▁▁▁▁▁▁▁▁▁▁▁▁▁▁▁▁▁▁</td></tr><tr><td>epoch/accuracy</td><td>▁▃▄▄▅▅▅▆▆▆▆▆▇▇▇▇▇▇▇█</td></tr><tr><td>epoch/epoch</td><td>▁▁▂▂▂▃▃▄▄▄▅▅▅▆▆▇▇▇██</td></tr><tr><td>epoch/learning_rate</td><td>▁▁▁▁▁▁▁▁▁▁▁▁▁▁▁▁▁▁▁▁</td></tr><tr><td>epoch/loss</td><td>█▂▂▁▁▁▁▁▁▁▁▁▁▁▁▁▁▁▁▁</td></tr><tr><td>epoch/val_accuracy</td><td>▁▁▃▂▄▄▅▆▅▅▆▅▅▆█▆▅▆██</td></tr><tr><td>epoch/val_loss</td><td>██▆█▆▆▅▄▄▄▄▄▃▃▂▃▃▁▁▁</td></tr></table><br/></div><div class=\"wandb-col\"><h3>Run summary:</h3><br/><table class=\"wandb\"><tr><td>batch/accuracy</td><td>0.76362</td></tr><tr><td>batch/batch_step</td><td>1495</td></tr><tr><td>batch/learning_rate</td><td>0.001</td></tr><tr><td>batch/loss</td><td>0.48738</td></tr><tr><td>epoch/accuracy</td><td>0.76362</td></tr><tr><td>epoch/epoch</td><td>19</td></tr><tr><td>epoch/learning_rate</td><td>0.001</td></tr><tr><td>epoch/loss</td><td>0.48738</td></tr><tr><td>epoch/val_accuracy</td><td>0.75303</td></tr><tr><td>epoch/val_loss</td><td>0.50182</td></tr></table><br/></div></div>"
      ],
      "text/plain": [
       "<IPython.core.display.HTML object>"
      ]
     },
     "metadata": {},
     "output_type": "display_data"
    },
    {
     "data": {
      "text/html": [
       " View run <strong style=\"color:#cdcd00\">NO_FUTURE_batch_size_64_epochs_20_activation_1_relu_activation_2_softmax_metric_accuracy_loss_categorical_crossentropy_optimizer_adam</strong> at: <a href='https://wandb.ai/paula-schwalm-technische-hochschule-mittelhessen-thm/cnn_covid_audio_classification/runs/xj3996bi' target=\"_blank\">https://wandb.ai/paula-schwalm-technische-hochschule-mittelhessen-thm/cnn_covid_audio_classification/runs/xj3996bi</a><br> View project at: <a href='https://wandb.ai/paula-schwalm-technische-hochschule-mittelhessen-thm/cnn_covid_audio_classification' target=\"_blank\">https://wandb.ai/paula-schwalm-technische-hochschule-mittelhessen-thm/cnn_covid_audio_classification</a><br>Synced 5 W&B file(s), 0 media file(s), 81 artifact file(s) and 0 other file(s)"
      ],
      "text/plain": [
       "<IPython.core.display.HTML object>"
      ]
     },
     "metadata": {},
     "output_type": "display_data"
    },
    {
     "data": {
      "text/html": [
       "Find logs at: <code>./wandb/run-20241216_235300-xj3996bi/logs</code>"
      ],
      "text/plain": [
       "<IPython.core.display.HTML object>"
      ]
     },
     "metadata": {},
     "output_type": "display_data"
    }
   ],
   "source": [
    "# Training des Modells\n",
    "history = train_and_wandbLog(\n",
    "    model, mel_train, labels_train, mel_test, labels_test, with_future=True\n",
    ")\n",
    "causal_history = train_and_wandbLog(\n",
    "    causal_model,\n",
    "    mel_train,\n",
    "    labels_train,\n",
    "    mel_test,\n",
    "    labels_test,\n",
    "    with_future=False,\n",
    ")"
   ]
  },
  {
   "cell_type": "markdown",
   "metadata": {},
   "source": [
    "# 6. Evaluation"
   ]
  },
  {
   "cell_type": "code",
   "execution_count": 27,
   "metadata": {},
   "outputs": [
    {
     "data": {
      "image/png": "[encoded data removed]",
      "text/plain": [
       "<Figure size 432x288 with 1 Axes>"
      ]
     },
     "metadata": {
      "needs_background": "light"
     },
     "output_type": "display_data"
    },
    {
     "name": "stdout",
     "output_type": "stream",
     "text": [
      "29/29 - 0s - loss: 0.5162 - accuracy: 0.7409 - 49ms/epoch - 2ms/step\n",
      "Main Model Test Accuracy: 0.7409\n",
      "Main Model Test Loss: 0.5162\n"
     ]
    },
    {
     "data": {
      "image/png": "[encoded data removed]",
      "text/plain": [
       "<Figure size 432x288 with 1 Axes>"
      ]
     },
     "metadata": {
      "needs_background": "light"
     },
     "output_type": "display_data"
    },
    {
     "name": "stdout",
     "output_type": "stream",
     "text": [
      "29/29 - 0s - loss: 0.5018 - accuracy: 0.7530 - 49ms/epoch - 2ms/step\n",
      "Causal Model Test Accuracy: 0.7530\n",
      "Causal Model Test Loss: 0.5018\n"
     ]
    }
   ],
   "source": [
    "import matplotlib.pyplot as plt\n",
    "\n",
    "\n",
    "def plot_accuracy_and_evaluate(\n",
    "    model: Sequential,\n",
    "    history: Sequential,\n",
    "    mel_test: dict,\n",
    "    labels_test: dict,\n",
    "    model_name: str = \"Model\",\n",
    ") -> None:\n",
    "    \"\"\"Plottet die Trainings- und Validierungsgenauigkeit.\n",
    "\n",
    "    :param model: Modell, das evaluiert werden soll\n",
    "    :param history: Trainingshistorie des Modells\n",
    "    :param mel_test: Testdaten (Mel-Spektrogramme)\n",
    "    :param labels_test: Testlabels\n",
    "    :param model_name: Name des Modells\n",
    "    \"\"\"\n",
    "    plt.plot(history.history[\"accuracy\"], label=\"Train Accuracy\")\n",
    "    plt.plot(history.history[\"val_accuracy\"], label=\"Validation Accuracy\")\n",
    "    plt.xlabel(\"Epoch\")\n",
    "    plt.ylabel(\"Accuracy\")\n",
    "    plt.ylim([0.5, 1])\n",
    "    plt.title(f\"{model_name} Accuracy over Epochs\")\n",
    "    plt.legend(loc=\"lower right\")\n",
    "    plt.show()\n",
    "\n",
    "    test_loss, test_acc = model.evaluate(mel_test, labels_test, verbose=2)\n",
    "    print(f\"{model_name} Test Accuracy: {test_acc:.4f}\")\n",
    "    print(f\"{model_name} Test Loss: {test_loss:.4f}\")\n",
    "\n",
    "\n",
    "# Beispielaufruf für das Standardmodell\n",
    "plot_accuracy_and_evaluate(\n",
    "    model, history, mel_test, labels_test, model_name=\"Main Model\"\n",
    ")\n",
    "\n",
    "# Beispielaufruf für das Causal Modell\n",
    "plot_accuracy_and_evaluate(\n",
    "    causal_model,\n",
    "    causal_history,\n",
    "    mel_test,\n",
    "    labels_test,\n",
    "    model_name=\"Causal Model\",\n",
    ")"
   ]
  }
 ],
 "metadata": {
  "kernelspec": {
   "display_name": "Python 3",
   "language": "python",
   "name": "python3"
  },
  "language_info": {
   "codemirror_mode": {
    "name": "ipython",
    "version": 3
   },
   "file_extension": ".py",
   "mimetype": "text/x-python",
   "name": "python",
   "nbconvert_exporter": "python",
   "pygments_lexer": "ipython3",
   "version": "3.9.12"
  }
 },
 "nbformat": 4,
 "nbformat_minor": 2
}
